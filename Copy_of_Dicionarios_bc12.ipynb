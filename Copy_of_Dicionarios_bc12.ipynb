{
  "nbformat": 4,
  "nbformat_minor": 0,
  "metadata": {
    "colab": {
      "name": "Copy of Dicionarios_bc12.ipynb",
      "provenance": [],
      "include_colab_link": true
    },
    "kernelspec": {
      "name": "python3",
      "display_name": "Python 3"
    },
    "language_info": {
      "name": "python"
    }
  },
  "cells": [
    {
      "cell_type": "markdown",
      "metadata": {
        "id": "view-in-github",
        "colab_type": "text"
      },
      "source": [
        "<a href=\"https://colab.research.google.com/github/eumoas/Data-Engineer/blob/main/Copy_of_Dicionarios_bc12.ipynb\" target=\"_parent\"><img src=\"https://colab.research.google.com/assets/colab-badge.svg\" alt=\"Open In Colab\"/></a>"
      ]
    },
    {
      "cell_type": "code",
      "execution_count": null,
      "metadata": {
        "colab": {
          "base_uri": "https://localhost:8080/"
        },
        "id": "rwlFa12dk_ym",
        "outputId": "bb459eff-a44a-4491-eb0f-2f98822340b3"
      },
      "outputs": [
        {
          "output_type": "stream",
          "name": "stdout",
          "text": [
            "produto1\n",
            "valor1\n",
            "valor1\n",
            "10\n",
            "Golf\n",
            "Volkswagen\n",
            "GTI\n",
            "LTZ\n"
          ]
        }
      ],
      "source": [
        "#listas\n",
        "lista = ['produto1', 'produto2', 'produto3']\n",
        "\n",
        "print(lista[0])\n",
        "\n",
        "#Dicionários\n",
        "dicionario = {} #Forma de declarar um dicionário vazio\n",
        "\n",
        "dicionario2 = {'chave1':'valor1', 'chave2':'valor2', 'chave3':'valor3','chaven':'valorn'}\n",
        "print(dicionario2['chave1'])\n",
        "\n",
        "\n",
        "dicionario3 = {0: 'valor1', 1:'valor2', 3:'valor3'}\n",
        "print(dicionario3[0])\n",
        "\n",
        "dicionario4 = {3.4:10, 3.2:3.4}\n",
        "print(dicionario4[3.4])\n",
        "\n",
        "carros = {'nome':'Golf', 'marca':'Volkswagen', 'modelo':'GTI', 'ano':2022}\n",
        "print(carros['nome'])\n",
        "print(carros['marca'])\n",
        "print(carros[\"modelo\"])\n",
        "#print(carros['cor'])\n",
        "\n",
        "lista_carros = [\n",
        "      {'nome':'Golf', 'marca':'Volkswagen', 'modelo':'GTI'},\n",
        "      {'nome':'Corolla', 'marca':'Toyota', 'modelo':'XEI'},\n",
        "      {'nome':'Ônix', 'marca':'Chevrolet', 'modelo':'LTZ'},\n",
        "      {'nome':'Gol', 'marca':'Volkswagen', 'modelo':'Turbo'}          \n",
        "]\n",
        "print(lista_carros[2]['modelo'])"
      ]
    },
    {
      "cell_type": "code",
      "source": [
        "pessoas = {'nome':'Igor', 'idade': 26, \n",
        "           'cursos':['Engenheiro de Dados', 'Cientista de Dados', 'Analista de Dados']}\n",
        "\n",
        "print(pessoas['cursos'])\n",
        "\n",
        "print(pessoas['cursos'][1])\n",
        "\n",
        "pessoas['cursos'].append('Engenheiro Cloud')\n",
        "\n",
        "print(pessoas['cursos'])"
      ],
      "metadata": {
        "colab": {
          "base_uri": "https://localhost:8080/"
        },
        "id": "indr0pKatFWc",
        "outputId": "f46c331b-20e1-482a-aea7-a57628ad5383"
      },
      "execution_count": null,
      "outputs": [
        {
          "output_type": "stream",
          "name": "stdout",
          "text": [
            "['Engenheiro de Dados', 'Cientista de Dados', 'Analista de Dados']\n",
            "Cientista de Dados\n",
            "['Engenheiro de Dados', 'Cientista de Dados', 'Analista de Dados', 'Engenheiro Cloud']\n"
          ]
        }
      ]
    },
    {
      "cell_type": "code",
      "source": [
        "familia = {\n",
        "    'filho1' : {'nome':'Amanda', 'idade':7, 'ano_escola':1, 'cursos':{'nome_curso':'curso1'}},\n",
        "    'filho2':  {'nome':'Pedro', 'idade': 4, 'ano_escola': 'pre'},\n",
        "    'filho3':  {'nome': 'Jéssica', 'idade': 1, 'ano_escola': 0}\n",
        "}\n",
        "familia['filho1']['ano_escola']\n",
        "familia['filho1']['cursos']['nome_curso']\n",
        "\n",
        "print(familia)"
      ],
      "metadata": {
        "colab": {
          "base_uri": "https://localhost:8080/"
        },
        "id": "QLUopMYKvK0i",
        "outputId": "ad5e6bb0-fa80-494c-f6af-826faa6baf8d"
      },
      "execution_count": null,
      "outputs": [
        {
          "output_type": "stream",
          "name": "stdout",
          "text": [
            "{'filho1': {'nome': 'Amanda', 'idade': 7, 'ano_escola': 1, 'cursos': {'nome_curso': 'curso1'}}, 'filho2': {'nome': 'Pedro', 'idade': 4, 'ano_escola': 'pre'}, 'filho3': {'nome': 'Jéssica', 'idade': 1, 'ano_escola': 0}}\n"
          ]
        }
      ]
    },
    {
      "cell_type": "code",
      "source": [
        "#Acessar valor do dicionário\n",
        "carros = {'nome':'Golf', 'marca':'Volkswagen', 'modelo':'GTI', 'ano':2022}\n",
        "\n",
        "carros['nome']\n",
        "carros['ano'] = 2019 #Atualiza um valor já existente no dicionário\n",
        "\n",
        "carros['cor'] = 'Vermelho' #Insere um novo elemento chave->valor, pois 'cor' não existe\n",
        "\n",
        "#print(carros['valor']) #Erro ao printar, pois a chave 'valor' não existe\n",
        "\n",
        "print(carros)\n",
        "\n"
      ],
      "metadata": {
        "colab": {
          "base_uri": "https://localhost:8080/"
        },
        "id": "YQFPW4fC12dg",
        "outputId": "e483181a-8fa3-465a-8153-ef0c18613039"
      },
      "execution_count": null,
      "outputs": [
        {
          "output_type": "stream",
          "name": "stdout",
          "text": [
            "{'nome': 'Golf', 'marca': 'Volkswagen', 'modelo': 'GTI', 'ano': 2019, 'cor': 'Vermelho'}\n"
          ]
        }
      ]
    },
    {
      "cell_type": "code",
      "source": [
        "#FUNÇÕES DE DICIONÁRIOS\n",
        "\n",
        "#RETORNA AS CHAVES DO DICIONÁRIO\n",
        "print(carros.keys())\n",
        "\n",
        "#RETORNA OS VALORES DO DICIONÁRIO\n",
        "print(carros.values())\n",
        "\n",
        "#RETORNA UM CONJUNTO DE TODOS OS ITENS DO DICIONÁRIO, NA ESTRUTURA (CHAVE,VALOR)\n",
        "print(carros.items())"
      ],
      "metadata": {
        "colab": {
          "base_uri": "https://localhost:8080/"
        },
        "id": "MXvlMePc1_Nh",
        "outputId": "452c7ec7-7212-48ca-e081-b615e852d91e"
      },
      "execution_count": null,
      "outputs": [
        {
          "output_type": "stream",
          "name": "stdout",
          "text": [
            "dict_keys(['nome', 'marca', 'modelo', 'ano', 'cor'])\n",
            "dict_values(['Golf', 'Volkswagen', 'GTI', 2019, 'Vermelho'])\n",
            "dict_items([('nome', 'Golf'), ('marca', 'Volkswagen'), ('modelo', 'GTI'), ('ano', 2019), ('cor', 'Vermelho')])\n"
          ]
        }
      ]
    },
    {
      "cell_type": "code",
      "source": [
        "#PERCORRER OS VALORES DENTRO DE UM DICIONÁRIO\n",
        "\n",
        "#PERCORRER AS CHAVES DO DICIONÁRIO\n",
        "for chave in carros:\n",
        "  print(chave)\n",
        "\n",
        "#PERCORRER E MOSTRAR OS VALORES DO DICIONÁRIO\n",
        "for x in carros:\n",
        "  print(carros[x])\n",
        "\n"
      ],
      "metadata": {
        "colab": {
          "base_uri": "https://localhost:8080/"
        },
        "id": "ze0DM4fs5jjF",
        "outputId": "23637cd0-272b-4400-cb97-d0faa2fb4448"
      },
      "execution_count": null,
      "outputs": [
        {
          "output_type": "stream",
          "name": "stdout",
          "text": [
            "nome\n",
            "marca\n",
            "modelo\n",
            "ano\n",
            "cor\n",
            "Golf\n",
            "Volkswagen\n",
            "GTI\n",
            "2019\n",
            "Vermelho\n"
          ]
        }
      ]
    },
    {
      "cell_type": "code",
      "source": [
        "#PERCORRER AS CHAVES DO DICIONARIO\n",
        "for i in carros.keys():\n",
        "  print(i)\n",
        "\n",
        "#PERCORRER OS VALORES DO DICIONÁRIO\n",
        "for y in carros.values():\n",
        "  print(y)"
      ],
      "metadata": {
        "colab": {
          "base_uri": "https://localhost:8080/"
        },
        "id": "y3Xd0W6a7CpW",
        "outputId": "5d45acb9-4572-43ea-ca9a-87d566947b23"
      },
      "execution_count": null,
      "outputs": [
        {
          "output_type": "stream",
          "name": "stdout",
          "text": [
            "nome\n",
            "marca\n",
            "modelo\n",
            "ano\n",
            "cor\n",
            "Golf\n",
            "Volkswagen\n",
            "GTI\n",
            "2019\n",
            "Vermelho\n"
          ]
        }
      ]
    },
    {
      "cell_type": "code",
      "source": [
        "#PERCORRER O DICIONÁRIO RECEBENDO CHAVE E VALOR AO MESMO TEMPO\n",
        "for i, j in carros.items():\n",
        "  print(f'{i} ======= {j}')\n",
        "\n",
        "print(carros)"
      ],
      "metadata": {
        "colab": {
          "base_uri": "https://localhost:8080/"
        },
        "id": "d10Tj6b77mBz",
        "outputId": "ef89007c-2c70-4e9e-d71b-517bf82ff01b"
      },
      "execution_count": null,
      "outputs": [
        {
          "output_type": "stream",
          "name": "stdout",
          "text": [
            "nome ======= Golf\n",
            "marca ======= Volkswagen\n",
            "modelo ======= GTI\n",
            "ano ======= 2019\n",
            "cor ======= Vermelho\n",
            "{'nome': 'Golf', 'marca': 'Volkswagen', 'modelo': 'GTI', 'ano': 2019, 'cor': 'Vermelho'}\n"
          ]
        }
      ]
    },
    {
      "cell_type": "code",
      "source": [
        "#REMOVENDO ITENS DE UM DICIONÁRIO\n",
        "print(carros)\n",
        "\n",
        "#Remove o último elemento do dicionário\n",
        "#carros.popitem()\n",
        "carros.popitem()\n",
        "print(carros)\n",
        "\n",
        "#Remove um elemento qualquer pela chave\n",
        "\n",
        "x = carros.pop('ano')\n",
        "del carros['ano'] #FAZ A MESMA COISA DA LINHA 11\n",
        "\n",
        "print(carros)\n",
        "print(x)"
      ],
      "metadata": {
        "colab": {
          "base_uri": "https://localhost:8080/"
        },
        "id": "HnxdyEcd9ZZZ",
        "outputId": "416a3916-9bf1-49cb-8448-84d204992af6"
      },
      "execution_count": null,
      "outputs": [
        {
          "output_type": "stream",
          "name": "stdout",
          "text": [
            "{'ano': 2019, 'cor': 'Vermelho'}\n",
            "{'ano': 2019, 'cor': 'Vermelho'}\n",
            "{'cor': 'Vermelho'}\n",
            "2019\n"
          ]
        }
      ]
    },
    {
      "cell_type": "code",
      "source": [
        "#ALTERAR UM VALOR DENTRO DE UM DICIONÁRIO\n",
        "x = input('Digite o chassi do carro')\n",
        "carros.update({'nome':'Monza', 'marca':'Chevrolet'})\n",
        "carros.update({'modelo':'tubarão'})\n",
        "carros.update({'chassi':x})\n",
        "\n",
        "carros['ano'] = 2022\n",
        "carros.update({'ano': 2022})\n",
        "\n",
        "#DEIXA O DICIONÁRIO EM BRANCO\n",
        "carros.clear() \n",
        "\n",
        " "
      ],
      "metadata": {
        "colab": {
          "base_uri": "https://localhost:8080/"
        },
        "id": "F_DFXY8w__lv",
        "outputId": "1578dcf7-9613-4588-c46e-da4765910c7d"
      },
      "execution_count": null,
      "outputs": [
        {
          "name": "stdout",
          "output_type": "stream",
          "text": [
            "Digite o chassi do carrojkjsak\n"
          ]
        }
      ]
    },
    {
      "cell_type": "code",
      "source": [
        "while True:\n",
        "  try:\n",
        "    num = int(input(\"Digite um número: \"))\n",
        "    break\n",
        "  except:\n",
        "    print(\"O número digitado deve ser inteiro!\")"
      ],
      "metadata": {
        "id": "5Eozf5BIGGWO"
      },
      "execution_count": null,
      "outputs": []
    },
    {
      "cell_type": "code",
      "source": [
        "#Funções\n",
        "\n",
        "#Funções sem parâmetros\n",
        "\n",
        "def escrever ():\n",
        "    print('Eu sou uma função')\n",
        "\n",
        "    #Funções com parâmetros\n",
        "\n",
        "    "
      ],
      "metadata": {
        "id": "n0M7yL1NipQo"
      },
      "execution_count": null,
      "outputs": []
    }
  ]
}