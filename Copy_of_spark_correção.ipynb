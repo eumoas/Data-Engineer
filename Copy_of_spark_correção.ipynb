{
  "nbformat": 4,
  "nbformat_minor": 0,
  "metadata": {
    "colab": {
      "name": "Copy of spark_correção.ipynb",
      "provenance": [],
      "include_colab_link": true
    },
    "kernelspec": {
      "name": "python3",
      "display_name": "Python 3"
    },
    "language_info": {
      "name": "python"
    }
  },
  "cells": [
    {
      "cell_type": "markdown",
      "metadata": {
        "id": "view-in-github",
        "colab_type": "text"
      },
      "source": [
        "<a href=\"https://colab.research.google.com/github/eumoas/Data-Engineer/blob/main/Copy_of_spark_corre%C3%A7%C3%A3o.ipynb\" target=\"_parent\"><img src=\"https://colab.research.google.com/assets/colab-badge.svg\" alt=\"Open In Colab\"/></a>"
      ]
    },
    {
      "cell_type": "code",
      "execution_count": null,
      "metadata": {
        "colab": {
          "base_uri": "https://localhost:8080/"
        },
        "id": "sq12c6L2Oj-4",
        "outputId": "63f173d7-ec44-453f-fbb9-2dfa7ec4e839"
      },
      "outputs": [
        {
          "output_type": "stream",
          "name": "stdout",
          "text": [
            "Requirement already satisfied: pyspark in /usr/local/lib/python3.7/dist-packages (3.2.1)\n",
            "Requirement already satisfied: py4j==0.10.9.3 in /usr/local/lib/python3.7/dist-packages (from pyspark) (0.10.9.3)\n"
          ]
        }
      ],
      "source": [
        "!pip install pyspark"
      ]
    },
    {
      "cell_type": "code",
      "source": [
        "from pyspark.sql import SparkSession\n",
        "from pyspark import SparkConf\n",
        "import pyspark.sql.functions as F\n",
        "from pyspark.sql.types import StructType, StructField, StringType, IntegerType"
      ],
      "metadata": {
        "id": "vimFLEf4OqOq"
      },
      "execution_count": null,
      "outputs": []
    },
    {
      "cell_type": "code",
      "source": [
        "spark = (\n",
        "    SparkSession.builder\n",
        "                .master(\"local[3]\")\n",
        "                .appName(\"when_otherwise\")\n",
        "                .config(\"spark.ui.port\", \"4050\")\n",
        "                .getOrCreate()\n",
        ")"
      ],
      "metadata": {
        "id": "RBR6ofx3OubG"
      },
      "execution_count": null,
      "outputs": []
    },
    {
      "cell_type": "code",
      "source": [
        "from pyspark.sql.types import StructType\n",
        "schema = ( StructType ([\n",
        "   StructField(\"Pais\", StringType(), True),\n",
        "   StructField(\"Nome_nativo\", StringType(), True),\n",
        "   StructField(\"Codigo_telefone\", IntegerType(), True),\n",
        "   StructField(\"Sigla_2_letras\", StringType(), True),\n",
        "   StructField(\"Sigla_3_letras\", StringType(), True),\n",
        "   StructField(\"Codigo_numerico\", IntegerType(), True),\n",
        "   StructField(\"ISNI\", StringType(), True),\n",
        "   StructField(\"Populacao_2010\", IntegerType(), True),\n",
        "   StructField(\"Populacao_2011\", IntegerType(), True),\n",
        "   StructField(\"Populacao_2012\", IntegerType(), True),\n",
        "   StructField(\"Populacao_2013\", IntegerType(), True),\n",
        "   StructField(\"Populacao_2014\", IntegerType(), True),\n",
        "   StructField(\"Populacao_2015\", IntegerType(), True),\n",
        "   StructField(\"Populacao_2016\", IntegerType(), True),\n",
        "   StructField(\"Populacao_2017\", IntegerType(), True),\n",
        "   StructField(\"Populacao_2018\", IntegerType(), True),\n",
        "   StructField(\"Populacao_2019\", IntegerType(), True),     \n",
        "   ])\n",
        ")"
      ],
      "metadata": {
        "id": "jp0HQBYbOxPq"
      },
      "execution_count": null,
      "outputs": []
    },
    {
      "cell_type": "code",
      "source": [
        "df = ( spark.read\n",
        "            .format(\"csv\")\n",
        "            .option(\"header\", \"true\")\n",
        "            .option(\"inferschema\", \"true\")\n",
        "            .option(\"delimiter\", \",\")\n",
        "            .load(\"/content/drive/MyDrive/Datasets/countries_general_info_historical.24-10-2021.csv\", schema=schema)\n",
        "      \n",
        ")"
      ],
      "metadata": {
        "id": "YeYcfs_oOwlR"
      },
      "execution_count": null,
      "outputs": []
    },
    {
      "cell_type": "code",
      "source": [
        "df.printSchema()"
      ],
      "metadata": {
        "colab": {
          "base_uri": "https://localhost:8080/"
        },
        "id": "7aBqVWIaPYKM",
        "outputId": "9b7df7b1-d76c-46fe-9b10-7bcb6efc05ab"
      },
      "execution_count": null,
      "outputs": [
        {
          "output_type": "stream",
          "name": "stdout",
          "text": [
            "root\n",
            " |-- Pais: string (nullable = true)\n",
            " |-- Nome_nativo: string (nullable = true)\n",
            " |-- Codigo_telefone: integer (nullable = true)\n",
            " |-- Sigla_2_letras: string (nullable = true)\n",
            " |-- Sigla_3_letras: string (nullable = true)\n",
            " |-- Codigo_numerico: integer (nullable = true)\n",
            " |-- ISNI: string (nullable = true)\n",
            " |-- Populacao_2010: integer (nullable = true)\n",
            " |-- Populacao_2011: integer (nullable = true)\n",
            " |-- Populacao_2012: integer (nullable = true)\n",
            " |-- Populacao_2013: integer (nullable = true)\n",
            " |-- Populacao_2014: integer (nullable = true)\n",
            " |-- Populacao_2015: integer (nullable = true)\n",
            " |-- Populacao_2016: integer (nullable = true)\n",
            " |-- Populacao_2017: integer (nullable = true)\n",
            " |-- Populacao_2018: integer (nullable = true)\n",
            " |-- Populacao_2019: integer (nullable = true)\n",
            "\n"
          ]
        }
      ]
    },
    {
      "cell_type": "code",
      "source": [
        "df.show(20)"
      ],
      "metadata": {
        "id": "l_rc_QCxSTv2",
        "colab": {
          "base_uri": "https://localhost:8080/"
        },
        "outputId": "33fe447b-e284-47d6-ef7d-6a9ef41ec014"
      },
      "execution_count": null,
      "outputs": [
        {
          "output_type": "stream",
          "name": "stdout",
          "text": [
            "+--------------------+--------------------+---------------+--------------+--------------+---------------+-------------------+--------------+--------------+--------------+--------------+--------------+--------------+--------------+--------------+--------------+--------------+\n",
            "|                Pais|         Nome_nativo|Codigo_telefone|Sigla_2_letras|Sigla_3_letras|Codigo_numerico|               Isni|Populacao_2010|Populacao_2011|Populacao_2012|Populacao_2013|Populacao_2014|Populacao_2015|Populacao_2016|Populacao_2017|Populacao_2018|Populacao_2019|\n",
            "+--------------------+--------------------+---------------+--------------+--------------+---------------+-------------------+--------------+--------------+--------------+--------------+--------------+--------------+--------------+--------------+--------------+--------------+\n",
            "|              Canada|              Canada|              1|            CA|           CAN|            124|0000 0001 2238 5050|      34004889|      34339328|      34714222|      35082954|      35437435|      35702908|      36109487|      36545295|      37065178|      37593384|\n",
            "|               Japan|                日本|             81|            JP|           JPN|            392|0000 0001 2364 9740|     128070000|     127833000|     127629000|     127445000|     127276000|     127141000|     126994511|     126785797|     126529100|     126264931|\n",
            "|              Norway|    Kongeriket Norge|             47|            NO|           NOR|            578|0000 0001 2298 9524|       4889252|       4953088|       5018573|       5079623|       5137232|       5188607|       5234519|       5276968|       5311916|       5347896|\n",
            "|             Ireland|                Eire|            353|            IE|           IRL|            372|0000 0001 2359 1198|       4560155|       4580084|       4599533|       4623816|       4657740|       4701957|       4755335|       4807388|       4867316|       4934040|\n",
            "|             Hungary|        Magyarorszag|             36|            HU|           HUN|            348|0000 0001 2254 0380|      10000023|       9971727|       9920362|       9893082|       9866468|       9843028|       9814023|       9787966|       9775564|       9771141|\n",
            "|               Spain|              Espana|             34|            ES|           ESP|            724|0000 0001 2324 3505|      46576897|      46742697|      46773055|      46620045|      46480882|      46444832|      46484062|      46593236|      46797754|      47133521|\n",
            "|United States of ...|United States of ...|              1|            US|           USA|            840|0000 0001 2331 5230|     309321666|     311556874|     313830990|     315993715|     318301008|     320635163|     322941311|     324985539|     326687501|     328239523|\n",
            "|             Belgium|   Koninkrijk Belgie|             32|            BE|           BEL|             56|               null|      10895586|      11038264|      11106932|      11159407|      11209057|      11274196|      11331422|      11375158|      11427054|      11502704|\n",
            "|          Luxembourg|          Letzebuerg|            352|            LU|           LUX|            442|0000 0001 2192 9204|        506953|        518347|        530946|        543360|        556319|        569604|        582014|        596336|        607950|        620001|\n",
            "|             Finland|               Suomi|            358|            FI|           FIN|            246|               null|       5363352|       5388272|       5413971|       5438972|       5461512|       5479531|       5495303|       5508214|       5515525|       5521606|\n",
            "|              Sweden|             Sverige|             46|            SE|           SWE|            752|0000 0001 2299 7436|       9378126|       9449213|       9519374|       9600379|       9696110|       9799186|       9923085|      10057698|      10175214|      10278887|\n",
            "|              Poland|Rzeczpospolita Po...|             48|            PL|           POL|            616|0000 0004 0471 0018|      38042794|      38063255|      38063164|      38040196|      38011735|      37986412|      37970087|      37974826|      37974750|      37965475|\n",
            "|           Lithuania|             Lietuva|            370|            LT|           LTU|            440|0000 0001 2364 1220|       3097282|       3028115|       2987773|       2957689|       2932367|       2904910|       2868231|       2828403|       2801543|       2794137|\n",
            "|               Italy| Repubblica Italiana|             39|            IT|           ITA|            380|0000 0001 2186 9395|      59277417|      59379449|      59539717|      60233948|      60789140|      60730582|      60627498|      60536709|      60421760|      60302093|\n",
            "|         Switzerland|Schweizerische Ei...|             41|            CH|           CHE|            756|0000 0001 2297 4701|       7824909|       7912398|       7996861|       8089346|       8188649|       8282396|       8373338|       8451840|       8514329|       8575280|\n",
            "|             Austria| Republik Osterreich|             43|            AT|           AUT|             40|0000 0001 2265 1953|       8363404|       8391643|       8429991|       8479823|       8546356|       8642699|       8736668|       8797566|       8840521|       8879920|\n",
            "|              Greece|              Ελλάδα|             30|            GR|           GRC|            300|0000 0004 0555 2357|      11121341|      11104899|      11045011|      10965211|      10892413|      10820883|      10775971|      10754679|      10732882|      10717169|\n",
            "|              Turkey| Turkiye Cumhuriyeti|             90|            TR|           TUR|            792|0000 0004 0369 9232|      72326988|      73443863|      74653016|      75928564|      77231907|      78529409|      79821724|      81101892|      82319724|      83429615|\n",
            "|            Portugal|Republica Portuguesa|            351|            PT|           PRT|            620|0000 0001 2242 8399|      10573100|      10557560|      10514844|      10457295|      10401062|      10358076|      10325452|      10300300|      10283822|      10286263|\n",
            "|             Uruguay|             Uruguay|            598|            UY|           URY|            858|0000 0001 2238 4648|       3359275|       3368934|       3378974|       3389439|       3400434|       3412009|       3424132|       3436646|       3449299|       3461734|\n",
            "+--------------------+--------------------+---------------+--------------+--------------+---------------+-------------------+--------------+--------------+--------------+--------------+--------------+--------------+--------------+--------------+--------------+--------------+\n",
            "only showing top 20 rows\n",
            "\n"
          ]
        }
      ]
    },
    {
      "cell_type": "code",
      "source": [
        "df = df.withColumnRenamed(\"ISNI\", \"Isni\")\n",
        "\n",
        "df.printSchema()"
      ],
      "metadata": {
        "id": "L-_XDudCSkUM",
        "colab": {
          "base_uri": "https://localhost:8080/"
        },
        "outputId": "4e65b40d-702f-47bb-8fbe-e930057524c1"
      },
      "execution_count": null,
      "outputs": [
        {
          "output_type": "stream",
          "name": "stdout",
          "text": [
            "root\n",
            " |-- Pais: string (nullable = true)\n",
            " |-- Nome_nativo: string (nullable = true)\n",
            " |-- Codigo_telefone: integer (nullable = true)\n",
            " |-- Sigla_2_letras: string (nullable = true)\n",
            " |-- Sigla_3_letras: string (nullable = true)\n",
            " |-- Codigo_numerico: integer (nullable = true)\n",
            " |-- Isni: string (nullable = true)\n",
            " |-- Populacao_2010: integer (nullable = true)\n",
            " |-- Populacao_2011: integer (nullable = true)\n",
            " |-- Populacao_2012: integer (nullable = true)\n",
            " |-- Populacao_2013: integer (nullable = true)\n",
            " |-- Populacao_2014: integer (nullable = true)\n",
            " |-- Populacao_2015: integer (nullable = true)\n",
            " |-- Populacao_2016: integer (nullable = true)\n",
            " |-- Populacao_2017: integer (nullable = true)\n",
            " |-- Populacao_2018: integer (nullable = true)\n",
            " |-- Populacao_2019: integer (nullable = true)\n",
            "\n"
          ]
        }
      ]
    },
    {
      "cell_type": "code",
      "source": [
        "df.select(F.col(\"Pais\")).filter(F.col(\"Populacao_2012\") > 10000000).show()"
      ],
      "metadata": {
        "id": "_x4dFScoToTY",
        "colab": {
          "base_uri": "https://localhost:8080/"
        },
        "outputId": "8ff10a16-fbf3-4b66-e8a4-9b8f994ca128"
      },
      "execution_count": null,
      "outputs": [
        {
          "output_type": "stream",
          "name": "stdout",
          "text": [
            "+--------------------+\n",
            "|                Pais|\n",
            "+--------------------+\n",
            "|              Canada|\n",
            "|               Japan|\n",
            "|               Spain|\n",
            "|United States of ...|\n",
            "|             Belgium|\n",
            "|              Poland|\n",
            "|               Italy|\n",
            "|              Greece|\n",
            "|              Turkey|\n",
            "|            Portugal|\n",
            "|               Egypt|\n",
            "|              Mexico|\n",
            "|               Kenya|\n",
            "|            Ethiopia|\n",
            "|               Ghana|\n",
            "|              France|\n",
            "|      United Kingdom|\n",
            "|People's Republic...|\n",
            "|              Brazil|\n",
            "|              Russia|\n",
            "+--------------------+\n",
            "only showing top 20 rows\n",
            "\n"
          ]
        }
      ]
    },
    {
      "cell_type": "code",
      "source": [
        "df.select(F.col(\"Pais\")).filter(F.col(\"Populacao_2012\") > 10000000).show(20)"
      ],
      "metadata": {
        "colab": {
          "base_uri": "https://localhost:8080/"
        },
        "id": "Ya3BfxTKU0dZ",
        "outputId": "65684730-05a5-4ea7-950d-4a69553bd80a"
      },
      "execution_count": null,
      "outputs": [
        {
          "output_type": "stream",
          "name": "stdout",
          "text": [
            "+--------------------+\n",
            "|                Pais|\n",
            "+--------------------+\n",
            "|              Canada|\n",
            "|               Japan|\n",
            "|               Spain|\n",
            "|United States of ...|\n",
            "|             Belgium|\n",
            "|              Poland|\n",
            "|               Italy|\n",
            "|              Greece|\n",
            "|              Turkey|\n",
            "|            Portugal|\n",
            "|               Egypt|\n",
            "|              Mexico|\n",
            "|               Kenya|\n",
            "|            Ethiopia|\n",
            "|               Ghana|\n",
            "|              France|\n",
            "|      United Kingdom|\n",
            "|People's Republic...|\n",
            "|              Brazil|\n",
            "|              Russia|\n",
            "+--------------------+\n",
            "only showing top 20 rows\n",
            "\n"
          ]
        }
      ]
    },
    {
      "cell_type": "code",
      "source": [
        "#1) Renomear alguma coluna\n",
        "\n",
        "df = df.withColumnRenamed('Pais', 'Paises')"
      ],
      "metadata": {
        "id": "aXlQD3_Aqhqa"
      },
      "execution_count": null,
      "outputs": []
    },
    {
      "cell_type": "code",
      "source": [
        "# 2) Mostrar os países que possuam população maior que 10 milhões de habitantes em 2012\n",
        "df.select(F.col('Paises'), F.col('Populacao_2012')).filter(F.col('Populacao_2012') > 10000000).show(truncate=False)"
      ],
      "metadata": {
        "id": "-soKhgcVqvcb"
      },
      "execution_count": null,
      "outputs": []
    },
    {
      "cell_type": "code",
      "source": [
        "# 3) Mostrar todos os dados apenas dos países que comecem com a letra B\n",
        "df.filter(F.col('Paises').startswith('B')).show(truncate=False)"
      ],
      "metadata": {
        "colab": {
          "base_uri": "https://localhost:8080/"
        },
        "id": "7C1Sopw5sLce",
        "outputId": "63f14fda-f1d7-4610-c9aa-8410d7c274c0"
      },
      "execution_count": null,
      "outputs": [
        {
          "output_type": "stream",
          "name": "stdout",
          "text": [
            "+----------------------+-------------------------------+---------------+--------------+--------------+---------------+-------------------+--------------+--------------+--------------+--------------+--------------+--------------+--------------+--------------+--------------+--------------+\n",
            "|Paises                |Nome_nativo                    |Codigo_telefone|Sigla_2_letras|Sigla_3_letras|Codigo_numerico|Isni               |Populacao_2010|Populacao_2011|Populacao_2012|Populacao_2013|Populacao_2014|Populacao_2015|Populacao_2016|Populacao_2017|Populacao_2018|Populacao_2019|\n",
            "+----------------------+-------------------------------+---------------+--------------+--------------+---------------+-------------------+--------------+--------------+--------------+--------------+--------------+--------------+--------------+--------------+--------------+--------------+\n",
            "|Belgium               |Koninkrijk Belgie              |32             |BE            |BEL           |56             |null               |10895586      |11038264      |11106932      |11159407      |11209057      |11274196      |11331422      |11375158      |11427054      |11502704      |\n",
            "|Brazil                |Republica Federativa do Brasil |55             |BR            |BRA           |76             |0000 0001 2176 6679|195713635     |197514534     |199287296     |201035903     |202763735     |204471769     |206163058     |207833831     |209469333     |211049527     |\n",
            "|Belarus               |Рэспубліка Беларусь            |375            |BY            |BLR           |112            |0000 0001 2171 2080|9490583       |9473172       |9464495       |9465997       |9474511       |9489616       |9501534       |9498264       |9483499       |9417849       |\n",
            "|Bulgaria              |България                       |359            |BG            |BGR           |100            |0000 0001 2325 4108|7395599       |7348328       |7305888       |7265115       |7223938       |7177991       |7127822       |7075947       |7025037       |6975761       |\n",
            "|Bosnia and Herzegovina|Bosna i Hercegovina            |387            |BA            |BIH           |70             |null               |3705472       |3661175       |3604972       |3542605       |3482104       |3429361       |3386267       |3351527       |3323929       |3301000       |\n",
            "|Belize                |Belize                         |501            |BZ            |BLZ           |84             |0000 0001 2286 2013|322464        |330237        |338000        |345715        |353366        |360933        |368400        |375769        |383071        |390353        |\n",
            "|Barbados              |Barbados                       |1246           |BB            |BRB           |52             |0000 0001 0670 1869|282131        |282987        |283700        |284296        |284825        |285324        |285796        |286233        |286641        |287025        |\n",
            "|Bahrain               |البحرين                        |973            |BH            |BHR           |48             |0000 0004 0402 3058|1240860       |1278151       |1299943       |1315029       |1336075       |1371851       |1425791       |1494074       |1569439       |1641172       |\n",
            "|Bolivia               |Estado Plurinacional de Bolivia|591            |BO            |BOL           |68             |null               |10048590      |10212954      |10377676      |10542376      |10706517      |10869730      |11031813      |11192854      |11353142      |11513100      |\n",
            "|Bangladesh            |গণপ্রজাতন্ত্রী বাংলাদেশ        |880            |BD            |BGD           |50             |0000 0001 2188 6953|147575430     |149273778     |151007807     |152764676     |154520167     |156256276     |157970840     |159670593     |161356039     |163046161     |\n",
            "|Bhutan                |འབྲུག་ཡུལ་                     |975            |BT            |BTN           |64             |null               |685503        |693298        |701583        |710238        |719056        |727876        |736709        |745568        |754394        |763092        |\n",
            "|Brunei                |Brunei                         |673            |BN            |BRN           |96             |null               |388646        |393688        |398989        |404421        |409769        |414907        |419800        |424473        |428962        |433285        |\n",
            "|Benin                 |Benin                          |229            |BJ            |BEN           |204            |0000 0001 2342 3987|9199259       |9460830       |9729248       |10004588      |10286842      |10575952      |10872067      |11175204      |11485048      |11801151      |\n",
            "|Botswana              |Botswana                       |267            |BW            |BWA           |72             |0000 0001 2155 4000|1987105       |2015402       |2039551       |2062536       |2088614       |2120716       |2159944       |2205128       |2254126       |2303697       |\n",
            "|Burkina Faso          |Burkina Faso                   |226            |BF            |BFA           |854            |0000 0004 0413 3505|15605217      |16081911      |16571246      |17072775      |17586017      |18110624      |18646378      |19193284      |19751535      |20321378      |\n",
            "|Burundi               |Uburundi                       |257            |BI            |BDI           |108            |0000 0001 2097 7669|8675602       |8958406       |9245988       |9540289       |9844297       |10160030      |10487998      |10827024      |11175378      |11530580      |\n",
            "+----------------------+-------------------------------+---------------+--------------+--------------+---------------+-------------------+--------------+--------------+--------------+--------------+--------------+--------------+--------------+--------------+--------------+--------------+\n",
            "\n"
          ]
        }
      ]
    },
    {
      "cell_type": "code",
      "source": [
        "# 4) Criar uma nova coluna com a seguinte informação: Caso o país tenha mais que 1 milhão\n",
        "# de habitantes, colocar o texto “População com mais de 1 milhão de habitantes”. \n",
        "#Caso contrário, colocar o texto: “População com menos de 1 milhão de habitantes”\n",
        "\n",
        "df = ( df.withColumn('Categoria', \n",
        "                     F.when(F.col('Populacao_2019') > 1000000, F.lit('População com mais de 1 milhão de habitantes'))\n",
        "                     .otherwise(F.lit('População com menos de 1 milhão de habitantes')))\n",
        "\n",
        ").show()"
      ],
      "metadata": {
        "id": "OdsSjAO5sv8Z"
      },
      "execution_count": null,
      "outputs": []
    },
    {
      "cell_type": "code",
      "source": [
        "# 5) Mostre a soma da população no ano de 2017.\n",
        "df.agg(F.sum('Populacao_2017')).show()"
      ],
      "metadata": {
        "colab": {
          "base_uri": "https://localhost:8080/"
        },
        "id": "L2_Wh9jju6Dt",
        "outputId": "5e324237-dcef-4ab3-e34f-d31355190207"
      },
      "execution_count": null,
      "outputs": [
        {
          "output_type": "stream",
          "name": "stdout",
          "text": [
            "+-------------------+\n",
            "|sum(Populacao_2017)|\n",
            "+-------------------+\n",
            "|         7448450667|\n",
            "+-------------------+\n",
            "\n"
          ]
        }
      ]
    },
    {
      "cell_type": "code",
      "source": [
        "df.summary().show()"
      ],
      "metadata": {
        "colab": {
          "base_uri": "https://localhost:8080/"
        },
        "id": "VcAswWLyweiU",
        "outputId": "8953f21c-658d-4771-dad9-57d9357a9479"
      },
      "execution_count": null,
      "outputs": [
        {
          "output_type": "stream",
          "name": "stdout",
          "text": [
            "+-------+-----------+----------------------+-----------------+--------------+--------------+------------------+-------------------+--------------------+--------------------+--------------------+--------------------+--------------------+--------------------+--------------------+--------------------+--------------------+--------------------+\n",
            "|summary|       Pais|           Nome_nativo|  Codigo_telefone|Sigla_2_letras|Sigla_3_letras|   Codigo_numerico|               ISNI|      Populacao_2010|      Populacao_2011|      Populacao_2012|      Populacao_2013|      Populacao_2014|      Populacao_2015|      Populacao_2016|      Populacao_2017|      Populacao_2018|      Populacao_2019|\n",
            "+-------+-----------+----------------------+-----------------+--------------+--------------+------------------+-------------------+--------------------+--------------------+--------------------+--------------------+--------------------+--------------------+--------------------+--------------------+--------------------+--------------------+\n",
            "|  count|        192|                   192|              192|           192|           192|               192|                158|                 192|                 192|                 192|                 192|                 192|                 192|                 192|                 192|                 192|                 192|\n",
            "|   mean|       null|                  null|444.6770833333333|          null|          null| 431.8072916666667|               null|3.5767752630208336E7|    3.618759365625E7|3.6599970854166664E7|3.7034372427083336E7|3.7472770369791664E7|3.7911939817708336E7|   3.8354372640625E7|   3.8794013890625E7|3.9224168177083336E7|    3.964697303125E7|\n",
            "| stddev|       null|                  null|420.2250081593764|          null|          null|254.27037460555763|               null|1.3542044299783936E8|1.3660680047595024E8|1.3778986714542302E8|1.3895868455666885E8|1.4012856240781933E8|1.4129458099951294E8|1.4247776252024052E8|1.4366366645713517E8|1.4476960367259994E8|1.4580219393472826E8|\n",
            "|    min|Afghanistan|               Andorra|                1|            AD|           AFG|                 4|0000 0000 8680 1343|               10005|               10057|                   0|                   0|                   0|                   0|                   0|                   0|                   0|                   0|\n",
            "|    25%|       null|                  null|               98|          null|          null|               208|               null|             1624140|             1684635|             1604979|             1648257|             1692439|             1737202|             1782437|             1828146|             1874309|             1913822|\n",
            "|    50%|       null|                  null|              267|          null|          null|               428|               null|             7395599|             7663131|             7874835|             8059500|             8188649|             8282396|             8373338|             8451840|             8606316|             8776109|\n",
            "|    75%|       null|                  null|              674|          null|          null|               646|               null|            23531574|            24220661|            24862648|            25560725|            26286163|            27015031|            27261131|            27834821|            28498687|            28608710|\n",
            "|    max|     Zambia|조선민주주의인민공화국|             1876|            ZM|           ZMB|               894|0000 0004 7027 6037|          1337705000|          1344130000|          1350695000|          1357380000|          1364270000|          1371220000|          1378665000|          1386395000|          1392730000|          1397715000|\n",
            "+-------+-----------+----------------------+-----------------+--------------+--------------+------------------+-------------------+--------------------+--------------------+--------------------+--------------------+--------------------+--------------------+--------------------+--------------------+--------------------+--------------------+\n",
            "\n"
          ]
        }
      ]
    },
    {
      "cell_type": "code",
      "source": [
        "import pandas as pd"
      ],
      "metadata": {
        "id": "ZklNSSE-w58K"
      },
      "execution_count": null,
      "outputs": []
    },
    {
      "cell_type": "code",
      "source": [
        "df_pandas = df.toPandas()"
      ],
      "metadata": {
        "id": "E7xrxfEyxgs7"
      },
      "execution_count": null,
      "outputs": []
    },
    {
      "cell_type": "code",
      "source": [
        "df_pandas.isna().sum()"
      ],
      "metadata": {
        "id": "YXD9sXekxnoq"
      },
      "execution_count": null,
      "outputs": []
    },
    {
      "cell_type": "code",
      "source": [
        "df.toPandas().isna().sum()"
      ],
      "metadata": {
        "colab": {
          "base_uri": "https://localhost:8080/"
        },
        "id": "Bmd2NJAjx0Sg",
        "outputId": "b646a7fc-cb8a-40f0-c37e-6ce2d17a6010"
      },
      "execution_count": null,
      "outputs": [
        {
          "output_type": "execute_result",
          "data": {
            "text/plain": [
              "Pais                0\n",
              "Nome_nativo         0\n",
              "Codigo_telefone     0\n",
              "Sigla_2_letras      0\n",
              "Sigla_3_letras      0\n",
              "Codigo_numerico     0\n",
              "ISNI               34\n",
              "Populacao_2010      0\n",
              "Populacao_2011      0\n",
              "Populacao_2012      0\n",
              "Populacao_2013      0\n",
              "Populacao_2014      0\n",
              "Populacao_2015      0\n",
              "Populacao_2016      0\n",
              "Populacao_2017      0\n",
              "Populacao_2018      0\n",
              "Populacao_2019      0\n",
              "dtype: int64"
            ]
          },
          "metadata": {},
          "execution_count": 40
        }
      ]
    },
    {
      "cell_type": "code",
      "source": [
        "for c in df.columns:\n",
        "  print(c, df.filter(F.col(c).isNull()).count())"
      ],
      "metadata": {
        "colab": {
          "base_uri": "https://localhost:8080/"
        },
        "id": "NMC6W-e8yUAM",
        "outputId": "37663a14-2118-42db-d33e-658d149d8250"
      },
      "execution_count": null,
      "outputs": [
        {
          "output_type": "stream",
          "name": "stdout",
          "text": [
            "Pais 0\n",
            "Nome_nativo 0\n",
            "Codigo_telefone 0\n",
            "Sigla_2_letras 0\n",
            "Sigla_3_letras 0\n",
            "Codigo_numerico 0\n",
            "ISNI 34\n",
            "Populacao_2010 0\n",
            "Populacao_2011 0\n",
            "Populacao_2012 0\n",
            "Populacao_2013 0\n",
            "Populacao_2014 0\n",
            "Populacao_2015 0\n",
            "Populacao_2016 0\n",
            "Populacao_2017 0\n",
            "Populacao_2018 0\n",
            "Populacao_2019 0\n"
          ]
        }
      ]
    }
  ]
}