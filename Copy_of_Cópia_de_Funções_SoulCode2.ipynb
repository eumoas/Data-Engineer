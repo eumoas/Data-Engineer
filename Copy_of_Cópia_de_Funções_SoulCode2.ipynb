{
  "nbformat": 4,
  "nbformat_minor": 0,
  "metadata": {
    "colab": {
      "name": "Copy of Cópia de Funções_SoulCode2.ipynb",
      "provenance": [],
      "collapsed_sections": [],
      "include_colab_link": true
    },
    "kernelspec": {
      "name": "python3",
      "display_name": "Python 3"
    },
    "language_info": {
      "name": "python"
    }
  },
  "cells": [
    {
      "cell_type": "markdown",
      "metadata": {
        "id": "view-in-github",
        "colab_type": "text"
      },
      "source": [
        "<a href=\"https://colab.research.google.com/github/eumoas/Data-Engineer/blob/main/Copy_of_C%C3%B3pia_de_Fun%C3%A7%C3%B5es_SoulCode2.ipynb\" target=\"_parent\"><img src=\"https://colab.research.google.com/assets/colab-badge.svg\" alt=\"Open In Colab\"/></a>"
      ]
    },
    {
      "cell_type": "code",
      "execution_count": null,
      "metadata": {
        "id": "jwvjOyUVIjOw"
      },
      "outputs": [],
      "source": [
        "##### COMANDO TRY\n",
        "\n",
        "while True:\n",
        "  try:\n",
        "    num = int(input('Digite um número: '))\n",
        "    break\n",
        "  except:\n",
        "    print('Digite um número inteiro.')"
      ]
    },
    {
      "cell_type": "code",
      "source": [
        "# Funções sem parâmetros\n",
        "\n",
        "def funcao_1():\n",
        "  print('Eu sou uma função')\n",
        "\n",
        "for x in range(3):\n",
        "  funcao_1()\n",
        "\n",
        "\n"
      ],
      "metadata": {
        "colab": {
          "base_uri": "https://localhost:8080/"
        },
        "id": "CuuyF8y6Iq8s",
        "outputId": "2da73dc8-f4d4-423d-dd66-e3c8ea204968"
      },
      "execution_count": null,
      "outputs": [
        {
          "output_type": "stream",
          "name": "stdout",
          "text": [
            "Eu sou uma função\n",
            "Eu sou uma função\n",
            "Eu sou uma função\n"
          ]
        }
      ]
    },
    {
      "cell_type": "code",
      "source": [
        "# Funções com parâmetros\n",
        "teste1 = [1,2,3,4,5]\n",
        "teste2 = ['a', 'b', 'c', 'd', 'e']\n",
        "def soma(n1, n2):\n",
        "  soma = n1 + n2\n",
        "  print(soma)\n",
        "\n",
        "soma(teste1, teste2)\n",
        "soma(10,5)\n",
        "soma('texto1', 'texto2')\n",
        "soma(int(input('Digite um número')), int(input('digite outro número')))\n"
      ],
      "metadata": {
        "id": "gxq3KamqK_fa",
        "colab": {
          "base_uri": "https://localhost:8080/"
        },
        "outputId": "cdae4f55-0e3e-4e62-dfcb-a9d7d9f59730"
      },
      "execution_count": null,
      "outputs": [
        {
          "output_type": "stream",
          "name": "stdout",
          "text": [
            "[1, 2, 3, 4, 5, 'a', 'b', 'c', 'd', 'e']\n",
            "15\n",
            "texto1texto2\n",
            "Digite um número5\n",
            "digite outro número2\n",
            "7\n"
          ]
        }
      ]
    },
    {
      "cell_type": "code",
      "source": [
        "n3 = 0\n",
        "def soma(n1, n2):\n",
        "  n3 = n1 + n2\n",
        "  print(n3)\n",
        "  return n3\n",
        "\n",
        "soma(10,20)\n",
        "print(n3)"
      ],
      "metadata": {
        "colab": {
          "base_uri": "https://localhost:8080/"
        },
        "id": "eRTSTUZQkgFD",
        "outputId": "a45c9700-8396-46b5-fe12-691e13caef86"
      },
      "execution_count": null,
      "outputs": [
        {
          "output_type": "stream",
          "name": "stdout",
          "text": [
            "30\n",
            "0\n"
          ]
        }
      ]
    },
    {
      "cell_type": "code",
      "source": [
        "def soma(n1, n2):\n",
        "  return n1 + n2\n",
        "\n",
        "while True:\n",
        "  try:\n",
        "    num1 = int(input('Digite o primeiro número'))\n",
        "    num2 = int(input('Digite o segundo número'))\n",
        "    break\n",
        "  except:\n",
        "    print('Digite números inteiros')\n",
        "\n",
        "retorno = soma(num1, num2)\n",
        "\n",
        "print(f'O resultado da soma de {num1} e {num2} é {retorno}.')"
      ],
      "metadata": {
        "colab": {
          "base_uri": "https://localhost:8080/"
        },
        "id": "HE_mBy95uCWH",
        "outputId": "683b5722-af81-4c9a-b1f9-1c14965b7efe"
      },
      "execution_count": null,
      "outputs": [
        {
          "output_type": "stream",
          "name": "stdout",
          "text": [
            "Digite o primeiro número9\n",
            "Digite o segundo número5\n",
            "O resultado da soma de 9 e 5 é 14.\n"
          ]
        }
      ]
    },
    {
      "cell_type": "code",
      "source": [
        "# Crie um programa que leia um valor inteiro. \n",
        "# Esse programa deverá ter uma função  que receba esse número\n",
        "# e diga se o número lido é maior que 20.\n",
        "\n",
        "def maior(n1):\n",
        "  if n1 > 20:\n",
        "    print(f'{n1} é maior que 20.')\n",
        "\n",
        "maior(int(input('Digite um número')))"
      ],
      "metadata": {
        "colab": {
          "base_uri": "https://localhost:8080/"
        },
        "id": "4ahQBMIJwcy_",
        "outputId": "6be8f561-cda9-4795-f660-23dd160cbc90"
      },
      "execution_count": null,
      "outputs": [
        {
          "output_type": "stream",
          "name": "stdout",
          "text": [
            "Digite um número21\n",
            "21 é maior que 20.\n"
          ]
        }
      ]
    },
    {
      "cell_type": "code",
      "source": [
        "# Crie um programa que leia 2 números inteiros\n",
        "# O programa deverá ter uma função que receba\n",
        "# os 2 números e retorne o maior deles para o programa principal\n",
        "# Em seguida, exiba esse valor na tela.\n",
        "\n",
        "def maiorque(n1, n2):\n",
        "  if n1 > n2:\n",
        "    return n1\n",
        "  else:\n",
        "    return n2\n",
        "\n",
        "num1 = int(input('Digite um número'))\n",
        "num2 = int(input('Digite outro número'))\n",
        "maior = maiorque('num1', 'texto')\n",
        "print(f'a nova variável é: {maior}')"
      ],
      "metadata": {
        "colab": {
          "base_uri": "https://localhost:8080/"
        },
        "id": "Wv3MXqlD3_Uy",
        "outputId": "841d0a4b-a6c4-4352-8fd0-c5b0701f03f0"
      },
      "execution_count": null,
      "outputs": [
        {
          "output_type": "stream",
          "name": "stdout",
          "text": [
            "Digite um número5\n",
            "Digite outro número2\n",
            "a nova variável é: texto\n"
          ]
        }
      ]
    },
    {
      "cell_type": "code",
      "source": [
        "maiorque(num1, num2)"
      ],
      "metadata": {
        "colab": {
          "base_uri": "https://localhost:8080/"
        },
        "id": "te_pBOPY5zZc",
        "outputId": "e3934919-3d42-4cf9-b8d1-e46fe0fca986"
      },
      "execution_count": null,
      "outputs": [
        {
          "output_type": "execute_result",
          "data": {
            "text/plain": [
              "5"
            ]
          },
          "metadata": {},
          "execution_count": 13
        }
      ]
    },
    {
      "cell_type": "code",
      "source": [
        "# crie um programa que leia um número positivo e diga se ele é\n",
        "# multiplo de 3 ou não\n",
        "# Utilize função com retorno\n",
        "\n",
        "def mult3(n1):\n",
        "  if n1 % 3 == 0:\n",
        "    return f'{n1} É multiplo de 3'\n",
        "  else:\n",
        "    return 'Não é multiplo de 3'\n",
        "\n",
        "n = int(input('Digite um número posisitvo'))\n",
        "while n < 1:\n",
        "  n = int(input('Digite um número positivo: '))\n",
        "\n",
        "ret = mult3(n)\n",
        "print(ret)"
      ],
      "metadata": {
        "colab": {
          "base_uri": "https://localhost:8080/"
        },
        "id": "VscyF_AU8PUn",
        "outputId": "5a02dd92-eba9-4130-b85b-71fca5692766"
      },
      "execution_count": null,
      "outputs": [
        {
          "output_type": "stream",
          "name": "stdout",
          "text": [
            "Digite um número posisitvo3\n",
            "3 É multiplo de 3\n"
          ]
        }
      ]
    },
    {
      "cell_type": "code",
      "source": [
        "# Crie um programa que leia um número inteiro.\n",
        "# Em seguida, informe se esse número está no intervalo entre ]100 e 200[\n",
        "# Utilize uma função\n",
        "\n",
        "while True:\n",
        "  try:\n",
        "    n = int(input('Digite um número inteiro.\\n'))\n",
        "    break\n",
        "  except:\n",
        "    print('Número inválido. Digite um número inteiro.\\n')\n",
        "\n",
        "def funcao(x1):\n",
        "  if x1 >100 and x1 < 200:\n",
        "    return f'{x1} está no intervalo entre 100 e 200.'\n",
        "  else:\n",
        "    return f'{x1} não está no intervalo informado.'\n",
        "\n",
        "funcao(n)\n",
        "print(funcao(n))"
      ],
      "metadata": {
        "colab": {
          "base_uri": "https://localhost:8080/"
        },
        "id": "kMZyTk54922P",
        "outputId": "9ea286c6-f330-4a5d-a54a-2eacc4044c32"
      },
      "execution_count": null,
      "outputs": [
        {
          "output_type": "stream",
          "name": "stdout",
          "text": [
            "Digite um número inteiro.\n",
            "150\n",
            "150 está no intervalo entre 100 e 200.\n"
          ]
        }
      ]
    },
    {
      "cell_type": "code",
      "source": [
        "# 1) Crie um algoritmo utilizando funções que leia um \n",
        "# número N diferente de 0 que retorne 'P' caso o número\n",
        "# seja positivo ou 'N' caso o número seja negativo.\n",
        "# Em seguida, exiba na tela o número e o caractere correspondente\n",
        "# (P ou N)\n",
        "def func1():\n",
        "  while True:\n",
        "    try:\n",
        "      n = int(input('Digite um número\\n'))\n",
        "      if n != 0:\n",
        "        break\n",
        "    except:\n",
        "      print('Digite um número diferente de zero.')\n",
        "\n",
        "  if n > 0:\n",
        "    return 'P'\n",
        "  else:\n",
        "    return 'N'\n",
        "\n",
        "print(func1())"
      ],
      "metadata": {
        "colab": {
          "base_uri": "https://localhost:8080/"
        },
        "id": "Cwar2Wy0CDvz",
        "outputId": "c60e45b6-6eb1-44f2-f5f2-6bc999db67c9"
      },
      "execution_count": null,
      "outputs": [
        {
          "output_type": "stream",
          "name": "stdout",
          "text": [
            "Digite um número\n",
            "0\n",
            "Digite outro número que não seja 0\n",
            "Digite um número\n",
            "5\n",
            "P\n"
          ]
        }
      ]
    },
    {
      "cell_type": "code",
      "source": [
        "# 2)Crie um algoritmo utilizando funções que leia 3 números inteiros, \n",
        "# calcule a multiplicação entre eles e retorne o valor para uma variável no \n",
        "# programa principal. Em seguida, exiba o dobro desse valor na tela.\n",
        "                          #Poderia ser dessa maneira tb:\n",
        "def func2(x1, x2, x3):    # def func2(x1, x2, x3):\n",
        "  x4 = x1 * x2 * x3       #   return x1 * x2 *x3\n",
        "  return x4\n",
        "\n",
        "while True:\n",
        "  try:\n",
        "    n1 = int(input('Digite o primeiro número\\n'))\n",
        "    n2 = int(input('Digite o segundo número\\n'))\n",
        "    n3 = int(input('Digite o terceiro número\\n'))\n",
        "    break\n",
        "  except:\n",
        "    print('Digite um número válido')\n",
        "\n",
        "retorno = func2(n1,n2,n3)\n",
        "print(f'O dobro de {retorno} valor é {retorno * 2}.')"
      ],
      "metadata": {
        "colab": {
          "base_uri": "https://localhost:8080/"
        },
        "id": "XmCPZPsfVOXe",
        "outputId": "5e80178e-7a42-4d27-e8d4-4e7e50f9e4e4"
      },
      "execution_count": null,
      "outputs": [
        {
          "output_type": "stream",
          "name": "stdout",
          "text": [
            "Digite o primeiro número\n",
            "3\n",
            "Digite o segundo número\n",
            "3\n",
            "Digite o terceiro número\n",
            "2\n",
            "O Dobro de 18 valor é 36.\n"
          ]
        }
      ]
    },
    {
      "cell_type": "code",
      "source": [
        "# 3) Crie um algoritmo que leia um primeiro valor, em seguida leia um operador (+ , - , * ou / )\n",
        "# e no final leia um segundo valor. Crie funções para cada uma das operações e em seguida,\n",
        "# exiba o valor da operação na tela.\n",
        "\n",
        "while True:\n",
        "  try:\n",
        "    n1 = int(input('Digite um número\\n'))\n",
        "    break\n",
        "  except:\n",
        "    print('Número inválido')\n",
        "\n",
        "def calc(n1, n3):\n",
        "  while True:\n",
        "    numero2 =  input('Digite um Operador: (+) (-) (/) (*)\\n')\n",
        "    if numero2 == '+' or numero2 == '-' or numero2 == '/' or numero2 == '*':\n",
        "      break\n",
        "  if numero2 == '+':\n",
        "    resultado = n1 + n3\n",
        "  elif numero2 == '-':\n",
        "    resultado = n1 - n3\n",
        "  elif numero2 == '/':\n",
        "    resultado = n1 / n3\n",
        "  else:\n",
        "    resultado = n1 * n3\n",
        "  return resultado\n",
        "\n",
        "while True:\n",
        "  try:\n",
        "    n3 = int(input('Digite outro número\\n'))\n",
        "    break\n",
        "  except:\n",
        "    print('Número inválido')\n",
        "    \n",
        "calc(n1, n3)"
      ],
      "metadata": {
        "colab": {
          "base_uri": "https://localhost:8080/"
        },
        "id": "mLux_biRW7MP",
        "outputId": "a0a2c194-0b1e-4c7d-fb3e-dad1eb64b6a8"
      },
      "execution_count": null,
      "outputs": [
        {
          "name": "stdout",
          "output_type": "stream",
          "text": [
            "Digite um número\n",
            "15\n",
            "Digite outro número\n",
            "+\n",
            "Número inválido\n",
            "Digite outro número\n",
            "20\n",
            "Digite um Operador: (+) (-) (/) (*)\n",
            "+\n"
          ]
        },
        {
          "output_type": "execute_result",
          "data": {
            "text/plain": [
              "35"
            ]
          },
          "metadata": {},
          "execution_count": 74
        }
      ]
    },
    {
      "cell_type": "code",
      "source": [
        "# 4) Crie um algoritmo utilizando funções que leia um número N maior que 0 e exiba a saída da seguinte forma:\n",
        "# N = 2 -> 1 2 2\n",
        "# N = 4 -> 1 2 2 3 3 3 4 4 4 4\n",
        "\n",
        "def func3():\n",
        "  while True:\n",
        "    try:\n",
        "      x = int(input('Digite um número maior que 0\\n'))\n",
        "      if x > 0:\n",
        "        break\n",
        "    except:\n",
        "      print(f'{x} não é válido.')\n",
        "\n",
        "  for i in range(x+1):          # Para cada index no range x+1\n",
        "    for i2 in range(i):         # ele cria outro index2 dentro do range de index1 (se o index é 1, vai executar 1 vez, etc)\n",
        "      print(f'{i}', end=' ')    # É como uma lista tridimensional, você pega o index 1 como se fosse uma lista e \n",
        "                                # usa o número do index como parametro de quantidade (tem que add +1 por conta do index 0)\n",
        "\n",
        "func3()"
      ],
      "metadata": {
        "colab": {
          "base_uri": "https://localhost:8080/"
        },
        "id": "ezAqL80xZ2_U",
        "outputId": "68c2cd86-7038-4b8e-8c3a-48e10402cdfb"
      },
      "execution_count": null,
      "outputs": [
        {
          "output_type": "stream",
          "name": "stdout",
          "text": [
            "Digite um número maior que 0\n",
            "10\n",
            "1 2 2 3 3 3 4 4 4 4 5 5 5 5 5 6 6 6 6 6 6 7 7 7 7 7 7 7 8 8 8 8 8 8 8 8 9 9 9 9 9 9 9 9 9 10 10 10 10 10 10 10 10 10 10 "
          ]
        }
      ]
    },
    {
      "cell_type": "code",
      "source": [
        "#FUNÇÃO\n",
        "\n",
        "def num(N):\n",
        "  nada = ' '\n",
        "  if N > 0:\n",
        "    for i in range(N):\n",
        "      jota = i+1\n",
        "      for j in range(jota):\n",
        "        nada = nada +' ' +str(jota)\n",
        "  return nada\n",
        "\n",
        "#PRINCIPAL\n",
        "numero = int(input('Informe um número: '))\n",
        "retorno = num(numero)\n",
        "print(f'N ={retorno}')"
      ],
      "metadata": {
        "colab": {
          "base_uri": "https://localhost:8080/"
        },
        "id": "fLGVRyDN2HOC",
        "outputId": "e8bfe47f-2888-49f6-db27-ae9f75f83b37"
      },
      "execution_count": null,
      "outputs": [
        {
          "output_type": "stream",
          "name": "stdout",
          "text": [
            "Informe um número: 3\n",
            "N =  1 2 2 3 3 3\n"
          ]
        }
      ]
    },
    {
      "cell_type": "code",
      "source": [
        "#FUNÇÃO\n",
        "def num(n):\n",
        "  nada = ' '\n",
        "  if n > 0:\n",
        "    for i in range(n): \n",
        "      c = i+1\n",
        "      for j in range(c): \n",
        "        x = 1+j\n",
        "        nada = nada +' '+ str(x)\n",
        "  return nada      \n",
        "\n",
        "#PRINCIPAL\n",
        "numero = int(input('Informe um número: '))\n",
        "retorno = num(numero)\n",
        "print(f'N ={retorno}')"
      ],
      "metadata": {
        "colab": {
          "base_uri": "https://localhost:8080/"
        },
        "id": "Ovp2CyhI358F",
        "outputId": "77591a44-f2fb-4066-b6d6-1b4119b0db03"
      },
      "execution_count": null,
      "outputs": [
        {
          "output_type": "stream",
          "name": "stdout",
          "text": [
            "Informe um número: 5\n",
            "N =  1 1 2 1 2 3 1 2 3 4 1 2 3 4 5\n"
          ]
        }
      ]
    },
    {
      "cell_type": "code",
      "source": [
        "# 5) Crie um algoritmo utilizando funções que leia um número N e exiba a saída da seguinte forma:\n",
        "# N = 2 1 1 2\n",
        "# N = 4 1 1 2 1 2 3 1 2 3 4\n",
        "\n",
        "def func5():\n",
        "  while True:\n",
        "    try:\n",
        "      x = int(input('Digite um número maior que 0\\n'))\n",
        "      if x > 0:\n",
        "        break\n",
        "    except:\n",
        "      print(f'{x} não é válido.')\n",
        "\n",
        "  for i in range(x+1):\n",
        "#                                   print()           # x + 1 cria a quantidade de index + 1 [0,1,2,3,etc...]\n",
        "    for i2 in range(i):           # para cada index2 no range do index1, você printa o index2 quantas vezes o index1 está. \n",
        "                                  # (Se estiver no index 1, vai printar 1x, no index 2, vai printar 2x etc)\n",
        "      print(f'{i2+1}', end=' ')   # como o index começa no 0, tem que adicionar o +1 no index2 para começar do numero 1 no index 0.\n",
        "\n",
        "func5()"
      ],
      "metadata": {
        "colab": {
          "base_uri": "https://localhost:8080/"
        },
        "id": "FVM4figYhBUc",
        "outputId": "9cff33e1-7344-4ba9-a504-518cdecb11fb"
      },
      "execution_count": null,
      "outputs": [
        {
          "output_type": "stream",
          "name": "stdout",
          "text": [
            "Digite um número maior que 0\n",
            "5\n",
            "1 1 2 1 2 3 1 2 3 4 1 2 3 4 5 "
          ]
        }
      ]
    },
    {
      "cell_type": "code",
      "source": [
        "for i in range(5+1):\n",
        "  print('', end='')\n",
        "  for i in range(i):\n",
        "    print(i+1,end= ' ')"
      ],
      "metadata": {
        "colab": {
          "base_uri": "https://localhost:8080/"
        },
        "id": "TG6e0OQIkLzq",
        "outputId": "ae855dbd-a249-48ea-84ba-f3e4e52ef0c8"
      },
      "execution_count": null,
      "outputs": [
        {
          "output_type": "stream",
          "name": "stdout",
          "text": [
            "1 1 2 1 2 3 1 2 3 4 1 2 3 4 5 "
          ]
        }
      ]
    },
    {
      "cell_type": "code",
      "source": [
        "#################### \n",
        "#################### \n",
        "#################### EXERCÍCIOS \n",
        "#################### \n",
        "#################### "
      ],
      "metadata": {
        "id": "AVLq2ZrJpi0g"
      },
      "execution_count": null,
      "outputs": []
    },
    {
      "cell_type": "code",
      "source": [
        ""
      ],
      "metadata": {
        "id": "EkrqIdddDgNq"
      },
      "execution_count": null,
      "outputs": []
    },
    {
      "cell_type": "markdown",
      "source": [
        "1) Faça um algoritmo que leia os valores A, B, C e imprima na tela se a soma de A + B é menor que C.\n",
        "\n",
        "2) Faça um algoritmo que leia dois valores inteiros A e B se os valores forem iguais deverá se somar os dois, caso contrário multiplique A por B. Ao final de qualquer um dos cálculos deve-se atribuir o resultado para uma variável C e mostrar seu conteúdo na tela.\n",
        "\n",
        "3) Encontrar o dobro de um número caso ele seja positivo e o seu triplo caso seja negativo, imprimindo o resultado.\n",
        "\n",
        "4) Escrever um algoritmo que gera e escreve os números ímpares entre 100 e 200.\n",
        "\n",
        "5)Escreva um algoritmo que leia um valor inicial A e uma razão R e imprima uma seqüência em P.A. contendo 10 valores.\n",
        "\n",
        "6)Desenvolver um algoritmo que leia a altura de 15 pessoas. Este programa deverá calcular e mostrar : a. A menor altura do grupo; b. A maior altura do grupo;\n",
        "\n",
        "7)Desenvolver um algoritmo que leia um número N DE VALORES e calcule e escreva a média aritmética dos valores lidos, a quantidade de valores positivos e a quantidade de valores negativos.\n",
        "\n",
        "8)Faça um algoritmo estruturado que leia um número N de números positivos. Calcule a quantidade de números pares e ímpares, a média de valores pares e a média geral dos números lidos. O número que encerrará a leitura será zero.\n",
        "\n",
        "9) Faça um Programa que leia uma lista de 10 números reais e mostre-os na ordem inversa.\n",
        "\n",
        "10) Faça um Programa que leia 10 notas e armazene-as dentro de uma lista. Em seguida mostre as notas e a média na tela.\n",
        "\n",
        "11) Faça um Programa que leia uma palavra de 10 caracteres, e diga quantas consoantes foram lidas. Imprima as consoantes.\n",
        "\n",
        "12) Faça um Programa que leia 20 números inteiros e armazene-os numa lista. Em seguida, percorra a lista e armazene os números pares em uma nova lista PAR e os números IMPARES em uma nova lista ímpar. Ao final, imprima as 3 listas.\n",
        "\n",
        "13) Faça um Programa que peça as quatro notas de 10 alunos, calcule e armazene numa lista a média de cada aluno. Ao final imprima o número de alunos com média maior ou igual a 7.0.\n",
        "\n",
        "14) Faça um programa que leia o nome de dez alunos, juntamente com 3 notas de avaliação para cada um. Em seguida, tire a média de cada aluno e também armazene as médias. Ao final, imprima o nome de cada aluno e a sua média.\n",
        "\n",
        "15) Faça um Programa que leia uma lista de 5 números inteiros. Em seguida, calcule a soma e a multiplicação entre os números. Ao final exiba os números da lista, o valor da soma e da multiplicação.\n",
        "\n",
        "16) Crie um dicionário Pessoas e coloque nele seus dados: nome, idade, telefone,endereço. Usando o dicionário Pessoas criado anteriormente, imprima seu nome.\n",
        "\n",
        "17) Crie uma lista contendo N alunos (deverá ser lido pelo usuário). Para cada pessoa da lista, deverão ser armazenados dados para Nome, idade, endereço e telefone. Ao final, peça para o usuário escolher um número de 1 até N (que foi digitado anteriormente) e exiba na tela os dados referentes a esse aluno.\n",
        "\n",
        "18) Crie um dicionário clientes e coloque nele os dados fornecidos pelo usuário: nome, idade, telefone,endereço. Em seguida, imprima todos os itens do dicionário no formato chave : valor, ordenado pela chave\n",
        "\n",
        "19) Crie um programa que cadastre informações de várias pessoas (nome, idade e cpf) e depois coloque em um dicionário. Depois remova todas as pessoas menores de 18 anos do dicionário e coloque em outro dicionário.\n",
        "\n",
        "20) Crie um dicionário que é uma agenda e coloque nele os seguintes dados: chave (cpf), nome, idade, telefone. O programa deve ler um número indeterminado de dados, criar a agenda e imprimir todos os itens do dicionário no formato chave: nome-idadefone.\n",
        "\n",
        "21) Faça uma função que recebe a idade de uma pessoa em anos, meses e dias e retorna essa idade expressa em dias.\n",
        "\n",
        "22) Faça uma função que verifique se um valor é perfeito ou não. Um valor é dito perfeito quando ele é igual a soma dos seus divisores excetuando ele próprio. (Ex: 6 é perfeito, 6 = 1 + 2 + 3, que são seus divisores). A função deve retornar um valor booleano.\n",
        "\n",
        "23) Escreva uma função que recebes 3 valores reais X, Y e Z e que verifique se esses valores podem ser os comprimentos dos lados de um triângulo e, neste caso, retornar qual o tipo de triângulo formado. Para que X, Y e Z formem um triângulo é necessário que a seguinte propriedade seja satisfeita: o comprimento de cada lado de um triângulo é menor do que a soma do comprimento dos outros dois lados. A função deve identificar o tipo de triângulo formado observando as seguintes definições:\n",
        "\n",
        "Triângulo Equilátero: os comprimentos dos 3 lados são iguais. Triângulo Isósceles: os comprimentos de 2 lados são iguais. Triângulo Escaleno: os comprimentos dos 3 lados são diferentes."
      ],
      "metadata": {
        "id": "ILw43JvPDlQc"
      }
    },
    {
      "cell_type": "code",
      "source": [
        "# 1) Faça um algoritmo que leia os valores A, B, C e imprima na tela se a soma de A + B é menor que C.\n",
        "\n",
        "while True:\n",
        "  try:\n",
        "    A = float(input('Digite o primeiro número: \\n'))\n",
        "    B = float(input('Digite o segundo número: \\n'))\n",
        "    C = float(input('Digtie o terceiro número: \\n'))\n",
        "    break\n",
        "  except:\n",
        "    print('Digite um número válido')\n",
        "\n",
        "if (A+B) < C:\n",
        "  print(f'A soma de {A} + {B} é menor que {C}.')"
      ],
      "metadata": {
        "colab": {
          "base_uri": "https://localhost:8080/"
        },
        "id": "BtLYqFq9DpGq",
        "outputId": "9c0b405d-0256-42bc-cc0d-263d312ff2a0"
      },
      "execution_count": null,
      "outputs": [
        {
          "output_type": "stream",
          "name": "stdout",
          "text": [
            "Digite o primeiro número: \n",
            "1\n",
            "Digite o segundo número: \n",
            "2\n",
            "Digtie o terceiro número: \n",
            "5\n",
            "A soma de 1.0 + 2.0 é menor que 5.0.\n"
          ]
        }
      ]
    },
    {
      "cell_type": "code",
      "source": [
        "# 2) Faça um algoritmo que leia dois valores inteiros A e B se os valores forem iguais deverá se somar os dois,\n",
        "# caso contrário multiplique A por B. Ao final de qualquer um dos cálculos deve-se atribuir o resultado para uma\n",
        "# variável C e mostrar seu conteúdo na tela.\n",
        "\n",
        "while True:\n",
        "  try:\n",
        "    A = int(input('Digite um valor inteiro\\n'))\n",
        "    B = int(input('Digite outro valor inteiro\\n'))\n",
        "    break\n",
        "  except:\n",
        "    print('Número inválido. Digite um valor inteiro.')\n",
        "\n",
        "if A == B:\n",
        "  C = A + B\n",
        "  print(f'O valor da SOMA de {A} + {B} é {C}.')\n",
        "else:\n",
        "  C = A * B\n",
        "  print(f'O valor da MULTIPLICAÇÃO de {A} * {B} é {C}')"
      ],
      "metadata": {
        "colab": {
          "base_uri": "https://localhost:8080/"
        },
        "id": "uAj4HLPVEbv4",
        "outputId": "d940cd07-1de8-43fa-c6a0-8c906ee17cca"
      },
      "execution_count": null,
      "outputs": [
        {
          "output_type": "stream",
          "name": "stdout",
          "text": [
            "Digite um valor inteiro\n",
            "2\n",
            "Digite outro valor inteiro\n",
            "6\n",
            "O valor da MULTIPLICAÇÃO de 2 * 6 é 12\n"
          ]
        }
      ]
    },
    {
      "cell_type": "code",
      "source": [
        "# 3) Encontrar o dobro de um número caso ele seja positivo e o seu triplo caso seja negativo, imprimindo o resultado.\n",
        "\n",
        "while True:\n",
        "  try:\n",
        "    n = float(input('Digite um número\\n'))\n",
        "    if n != 0:\n",
        "      break\n",
        "  except:\n",
        "    print('Digite um número válido sem ser zero.')\n",
        "\n",
        "if n > 0:\n",
        "  n = n *2\n",
        "  print(f'O resultado final sendo DOBRADO é: {n}')\n",
        "else:\n",
        "  n = n *3\n",
        "  print(f'O resultado final sendo TRIPLICADO é {n}')"
      ],
      "metadata": {
        "colab": {
          "base_uri": "https://localhost:8080/"
        },
        "id": "0sd1aPEsFhxL",
        "outputId": "0f1d1b98-cd0f-4c87-c313-8b1bd0df278a"
      },
      "execution_count": null,
      "outputs": [
        {
          "output_type": "stream",
          "name": "stdout",
          "text": [
            "Digite um número\n",
            "-5\n",
            "O resultado final sendo TRIPLICADO é -15.0\n"
          ]
        }
      ]
    },
    {
      "cell_type": "code",
      "source": [
        "# 4) Escrever um algoritmo que gera e escreve os números ímpares entre 100 e 200.\n",
        "\n",
        "for i in range(101,200,2):\n",
        "  print(i, end=',')"
      ],
      "metadata": {
        "colab": {
          "base_uri": "https://localhost:8080/"
        },
        "id": "0irpRl9nGeNZ",
        "outputId": "f5ffa705-bbc1-4ba6-dc67-f08fcbb863ff"
      },
      "execution_count": null,
      "outputs": [
        {
          "output_type": "stream",
          "name": "stdout",
          "text": [
            "101,103,105,107,109,111,113,115,117,119,121,123,125,127,129,131,133,135,137,139,141,143,145,147,149,151,153,155,157,159,161,163,165,167,169,171,173,175,177,179,181,183,185,187,189,191,193,195,197,199,"
          ]
        }
      ]
    },
    {
      "cell_type": "code",
      "source": [
        "# 5)Escreva um algoritmo que leia um valor inicial A e uma razão R e imprima uma seqüência em P.A. contendo 10 valores.\n",
        "while True:\n",
        "  try:\n",
        "    A = float(input('Digite o valor inicial.\\n'))\n",
        "    R = float(input('Digite a Razão.\\n'))\n",
        "    if A != 0 and R != 0:\n",
        "      break\n",
        "  except:\n",
        "    print('Digite um valor válido.')\n",
        "\n",
        "for i in range(10):\n",
        "  A += R\n",
        "  print(A-R, end=' ')"
      ],
      "metadata": {
        "colab": {
          "base_uri": "https://localhost:8080/"
        },
        "id": "ARmWSflaHJxI",
        "outputId": "e0dcc681-5093-4f9d-dd0f-ef01bcbbeecb"
      },
      "execution_count": null,
      "outputs": [
        {
          "output_type": "stream",
          "name": "stdout",
          "text": [
            "Digite o valor inicial.\n",
            "5\n",
            "Digite a Razão.\n",
            "2\n",
            "5.0 7.0 9.0 11.0 13.0 15.0 17.0 19.0 21.0 23.0 "
          ]
        }
      ]
    },
    {
      "cell_type": "code",
      "source": [
        "from IPython.core.display import clear_output\n",
        "# 6)Desenvolver um algoritmo que leia a altura de 15 pessoas. Este programa deverá calcular e mostrar :\n",
        "# a. A menor altura do grupo;\n",
        "# b. A maior altura do grupo;\n",
        "\n",
        "alturas = []\n",
        "for i in range(15):\n",
        "  try:\n",
        "    n = float(input('Digite sua altura. Ex. 1.80\\n'))\n",
        "    alturas.append(n)\n",
        "  except:\n",
        "    print('Número inválido')\n",
        "\n",
        "clear_output()\n",
        "\n",
        "alturas.sort()\n",
        "print(f'Todas as alturas inseridas: {alturas}')\n",
        "print(f'A maior altura é {alturas[-1]}')\n",
        "print(f'A menor altura é: {alturas[0]}')"
      ],
      "metadata": {
        "colab": {
          "base_uri": "https://localhost:8080/"
        },
        "id": "7YGdCN-EIp8g",
        "outputId": "0c67daed-1b79-4e17-9aee-07ce4d630e99"
      },
      "execution_count": null,
      "outputs": [
        {
          "output_type": "stream",
          "name": "stdout",
          "text": [
            "Todas as alturas inseridas: [0.5, 0.7, 1.0, 1.0, 1.4, 1.5, 1.6, 1.7, 1.8, 1.8, 1.9, 1.9, 2.0, 2.0, 2.1]\n",
            "A maior altura é 2.1\n",
            "A menor altura é: 0.5\n"
          ]
        }
      ]
    },
    {
      "cell_type": "code",
      "source": [
        "# 7)Desenvolver um algoritmo que leia um número N DE VALORES\n",
        "# e calcule e escreva a média aritmética dos valores lidos,\n",
        "# a quantidade de valores positivos e a quantidade de valores negativos.\n",
        "\n",
        "while True:\n",
        "  try:\n",
        "    n = int(input('Digite a quantidade de valores que quer inserir:\\n'))\n",
        "    break\n",
        "  except:\n",
        "    print('Digite apenas números')\n",
        "\n",
        "total = 0\n",
        "positivos = 0\n",
        "negativos = 0\n",
        "zeros = 0\n",
        "for i in range(n):\n",
        "  try:\n",
        "    x = int(input(f'Digite o {i+1}º número.'))\n",
        "  except:\n",
        "    print('Digite apenas números')\n",
        "\n",
        "  if x > 0:\n",
        "    positivos += 1\n",
        "  elif x < 0:\n",
        "    negativos += 1\n",
        "  else:\n",
        "    zeros += 1\n",
        "  total += x\n",
        "\n",
        "print(f'A média dos valores é: {total / n}.')\n",
        "print(f'O total de números positivos foi: {positivos}.')\n",
        "print(f'O total de números negativos foi: {negativos}.')\n",
        "if zeros != 0:\n",
        "  print(f'O total de números 0 registrados foi: {zeros}.')"
      ],
      "metadata": {
        "colab": {
          "base_uri": "https://localhost:8080/"
        },
        "id": "m_J-ML6hKir0",
        "outputId": "c3861d9d-3a04-4972-c634-162b7d922a35"
      },
      "execution_count": null,
      "outputs": [
        {
          "output_type": "stream",
          "name": "stdout",
          "text": [
            "Digite a quantidade de valores que quer inserir:\n",
            "1\n",
            "Digite o 1º número.10\n",
            "A média dos valores é: 10.0.\n",
            "O total de números positivos foi: 1.\n",
            "O total de números negativos foi: 0.\n"
          ]
        }
      ]
    },
    {
      "cell_type": "code",
      "source": [
        "# 8)Faça um algoritmo estruturado que leia um número N de números positivos.\n",
        "# Calcule a quantidade de números pares e ímpares, a média de valores pares e\n",
        "# a média geral dos números lidos. O número que encerrará a leitura será zero.\n",
        "while True:\n",
        "  try:\n",
        "    n = int(input('Digite a quantidade de números desejada:\\n'))\n",
        "    if n >0:\n",
        "      break\n",
        "  except:\n",
        "    print('Digite apenas números.')\n",
        "\n",
        "par = 0\n",
        "impar = 0\n",
        "total = 0\n",
        "total_par = 0\n",
        "for i in range(n):\n",
        "  try:\n",
        "    x = int(input(f'Digite o {i+1}º número: \\n'))\n",
        "    total += x\n",
        "    if x % 2 ==0:\n",
        "      par += 1\n",
        "      total_par += x\n",
        "    else:\n",
        "      impar += 1\n",
        "  except:\n",
        "    print('Digite apenas números.')\n",
        "\n",
        "print(f'A quantidade total de números pares é: {par}.')\n",
        "print(f'A quantidade total de números ímpares é: {impar}.')\n",
        "print(f'A média dos valores pares é: {total_par / par}. ')\n",
        "print(f'A média total dos valores é: {total / n:.2}')"
      ],
      "metadata": {
        "colab": {
          "base_uri": "https://localhost:8080/"
        },
        "id": "CEcR5p0bOmhz",
        "outputId": "7ec2e1e4-6de8-470f-99a0-aacae28ac540"
      },
      "execution_count": null,
      "outputs": [
        {
          "output_type": "stream",
          "name": "stdout",
          "text": [
            "Digite a quantidade de números desejada:\n",
            "3\n",
            "Digite o 1º número: \n",
            "10\n",
            "Digite o 2º número: \n",
            "10\n",
            "Digite o 3º número: \n",
            "5\n",
            "A quantidade total de números pares é: 2.\n",
            "A quantidade total de números ímpares é: 1.\n",
            "A média dos valores pares é: 10.0. \n",
            "A média total dos valores é: 8.3\n"
          ]
        }
      ]
    },
    {
      "cell_type": "code",
      "source": [
        "# 9) Faça um Programa que leia uma lista de 10 números reais e mostre-os na ordem inversa.\n",
        "lista = []\n",
        "for i in range(10):\n",
        "  try:\n",
        "    x = int(input(f'Digite o {i+1} número.\\n'))\n",
        "    lista.append(x)\n",
        "  except:\n",
        "    print('Digite um número válido')\n",
        "print(lista)\n",
        "print(lista[::-1])"
      ],
      "metadata": {
        "colab": {
          "base_uri": "https://localhost:8080/"
        },
        "id": "oJb97vQhVCF5",
        "outputId": "0792eeed-f1ec-4a35-a8ba-8fd0f5adcd4b"
      },
      "execution_count": null,
      "outputs": [
        {
          "output_type": "stream",
          "name": "stdout",
          "text": [
            "Digite o 1 número.\n",
            "1\n",
            "Digite o 2 número.\n",
            "2\n",
            "Digite o 3 número.\n",
            "3\n",
            "Digite o 4 número.\n",
            "4\n",
            "Digite o 5 número.\n",
            "5\n",
            "Digite o 6 número.\n",
            "6\n",
            "Digite o 7 número.\n",
            "7\n",
            "Digite o 8 número.\n",
            "8\n",
            "Digite o 9 número.\n",
            "9\n",
            "Digite o 10 número.\n",
            "10\n",
            "[1, 2, 3, 4, 5, 6, 7, 8, 9, 10]\n",
            "[10, 9, 8, 7, 6, 5, 4, 3, 2, 1]\n"
          ]
        }
      ]
    },
    {
      "cell_type": "code",
      "source": [
        "# 10) Faça um Programa que leia 10 notas e armazene-as dentro de uma lista.\n",
        "# Em seguida mostre as notas e a média na tela.\n",
        "\n",
        "notas = []\n",
        "cont = 0\n",
        "total_notas = 0\n",
        "while cont < 10:\n",
        "  try:\n",
        "    x = float(input(f'Digite a {cont+1}ª nota: \\n'))\n",
        "    if x >= 0:\n",
        "      notas.append(x)\n",
        "      cont += 1\n",
        "      total_notas += x\n",
        "    else:\n",
        "      print('Digite apenas números válidos.')\n",
        "  except:\n",
        "    print('Digite apenas números')\n",
        "\n",
        "print(f'O total de notas é: {notas}')\n",
        "print(f'A média das notas é: {total_notas / cont:.2}')"
      ],
      "metadata": {
        "colab": {
          "base_uri": "https://localhost:8080/"
        },
        "id": "S38ocWMhWxbb",
        "outputId": "51586900-bd25-421f-b64c-b6936ecb4cce"
      },
      "execution_count": null,
      "outputs": [
        {
          "output_type": "stream",
          "name": "stdout",
          "text": [
            "Digite a 1ª nota: \n",
            "10\n",
            "Digite a 2ª nota: \n",
            "10\n",
            "Digite a 3ª nota: \n",
            "10\n",
            "Digite a 4ª nota: \n",
            "10\n",
            "Digite a 5ª nota: \n",
            "9\n",
            "Digite a 6ª nota: \n",
            "10\n",
            "Digite a 7ª nota: \n",
            "10\n",
            "Digite a 8ª nota: \n",
            "9\n",
            "Digite a 9ª nota: \n",
            "10\n",
            "Digite a 10ª nota: \n",
            "9\n",
            "O total de notas é: [10.0, 10.0, 10.0, 10.0, 9.0, 10.0, 10.0, 9.0, 10.0, 9.0]\n",
            "A média das notas é: 9.7\n"
          ]
        }
      ]
    },
    {
      "cell_type": "code",
      "source": [
        "# 11) Faça um Programa que leia uma palavra de 10 caracteres,\n",
        "# e diga quantas consoantes foram lidas. Imprima as consoantes.\n",
        "\n",
        "vogal = ['a', 'e', 'i', 'o', 'u']\n",
        "cont = 0\n",
        "while True:\n",
        "  x = input('Digite uma palavra com 10 caracteres:\\n')\n",
        "  if len(x) == 10:\n",
        "    break\n",
        "\n",
        "for i in x:\n",
        "  if i in vogal:\n",
        "    cont += 1\n",
        "    \n",
        "print(f'A palavra {x} tem {10 - cont} consoantes')"
      ],
      "metadata": {
        "colab": {
          "base_uri": "https://localhost:8080/"
        },
        "id": "bmGy3VzLY6iG",
        "outputId": "115b4bc1-b24f-4aec-9623-0d4263c09038"
      },
      "execution_count": null,
      "outputs": [
        {
          "output_type": "stream",
          "name": "stdout",
          "text": [
            "Digite uma palavra com 10 caracteres:\n",
            "anasdiayo\n",
            "Digite uma palavra com 10 caracteres:\n",
            "asdqweasdq\n",
            "A palavra asdqweasdq tem 7 consoantes\n"
          ]
        }
      ]
    },
    {
      "cell_type": "code",
      "source": [
        "# 12) Faça um Programa que leia 20 números inteiros e armazene-os numa lista.\n",
        "# Em seguida, percorra a lista e armazene os números pares em uma nova lista\n",
        "# PAR e os números IMPARES em uma nova lista ímpar. Ao final, imprima as 3 listas.\n",
        "\n",
        "lista = []\n",
        "par = []\n",
        "impar = []\n",
        "cont = 0\n",
        "while cont <20:\n",
        "  try:\n",
        "    x = int(input(f'Digite o {cont+1}º número\\n'))\n",
        "    cont += 1\n",
        "    lista.append(x)\n",
        "    if x %2==0:\n",
        "      par.append(x)\n",
        "    else:\n",
        "      impar.append(x)\n",
        "  except:\n",
        "    print('Digite apenas números inteiros')\n",
        "\n",
        "print(f'Todos os números digitados: {lista}.')\n",
        "print(f'Todos os números pares digitados: {par}.')\n",
        "print(f'Todos os números ímpares digitados: {impar}.')"
      ],
      "metadata": {
        "colab": {
          "base_uri": "https://localhost:8080/"
        },
        "id": "xNIvoRS7auYP",
        "outputId": "1db28abc-b870-4ff3-e148-2c9ade263535"
      },
      "execution_count": null,
      "outputs": [
        {
          "output_type": "stream",
          "name": "stdout",
          "text": [
            "Digite o 1º número1\n",
            "Digite o 2º número1\n",
            "Digite o 3º número1\n",
            "Digite o 4º número1\n",
            "Digite o 5º número1\n",
            "Digite o 6º número1\n",
            "Digite o 7º número1\n",
            "Digite o 8º número1\n",
            "Digite o 9º número1\n",
            "Digite o 10º número1\n",
            "Digite o 11º número1\n",
            "Digite o 12º número1\n",
            "Digite o 13º número2\n",
            "Digite o 14º número2\n",
            "Digite o 15º número2\n",
            "Digite o 16º número8\n",
            "Digite o 17º número8\n",
            "Digite o 18º número10\n",
            "Digite o 19º número650\n",
            "Digite o 20º número32\n",
            "Todos os números digitados: [1, 1, 1, 1, 1, 1, 1, 1, 1, 1, 1, 1, 2, 2, 2, 8, 8, 10, 650, 32].\n",
            "Todos os números pares digitados: [2, 2, 2, 8, 8, 10, 650, 32].\n",
            "Todos os números ímpares digitados: [1, 1, 1, 1, 1, 1, 1, 1, 1, 1, 1, 1].\n"
          ]
        }
      ]
    },
    {
      "cell_type": "code",
      "source": [
        "9# 13) Faça um Programa que peça as quatro notas de 10 alunos,\n",
        "# calcule e armazene numa lista a média de cada aluno.\n",
        "# Ao final imprima o número de alunos com média maior ou igual a 7.0.\n",
        "\n",
        "aluno1 = []\n",
        "aluno2 = []\n",
        "aluno3 = []\n",
        "aluno4 = []\n",
        "aluno5 = []\n",
        "aluno6 = []\n",
        "aluno7 = []\n",
        "aluno8 = []\n",
        "aluno9 = []\n",
        "aluno10 = []\n",
        "\n",
        "for i in range(10):\n",
        "  for i2 in range(4):\n",
        "    x = int(input(f'Insira a {i2+1}ª nota do {i+1}º aluno.'))\n",
        "    if i+1 == 1:\n",
        "      aluno1.append(x)\n",
        "    elif i+1 == 2:\n",
        "      aluno2.append(x)\n",
        "    elif i+1 ==3:\n",
        "      aluno3.append(x)\n",
        "    elif i+1 == 4:\n",
        "      aluno4.append(x)\n",
        "    elif i+1 == 5:\n",
        "      aluno5.append(x)\n",
        "    elif i+1 == 6:\n",
        "      aluno6.append(x)\n",
        "    elif i+1 == 7:\n",
        "      aluno7.append(x)\n",
        "    elif i+1 ==8:\n",
        "      aluno8.append(x)\n",
        "    elif i+1 ==9:\n",
        "      aluno9.append(x)\n",
        "    else:\n",
        "      aluno10.append(x)\n",
        "  \n",
        "x1 = 0\n",
        "for i in aluno1:\n",
        "  x1 += i\n",
        "x1 = x1 / 4\n",
        "if x1 > 7:\n",
        "  print(f'A média do aluno1 foi maior que 7')\n",
        "\n",
        "x2 = 0\n",
        "for i in aluno2:\n",
        "  x2 += i\n",
        "x2 = x2/4\n",
        "if x2 > 7:\n",
        "  print(f'A média do aluno2 foi maior que 7')\n",
        "\n",
        "x3 = 0\n",
        "for i in aluno3:\n",
        "  x3 += i\n",
        "x3 = x3/4\n",
        "if x3 > 7:\n",
        "  print(f'A média do aluno3 foi maior que 7')\n",
        "\n",
        "x4 =0\n",
        "for i in aluno4:\n",
        "  x4 += i\n",
        "x4 = x4/4\n",
        "if x4 > 7:\n",
        "  print(f'A média do aluno4 foi maior que 7')\n",
        "\n",
        "x5 = 0\n",
        "for i in aluno5:\n",
        "  x5 += i\n",
        "x5 = x5/4\n",
        "if x5 > 7:\n",
        "  print(f'A média do aluno5 foi maior que 7')\n",
        "\n",
        "x6 = 0\n",
        "for i in aluno6:\n",
        "  x6 += i\n",
        "x6 = x6 /4\n",
        "if x6 > 7:\n",
        "  print(f'A média do aluno6 foi maior que 7')\n",
        "\n",
        "x7 = 0\n",
        "for i in aluno7:\n",
        "  x7 += i\n",
        "x7 = x7/4\n",
        "if x7 > 7:\n",
        "  print(f'A média do aluno7 foi maior que 7')\n",
        "\n",
        "x8 = 0\n",
        "for i in aluno8:\n",
        "  x8 += i\n",
        "x8 = x8/4\n",
        "if x8 > 7:\n",
        "  print(f'A média do aluno8 foi maior que 7')\n",
        "\n",
        "x9 =0\n",
        "for i in aluno9:\n",
        "  x9 += i\n",
        "x9 = x9/4\n",
        "if x9 > 7:\n",
        "  print(f'A média do aluno9 foi maior que 7')\n",
        "\n",
        "x10 = 0\n",
        "for i in aluno10:\n",
        "  x10 += i\n",
        "x10 = x10/4\n",
        "if x10 > 7:\n",
        "  print(f'A média do aluno10 foi maior que 7')"
      ],
      "metadata": {
        "colab": {
          "base_uri": "https://localhost:8080/"
        },
        "id": "Zv6zeYn4csIi",
        "outputId": "bf3ffdb2-3bab-465b-ed4d-ec2bfdd7d79f"
      },
      "execution_count": null,
      "outputs": [
        {
          "output_type": "stream",
          "name": "stdout",
          "text": [
            "Insira a 1ª nota do 1º aluno.1\n",
            "Insira a 2ª nota do 1º aluno.10\n",
            "Insira a 3ª nota do 1º aluno.10\n",
            "Insira a 4ª nota do 1º aluno.10\n",
            "Insira a 1ª nota do 2º aluno.10\n",
            "Insira a 2ª nota do 2º aluno.10\n",
            "Insira a 3ª nota do 2º aluno.9\n",
            "Insira a 4ª nota do 2º aluno.9\n",
            "Insira a 1ª nota do 3º aluno.9\n",
            "Insira a 2ª nota do 3º aluno.9\n",
            "Insira a 3ª nota do 3º aluno.9\n",
            "Insira a 4ª nota do 3º aluno.7\n",
            "Insira a 1ª nota do 4º aluno.7\n",
            "Insira a 2ª nota do 4º aluno.5\n",
            "Insira a 3ª nota do 4º aluno.4\n",
            "Insira a 4ª nota do 4º aluno.0\n",
            "Insira a 1ª nota do 5º aluno.0\n",
            "Insira a 2ª nota do 5º aluno.2\n",
            "Insira a 3ª nota do 5º aluno.3\n",
            "Insira a 4ª nota do 5º aluno.4\n",
            "Insira a 1ª nota do 6º aluno.9\n",
            "Insira a 2ª nota do 6º aluno.9\n",
            "Insira a 3ª nota do 6º aluno.7\n",
            "Insira a 4ª nota do 6º aluno.9\n",
            "Insira a 1ª nota do 7º aluno.5\n",
            "Insira a 2ª nota do 7º aluno.0\n",
            "Insira a 3ª nota do 7º aluno.3\n",
            "Insira a 4ª nota do 7º aluno.0\n",
            "Insira a 1ª nota do 8º aluno.2\n",
            "Insira a 2ª nota do 8º aluno.3\n",
            "Insira a 3ª nota do 8º aluno.8\n",
            "Insira a 4ª nota do 8º aluno.1\n",
            "Insira a 1ª nota do 9º aluno.9\n",
            "Insira a 2ª nota do 9º aluno.7\n",
            "Insira a 3ª nota do 9º aluno.9\n",
            "Insira a 4ª nota do 9º aluno.10\n",
            "Insira a 1ª nota do 10º aluno.5\n",
            "Insira a 2ª nota do 10º aluno.6\n",
            "Insira a 3ª nota do 10º aluno.7\n",
            "Insira a 4ª nota do 10º aluno.8\n",
            "A média do aluno1 foi maior que 7\n",
            "A média do aluno2 foi maior que 7\n",
            "A média do aluno3 foi maior que 7\n",
            "A média do aluno6 foi maior que 7\n",
            "A média do aluno9 foi maior que 7\n"
          ]
        }
      ]
    },
    {
      "cell_type": "code",
      "source": [
        "# 13) Faça um Programa que peça as quatro notas de 10 alunos,\n",
        "# calcule e armazene numa lista a média de cada aluno.\n",
        "# Ao final imprima o número de alunos com média maior ou igual a 7.0.\n",
        "\n",
        "aluno = []\n",
        "n = 0\n",
        "cont = 0\n",
        "for i in range(4):\n",
        "  for i2 in range(2):\n",
        "    while cont < 2:\n",
        "      try:\n",
        "        x = float(input(f'Digite a {cont+1}ª nota do {i+1}º aluno.'))\n",
        "        n += x\n",
        "        cont += 1\n",
        "      except:\n",
        "        print('Digite apenas números.')\n",
        "  n = n/2\n",
        "  aluno.append(n)\n",
        "  n = 0\n",
        "  cont = 0\n",
        "  \n",
        "print('-------------------------')\n",
        "\n",
        "for i in aluno:\n",
        "  if i >=7:\n",
        "   print(f'O aluno {cont+1} teve média {i}.')\n",
        "  cont += 1"
      ],
      "metadata": {
        "colab": {
          "base_uri": "https://localhost:8080/"
        },
        "id": "JPOHVJYbery1",
        "outputId": "751f1614-1cac-4524-c281-081d3b5510ad"
      },
      "execution_count": null,
      "outputs": [
        {
          "output_type": "stream",
          "name": "stdout",
          "text": [
            "Digite a 1ª nota do 1º aluno.1\n",
            "Digite a 2ª nota do 1º aluno.5\n",
            "Digite a 1ª nota do 2º aluno.9\n",
            "Digite a 2ª nota do 2º aluno.10\n",
            "Digite a 1ª nota do 3º aluno.2\n",
            "Digite a 2ª nota do 3º aluno.4\n",
            "Digite a 1ª nota do 4º aluno.7\n",
            "Digite a 2ª nota do 4º aluno.8\n",
            "-------------------------\n",
            "O aluno 2 teve média 9.5.\n",
            "O aluno 4 teve média 7.5.\n"
          ]
        }
      ]
    },
    {
      "cell_type": "code",
      "source": [
        "# 14) Faça um programa que leia o nome de dez alunos, juntamente com 3\n",
        "# notas de avaliação para cada um. Em seguida, tire a média de cada aluno\n",
        "# e também armazene as médias. Ao final, imprima o nome de cada aluno e a sua média.\n",
        "\n",
        "alunos = []\n",
        "medias = []\n",
        "n = 0\n",
        "cont = 0\n",
        "\n",
        "for i in range(10):\n",
        "  x = input(f'Qual o nome do aluno {i+1}?')\n",
        "  alunos.append(x)\n",
        "  cont = 0\n",
        "  for i in range(3):\n",
        "    while cont <3:\n",
        "      try:\n",
        "        x1 = float(input(f'Digite a {cont+1}ª nota do {x}:\\n'))\n",
        "        n += x1\n",
        "        cont += 1\n",
        "      except:\n",
        "        print('Digite apenas números.')\n",
        "  n = n / 3\n",
        "  medias.append(n)\n",
        "  n = 0\n",
        "    \n",
        "cont = 0 \n",
        "for i in alunos:\n",
        "  print(f'O aluno {i} teve média de {medias[cont]:.2}')\n",
        "  cont+=1"
      ],
      "metadata": {
        "colab": {
          "base_uri": "https://localhost:8080/"
        },
        "id": "KJ4Q72ciWgtF",
        "outputId": "dcb6f25c-0b4f-4ed5-8532-4d425f35320e"
      },
      "execution_count": null,
      "outputs": [
        {
          "output_type": "stream",
          "name": "stdout",
          "text": [
            "Qual o nome do aluno 1?renan\n",
            "Digite a 1ª nota do renan:\n",
            "10\n",
            "Digite a 2ª nota do renan:\n",
            "10\n",
            "Digite a 3ª nota do renan:\n",
            "9\n",
            "O aluno renan teve média de 9.7\n"
          ]
        }
      ]
    },
    {
      "cell_type": "code",
      "source": [
        "# 15) Faça um Programa que leia uma lista de 5 números inteiros.\n",
        "# Em seguida, calcule a soma e a multiplicação entre os números.\n",
        "# Ao final exiba os números da lista, o valor da soma e da multiplicação.\n",
        "\n",
        "x=[]\n",
        "cont = 0\n",
        "while True:\n",
        "  try:\n",
        "    n = int(input(f'Digite o {cont+1} número inteiro.'))\n",
        "    x.append(n)\n",
        "    cont+=1\n",
        "    if cont == 5:\n",
        "      break\n",
        "  except:\n",
        "    print('Digite apenas números inteiros.')\n",
        "\n",
        "somar = 0\n",
        "for i in x:\n",
        "  somar += i\n",
        "print(f'O resultado da soma dos números é: {somar}')\n",
        "\n",
        "multiplicacao = 1\n",
        "for i in x:\n",
        "  multiplicacao *= i\n",
        "print(f'O resultado da multiplicação é: {multiplicacao}')"
      ],
      "metadata": {
        "colab": {
          "base_uri": "https://localhost:8080/"
        },
        "id": "PfsTAJi_iKA8",
        "outputId": "3807d66a-2148-401a-a5bd-282fbaf53f34"
      },
      "execution_count": null,
      "outputs": [
        {
          "output_type": "stream",
          "name": "stdout",
          "text": [
            "Digite o 1 número inteiro.5\n",
            "Digite o 2 número inteiro.10\n",
            "Digite o 3 número inteiro.9\n",
            "Digite o 4 número inteiro.a\n",
            "Digite apenas números inteiros.\n",
            "Digite o 4 número inteiro.4\n",
            "Digite o 5 número inteiro.5\n",
            "O resultado da soma dos números é: 33\n",
            "O resultado da multiplicação é: 9000\n"
          ]
        }
      ]
    },
    {
      "cell_type": "code",
      "source": [
        "# 16) Crie um dicionário Pessoas e coloque nele seus dados:\n",
        "# nome, idade, telefone,endereço. Usando o dicionário Pessoas criado anteriormente, imprima seu nome.\n",
        "pessoas = {'nome':'Renan', 'idade':33, 'telefone':00000000, 'endereco':'Santo André'}\n",
        "print(pessoas['nome'])"
      ],
      "metadata": {
        "colab": {
          "base_uri": "https://localhost:8080/"
        },
        "id": "txWzjMRnnYVj",
        "outputId": "e8b7f475-0eef-4d95-ed1d-5d96663fc7c0"
      },
      "execution_count": null,
      "outputs": [
        {
          "output_type": "stream",
          "name": "stdout",
          "text": [
            "Renan\n"
          ]
        }
      ]
    },
    {
      "cell_type": "code",
      "source": [
        "# 17) Crie uma lista contendo N alunos (deverá ser lido pelo usuário).\n",
        "# Para cada pessoa da lista, deverão ser armazenados dados para\n",
        "# Nome, idade, endereço e telefone. Ao final, peça para o usuário\n",
        "# escolher um número de 1 até N (que foi digitado anteriormente) e exiba na tela os dados referentes a esse aluno.\n",
        "\n",
        "n = int(input('Digite a quantidade de alunos desejada.'))\n",
        "\n",
        "lista = []\n",
        "dic = {}\n",
        "for i in range(n):\n",
        "  lista.append(input(f'Digite o nome do aluno {i+1}:\\n'))\n",
        "  lista.append(input(f'Digite a idade do aluno {i+1}:\\n'))\n",
        "  lista.append(input(f'Digite o endereço do aluno {i+1}:\\n'))\n",
        "  lista.append(input(f'Digite o telefone do alunoe {i+1}:\\n'))\n",
        "  dic[i+1] = lista[:]\n",
        "  lista = []\n",
        "\n",
        "while True:\n",
        "  try:\n",
        "    nf = int(input(f'Digite um número entre 1 e {n} para ver as informações do aluno.'))\n",
        "    if 1 <= nf <= n:\n",
        "      break\n",
        "    else:\n",
        "      print(f'{nf} não está entre 1 e {n}')\n",
        "  except:\n",
        "    print('Digite apenas números.')\n",
        "\n",
        "\n",
        "print(f'\\n\\n{dic[nf]}')"
      ],
      "metadata": {
        "colab": {
          "base_uri": "https://localhost:8080/"
        },
        "id": "dbXSj6UVo4pM",
        "outputId": "e8711421-97bc-4082-da6f-5b670bd49623"
      },
      "execution_count": null,
      "outputs": [
        {
          "output_type": "stream",
          "name": "stdout",
          "text": [
            "Digite a quantidade de alunos desejada.3\n",
            "Digite o nome do aluno 1:\n",
            "Renan\n",
            "Digite a idade do aluno 1:\n",
            "33\n",
            "Digite o endereço do aluno 1:\n",
            "Santo André\n",
            "Digite o telefone do alunoe 1:\n",
            "9494949494\n",
            "Digite o nome do aluno 2:\n",
            "Juliana\n",
            "Digite a idade do aluno 2:\n",
            "30\n",
            "Digite o endereço do aluno 2:\n",
            "Santo André\n",
            "Digite o telefone do alunoe 2:\n",
            "94949449\n",
            "Digite o nome do aluno 3:\n",
            "Marina\n",
            "Digite a idade do aluno 3:\n",
            "14\n",
            "Digite o endereço do aluno 3:\n",
            "Santo André\n",
            "Digite o telefone do alunoe 3:\n",
            "94949494\n",
            "Digite um número entre 1 e 3 para ver as informações do aluno.1\n",
            "\n",
            "\n",
            " ['Renan', '33', 'Santo André', '9494949494']\n"
          ]
        }
      ]
    },
    {
      "cell_type": "code",
      "source": [
        "# 18) Crie um dicionário clientes e coloque nele os dados fornecidos pelo usuário:\n",
        "# nome, idade, telefone,endereço. Em seguida, imprima todos os itens do dicionário\n",
        "# no formato chave : valor, ordenado pela chave\n",
        "\n",
        "clientes = {}\n",
        "lista = []\n",
        "n = int(input('Digite a quantidade de dados que deseja inserir'))\n",
        "for i in range(n):\n",
        "  lista.append(input(f'Digite o {i+1}º nome: \\n'))\n",
        "  lista.append(int(input(f'Digite a {i+1}º idade: \\n')))\n",
        "  lista.append(int(input(f'Digite o {i+1}º telefone: \\n')))\n",
        "  lista.append(input(f'Digite o {i+1}º endereço: \\n'))\n",
        "  clientes[i+1] = lista[:]\n",
        "  lista = []\n",
        "\n",
        "print(clientes)"
      ],
      "metadata": {
        "colab": {
          "base_uri": "https://localhost:8080/"
        },
        "id": "dpL0duIXuyj0",
        "outputId": "b0f6620b-6a21-4d08-9b12-1395565d3d84"
      },
      "execution_count": null,
      "outputs": [
        {
          "output_type": "stream",
          "name": "stdout",
          "text": [
            "Digite a quantidade de dados que deseja inserir2\n",
            "Digite o 1º nome: \n",
            "renan\n",
            "Digite o 2º nome: \n",
            "joao\n",
            "{1: ['renan'], 2: ['joao']}\n"
          ]
        }
      ]
    },
    {
      "cell_type": "code",
      "source": [
        "clientes={}\n",
        "def cliente():\n",
        "  a={}\n",
        "  nome=input('Nome: ')\n",
        "  idade=input('Idade: ')\n",
        "  telefone=input('Telefone: ')\n",
        "  endereco=input('Endereço: ')\n",
        "  a['Nome'] = nome\n",
        "  a['Idade'] = idade\n",
        "  a['Telefone'] = telefone\n",
        "  a['Endereço'] = endereco\n",
        "  return a\n",
        "for i in range(2):\n",
        "  clientes[f'cliente {i+1}']= cliente()\n",
        "print(clientes)"
      ],
      "metadata": {
        "colab": {
          "base_uri": "https://localhost:8080/"
        },
        "id": "oBG1t1Gq526H",
        "outputId": "1119cb94-49af-4f9b-90e4-ce7d40a6773a"
      },
      "execution_count": null,
      "outputs": [
        {
          "output_type": "stream",
          "name": "stdout",
          "text": [
            "Nome: Everton\n",
            "Idade: 15\n",
            "Telefone: 6540\n",
            "Endereço: 1894940\n",
            "Nome: gustavo\n",
            "Idade: 17\n",
            "Telefone: 198165\n",
            "Endereço: 41650\n",
            "{'cliente 1': {'Nome': 'Everton', 'Idade': '15', 'Telefone': '6540', 'Endereço': '1894940'}, 'cliente 2': {'Nome': 'gustavo', 'Idade': '17', 'Telefone': '198165', 'Endereço': '41650'}}\n"
          ]
        }
      ]
    },
    {
      "cell_type": "code",
      "source": [
        "#Eveline\n",
        "\n",
        "pessoa={}\n",
        "pessoamenor={}\n",
        "n=int(input(''))\n",
        "excluir=[]\n",
        "for i in range(n):\n",
        "    cpf=input('CPF')\n",
        "    pessoa[cpf]={'nome':input('Nome')}\n",
        "    pessoa[cpf]['idade']=int(input('Idade'))\n",
        "    \n",
        "for i in pessoa:\n",
        "    if pessoa[i]['idade']<18:\n",
        "        pessoamenor[i]=pessoa[i]\n",
        "        excluir.append(i)\n",
        "for i in excluir:\n",
        "    pessoa.pop(i)\n",
        "        \n",
        "print('Pessoa: ',pessoa)\n",
        "print('Menores:',pessoamenor)"
      ],
      "metadata": {
        "colab": {
          "base_uri": "https://localhost:8080/"
        },
        "id": "nnACAu537B_m",
        "outputId": "9799d097-8b69-4e94-abe2-c754d3131c17"
      },
      "execution_count": null,
      "outputs": [
        {
          "output_type": "stream",
          "name": "stdout",
          "text": [
            "2\n",
            "CPF1651\n",
            "Nomerenan\n",
            "Idade30\n",
            "CPFdsada\n",
            "Nomegustavo\n",
            "Idade15\n",
            "Pessoa:  {'1651': {'nome': 'renan', 'idade': 30}}\n",
            "Menores: {'dsada': {'nome': 'gustavo', 'idade': 15}}\n"
          ]
        }
      ]
    },
    {
      "cell_type": "code",
      "source": [
        "count = 0\n",
        "pessoas = {}\n",
        "while True:\n",
        "  pessoas[f\"Pessoa {count}\"] = {\n",
        "      \"nome\": lerNome(),\n",
        "      \"idade\": lerNumeroPositivo(),\n",
        "      \"cpf\": lerCPF()\n",
        "  }\n",
        "  count += 1\n",
        "  if input(\"Continuar? s ou n \") == 'n':\n",
        "    break\n",
        "pessoas18 = {}\n",
        "print(pessoas)\n",
        "\n",
        "for i in pessoas:\n",
        "  if pessoas[i][\"idade\"] < 18:\n",
        "    pessoas18[i] = pessoas[i]\n",
        "\n",
        "for i in pessoas18:\n",
        "  pessoas.pop(i)\n",
        "\n",
        "print(f\"Pessoas -18: {pessoas18}\")\n",
        "print(f\"Pessoas +18: {pessoas}\")"
      ],
      "metadata": {
        "id": "hTKErWh76bHA"
      },
      "execution_count": null,
      "outputs": []
    },
    {
      "cell_type": "code",
      "source": [
        "from IPython.core.display import clear_output\n",
        "# 19) Crie um programa que cadastre informações de várias pessoas (nome, idade e cpf)\n",
        "# e depois coloque em um dicionário. Depois remova todas as pessoas menores\n",
        "# de 18 anos do dicionário e coloque em outro dicionário.\n",
        "\n",
        "dados = []\n",
        "dadosmenor = []\n",
        "dic = {}\n",
        "dicmenor = {}\n",
        "n = int(input('Digite um número de pessoas a ser inserida.'))\n",
        "\n",
        "for i in range(n):\n",
        "  while True:\n",
        "    try:\n",
        "      dados.append(input(f'Digite o nome da {i+1}ª pessoa:\\n'))\n",
        "      dados.append(int(input(f'Digite a idade da {i+1}ª pessoa:\\n')))\n",
        "      dados.append(int(input(f'Digite o CPF (somente números) da {i+1}ª pessoa:\\n')))\n",
        "      dic[i+1] = dados[:]\n",
        "      dados = []\n",
        "      break\n",
        "    except:\n",
        "      print('Digite os dados corretamente.')\n",
        "\n",
        "for i in range(n):\n",
        "  if dic[i+1][1] < 18:\n",
        "    ex = dic.pop(i+1)\n",
        "    dicmenor[i+1] = ex[:]\n",
        "\n",
        "clear_output()\n",
        "print(f'Pessoas maiores de 18 anos:\\n{dic}.')\n",
        "print(f'Pessoas menores de 10 anos:\\n{dicmenor}')"
      ],
      "metadata": {
        "colab": {
          "base_uri": "https://localhost:8080/"
        },
        "id": "29OcE8sMzHAS",
        "outputId": "61415b5c-fe03-4838-fcba-cd0da2f0a132"
      },
      "execution_count": null,
      "outputs": [
        {
          "output_type": "stream",
          "name": "stdout",
          "text": [
            "Pessoas maiores de 18 anos:\n",
            "{1: ['renan', 33, 151650]}.\n",
            "Pessoas menores de 10 anos:\n",
            "{2: ['gustavo', 15, 5498470]}\n"
          ]
        }
      ]
    },
    {
      "cell_type": "code",
      "source": [
        "# 20) Crie um dicionário que é uma agenda e coloque nele os seguintes dados:\n",
        "# chave (cpf), nome, idade, telefone. O programa deve ler um número indeterminado\n",
        "# de dados, criar a agenda e imprimir todos os itens do dicionário no formato chave: nome-idadefone.\n",
        "\n",
        "agenda = {}\n",
        "dados = []\n",
        "n = int(input('Digite a quantidade de dados que quer inserir:\\n'))\n",
        "for i in range(n):\n",
        "  cpf = int(input(f'Digite o CPF da {i+1}ª pessoa.\\n'))\n",
        "  dados.append(input(f'Digite o nome da {i+1}ª pessoa:\\n'))\n",
        "  dados.append(input(f'Digite a idade da {i+1}ª pessoa:\\n'))\n",
        "  dados.append(int(input(f'Digite o telefone da {i+1}ª pessoa:\\n')))\n",
        "  agenda[cpf] = dados[:]\n",
        "  dados = []\n",
        "\n",
        "clear_output()\n",
        "\n",
        "for i in agenda:\n",
        "  print(f'{i}: {agenda[i][0]}-{agenda[i][1]}-{agenda[i][2]}')"
      ],
      "metadata": {
        "colab": {
          "base_uri": "https://localhost:8080/"
        },
        "id": "tfbK26ho0HPV",
        "outputId": "20f76efd-ee42-4c19-f540-202039bffc1b"
      },
      "execution_count": null,
      "outputs": [
        {
          "output_type": "stream",
          "name": "stdout",
          "text": [
            "11111111111: Renan-33-999999\n",
            "22222222222: Juliana-30-999999\n",
            "33333333333: Marina-14-66666666\n"
          ]
        }
      ]
    },
    {
      "cell_type": "code",
      "source": [
        "# 21) Faça uma função que recebe a idade de uma pessoa em anos, meses e dias e retorna essa idade expressa em dias.\n",
        "\n",
        "def aniversario(n1, n2, n3):\n",
        "  bi = n1//4\n",
        "  n1 *= 365\n",
        "  n2 = n2 * 30\n",
        "  n3 = n3 + n2 + n1 + bi\n",
        "  return n3\n",
        "\n",
        "aniversario(33, 5, 8)"
      ],
      "metadata": {
        "colab": {
          "base_uri": "https://localhost:8080/"
        },
        "id": "WljPGnQK-sCx",
        "outputId": "c358e203-5050-4d68-d12c-415a98ae48f1"
      },
      "execution_count": null,
      "outputs": [
        {
          "output_type": "execute_result",
          "data": {
            "text/plain": [
              "12211"
            ]
          },
          "metadata": {},
          "execution_count": 17
        }
      ]
    },
    {
      "cell_type": "code",
      "source": [
        "# 22) Faça uma função que verifique se um valor é perfeito ou não.\n",
        "# Um valor é dito perfeito quando ele é igual a soma dos seus divisores\n",
        "# excetuando ele próprio. (Ex: 6 é perfeito, 6 = 1 + 2 + 3, que são seus divisores).\n",
        "# A função deve retornar um valor booleano.\n",
        "\n",
        "def func():\n",
        "  n = int(input('Insira um valor para desconrir se é perfeito ou não.'))\n",
        "  x = 0\n",
        "  for i in range(1,n):\n",
        "    if n % i ==0:\n",
        "      x += i\n",
        "\n",
        "  if n == x:\n",
        "    return True\n",
        "  else:\n",
        "    return False\n",
        "\n",
        "func()"
      ],
      "metadata": {
        "colab": {
          "base_uri": "https://localhost:8080/"
        },
        "id": "-Q47IO7W839Q",
        "outputId": "dec4c2e8-eb96-4f90-b39c-b2d3ba705bf0"
      },
      "execution_count": null,
      "outputs": [
        {
          "name": "stdout",
          "output_type": "stream",
          "text": [
            "Insira um valor para desconrir se é perfeito ou não.6\n"
          ]
        },
        {
          "output_type": "execute_result",
          "data": {
            "text/plain": [
              "True"
            ]
          },
          "metadata": {},
          "execution_count": 49
        }
      ]
    },
    {
      "cell_type": "code",
      "source": [
        "# 23) Escreva uma função que recebes 3 valores reais X, Y e Z e que verifique se esses valores\n",
        "# podem ser os comprimentos dos lados de um triângulo e, neste caso, retornar qual o tipo de\n",
        "# triângulo formado. Para que X, Y e Z formem um triângulo é necessário que a seguinte propriedade\n",
        "# seja satisfeita: o comprimento de cada lado de um triângulo é menor do que a soma do comprimento\n",
        "# dos outros dois lados. A função deve identificar o tipo de triângulo formado observando as seguintes definições:\n",
        "\n",
        "# Triângulo Equilátero: os comprimentos dos 3 lados são iguais.\n",
        "# Triângulo Isósceles: os comprimentos de 2 lados são iguais.\n",
        "# Triângulo Escaleno: os comprimentos dos 3 lados são diferentes.\n",
        "\n",
        "def triangulo(n1,n2,n3):\n",
        "  if n1 == n2 and n1 == n3:\n",
        "    print('Triângulo Equilátero')\n",
        "  elif n1 != n2 and n1 != n3 and n2 != n3:\n",
        "    print('Triângulo Escaleno')\n",
        "\n",
        "  elif n1 == n2 and n1 != n3:\n",
        "    print('Triângulo Isósceles')\n",
        "  elif n1 == n3 and n1 != n2:\n",
        "    print('Triângulo Isósceles')\n",
        "  elif n3 == n2 and n2 != n1:\n",
        "    print('Triângulo Isósceles')\n",
        "  else:\n",
        "    print('Formato faltando no código')\n",
        "  \n",
        "triangulo(4,3,3)"
      ],
      "metadata": {
        "colab": {
          "base_uri": "https://localhost:8080/"
        },
        "id": "kNTfhf3bH6XV",
        "outputId": "3eac6d83-0ac3-4042-b25c-d06746d3502f"
      },
      "execution_count": null,
      "outputs": [
        {
          "output_type": "stream",
          "name": "stdout",
          "text": [
            "Triângulo Isósceles\n"
          ]
        }
      ]
    }
  ]
}