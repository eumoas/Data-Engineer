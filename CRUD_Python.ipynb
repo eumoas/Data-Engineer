{
  "nbformat": 4,
  "nbformat_minor": 0,
  "metadata": {
    "colab": {
      "name": "CRUD Python.ipynb",
      "provenance": [],
      "include_colab_link": true
    },
    "kernelspec": {
      "name": "python3",
      "display_name": "Python 3"
    },
    "language_info": {
      "name": "python"
    }
  },
  "cells": [
    {
      "cell_type": "markdown",
      "metadata": {
        "id": "view-in-github",
        "colab_type": "text"
      },
      "source": [
        "<a href=\"https://colab.research.google.com/github/eumoas/Data-Engineer/blob/main/CRUD_Python.ipynb\" target=\"_parent\"><img src=\"https://colab.research.google.com/assets/colab-badge.svg\" alt=\"Open In Colab\"/></a>"
      ]
    },
    {
      "cell_type": "code",
      "execution_count": null,
      "metadata": {
        "colab": {
          "base_uri": "https://localhost:8080/"
        },
        "id": "IYvoHAowahLx",
        "outputId": "72246e0d-19d5-4313-d729-cbf5a857a008"
      },
      "outputs": [
        {
          "output_type": "stream",
          "name": "stdout",
          "text": [
            "Collecting mysql-connector-python\n",
            "  Downloading mysql_connector_python-8.0.28-cp37-cp37m-manylinux1_x86_64.whl (37.6 MB)\n",
            "\u001b[K     |████████████████████████████████| 37.6 MB 450 kB/s \n",
            "\u001b[?25hRequirement already satisfied: protobuf>=3.0.0 in /usr/local/lib/python3.7/dist-packages (from mysql-connector-python) (3.17.3)\n",
            "Requirement already satisfied: six>=1.9 in /usr/local/lib/python3.7/dist-packages (from protobuf>=3.0.0->mysql-connector-python) (1.15.0)\n",
            "Installing collected packages: mysql-connector-python\n",
            "Successfully installed mysql-connector-python-8.0.28\n"
          ]
        }
      ],
      "source": [
        "#INSTALAR UMA BIBLIOTECA DE CONEXÃO PYTHON COM O MYSQL\n",
        "!pip install mysql-connector-python"
      ]
    },
    {
      "cell_type": "code",
      "source": [
        "#IMPORTAR AS BIBLIOTECAS DE CONEXÃO\n",
        "import mysql.connector\n",
        "from mysql.connector import Error"
      ],
      "metadata": {
        "id": "YqHImzRgeOB8"
      },
      "execution_count": null,
      "outputs": []
    },
    {
      "cell_type": "code",
      "source": [
        "#ESTABELECER UMA CONEXÃO COM O BANCO DE DADOS ESCOLHIDO (escola)\n",
        "def conexao_db(host, user, password, db):\n",
        "  conexao = None\n",
        "  try:\n",
        "    conexao = mysql.connector.connect(\n",
        "      host = host,\n",
        "      user = user,\n",
        "      passwd = password,\n",
        "      database = db     \n",
        "    )\n",
        "    print(f\"Conexão com o banco {db} realizada com Sucesso!\")\n",
        "  except:\n",
        "    print(f\"Erro ao conectar ao banco {db}! '{Error}'\")\n",
        "\n",
        "  return conexao\n",
        "#retornar um objeto de conexão"
      ],
      "metadata": {
        "id": "_pjvb6gwfBLF"
      },
      "execution_count": null,
      "outputs": []
    },
    {
      "cell_type": "code",
      "source": [
        "#CRIA UM OBJETO DE CONEXÃO COM O BANCO CHAMADO conexao\n",
        "conexao = conexao_db(\"35.222.95.119\", \"root\", \"123456\", \"escola\")"
      ],
      "metadata": {
        "colab": {
          "base_uri": "https://localhost:8080/"
        },
        "id": "qQTZHivBofRD",
        "outputId": "18739b71-89aa-44aa-c9aa-d2ff21073085"
      },
      "execution_count": null,
      "outputs": [
        {
          "output_type": "stream",
          "name": "stdout",
          "text": [
            "Conexão com o banco escola realizada com Sucesso!\n"
          ]
        }
      ]
    },
    {
      "cell_type": "code",
      "source": [
        "#CRIAR UMA FUNÇÃO PARA EXECUTAR INSERT, UPDATE, DELETE (Também seria possível\n",
        "# executar os comandos DDL)\n",
        "def executar_query(conexao, sql):\n",
        "  cursor = conexao.cursor()\n",
        "  try:\n",
        "    cursor.execute(sql)\n",
        "    conexao.commit()\n",
        "    print(\"Query executada com Sucesso!\")\n",
        "  except Error as err:\n",
        "    print(f\"Erro ao executar a query! {err}\")"
      ],
      "metadata": {
        "id": "0MOBaMsSsaER"
      },
      "execution_count": null,
      "outputs": []
    },
    {
      "cell_type": "code",
      "source": [
        "#CRIAR UMA FUNÇÃO PARA EXECUTAR O SELECT (leitura de dados do Banco de Dados)\n",
        "def ler_query(conexao, sql):\n",
        "  cursor = conexao.cursor()\n",
        "  resultado = None\n",
        "  try:\n",
        "    cursor.execute(sql)\n",
        "    resultado = cursor.fetchall()\n",
        "    return resultado\n",
        "  except Error as err:\n",
        "    print(f\"Erro ao listar do banco de dados - '{err}'\")"
      ],
      "metadata": {
        "id": "SFDegJCl6C_0"
      },
      "execution_count": null,
      "outputs": []
    },
    {
      "cell_type": "code",
      "source": [
        "#CRUD - C CREATE\n",
        "query = \"INSERT INTO alunos VALUES (NULL, 'Marcelo Armando', '297892721', '1111111111', '2222222222', 'Teresópolis', 'RJ', 1)\"\n",
        "executar_query(conexao, query)"
      ],
      "metadata": {
        "colab": {
          "base_uri": "https://localhost:8080/"
        },
        "id": "H0goYmnbsXDh",
        "outputId": "eb8029c1-c36c-4ad4-afa9-db78fba764bd"
      },
      "execution_count": null,
      "outputs": [
        {
          "output_type": "stream",
          "name": "stdout",
          "text": [
            "Query executada com Sucesso!\n"
          ]
        }
      ]
    },
    {
      "cell_type": "code",
      "source": [
        "#CRUD - U UPDATE\n",
        "query = \"UPDATE alunos SET matricula_aluno = '333333333' WHERE id_aluno = 21\"\n",
        "executar_query(conexao, query)"
      ],
      "metadata": {
        "colab": {
          "base_uri": "https://localhost:8080/"
        },
        "id": "douN5qmBAvR5",
        "outputId": "4ae61b4a-f8c3-43d7-fa64-787aa9902e36"
      },
      "execution_count": null,
      "outputs": [
        {
          "output_type": "stream",
          "name": "stdout",
          "text": [
            "Query executada com Sucesso!\n"
          ]
        }
      ]
    },
    {
      "cell_type": "code",
      "source": [
        "#CRUD - D DELETE\n",
        "query = \"DELETE FROM alunos WHERE id_aluno = 21\"\n",
        "executar_query(conexao, query)"
      ],
      "metadata": {
        "id": "JcCJx5yxAvlh"
      },
      "execution_count": null,
      "outputs": []
    },
    {
      "cell_type": "code",
      "source": [
        "#CRUD - S SELECT\n",
        "query = \"SELECT * FROM alunos\"\n",
        "lista_alunos = ler_query(conexao, query)"
      ],
      "metadata": {
        "id": "RtZUo0riHr0O"
      },
      "execution_count": null,
      "outputs": []
    },
    {
      "cell_type": "code",
      "source": [
        "print(lista_alunos)"
      ],
      "metadata": {
        "colab": {
          "base_uri": "https://localhost:8080/"
        },
        "id": "LosoiBhIITe1",
        "outputId": "12eb8c4d-3bcc-4eca-f84b-38efbcc7d4a3"
      },
      "execution_count": null,
      "outputs": [
        {
          "output_type": "stream",
          "name": "stdout",
          "text": [
            "[(11, 'Joaquim dos Santos', 'a13738738', '88874333998', '99688877', 'Joinvile', 'SC', 4), (12, 'Júlia Maria de Souza', 'a43534', '99877733377', '372221115', 'Ribeirão Preto', 'SP', 3), (13, 'Carlos Henrique Pereira', 'b1768586', '88800099876', '222555888', 'Curitiba', 'PR', 4), (14, 'Mirella Cristina Hoffmann', 'b13436546', '9998711122', '33310002', 'Manaus', 'AM', 1), (15, 'Felipe Santana da Silva', 'a1878767', '5554563587', '00222588', 'São Luis', 'MA', 2), (16, 'Kátia de Sousa Silva', 'a1886465654', '33335874966', '333477789', 'Florianópolis', 'SC', 1), (17, 'Isabel Ângela Gomes', 'c198984565', '37789987455', '336669998', 'Porto Alegre', 'RS', 2), (18, 'Pedro Henrique Araujo', 'c16543243', '99986533300', '5669988744', 'Salvador', 'BA', 3), (19, 'Keliane de Paula', 'b11110003', '00355588877', '22233355588', 'Teresina', 'PI', 1), (20, 'João Gustavo Costa', '97987897', '33377745632', '23123188161', 'Florianópolis', 'SC', 3), (21, 'Marcelo Armando', '333333333', '1111111111', '2222222222', 'Teresópolis', 'RJ', 1)]\n"
          ]
        }
      ]
    },
    {
      "cell_type": "code",
      "source": [
        "for alunos in lista_alunos:\n",
        "  print(alunos)"
      ],
      "metadata": {
        "colab": {
          "base_uri": "https://localhost:8080/"
        },
        "id": "vvvtN-y7IarC",
        "outputId": "47008ed2-df34-4a0e-b6ef-034ca02b06e5"
      },
      "execution_count": null,
      "outputs": [
        {
          "output_type": "stream",
          "name": "stdout",
          "text": [
            "(11, 'Joaquim dos Santos', 'a13738738', '88874333998', '99688877', 'Joinvile', 'SC', 4)\n",
            "(12, 'Júlia Maria de Souza', 'a43534', '99877733377', '372221115', 'Ribeirão Preto', 'SP', 3)\n",
            "(13, 'Carlos Henrique Pereira', 'b1768586', '88800099876', '222555888', 'Curitiba', 'PR', 4)\n",
            "(14, 'Mirella Cristina Hoffmann', 'b13436546', '9998711122', '33310002', 'Manaus', 'AM', 1)\n",
            "(15, 'Felipe Santana da Silva', 'a1878767', '5554563587', '00222588', 'São Luis', 'MA', 2)\n",
            "(16, 'Kátia de Sousa Silva', 'a1886465654', '33335874966', '333477789', 'Florianópolis', 'SC', 1)\n",
            "(17, 'Isabel Ângela Gomes', 'c198984565', '37789987455', '336669998', 'Porto Alegre', 'RS', 2)\n",
            "(18, 'Pedro Henrique Araujo', 'c16543243', '99986533300', '5669988744', 'Salvador', 'BA', 3)\n",
            "(19, 'Keliane de Paula', 'b11110003', '00355588877', '22233355588', 'Teresina', 'PI', 1)\n",
            "(20, 'João Gustavo Costa', '97987897', '33377745632', '23123188161', 'Florianópolis', 'SC', 3)\n",
            "(21, 'Marcelo Armando', '333333333', '1111111111', '2222222222', 'Teresópolis', 'RJ', 1)\n"
          ]
        }
      ]
    },
    {
      "cell_type": "code",
      "source": [
        "import pandas as pd"
      ],
      "metadata": {
        "id": "z727o8tjH6Sl"
      },
      "execution_count": null,
      "outputs": []
    },
    {
      "cell_type": "code",
      "source": [
        "colunas = ['id_aluno', 'nome_aluno','matricula_aluno', 'cpf_aluno', 'rg_aluno', 'cidade_aluno', 'estado_aluno', 'id_turma']\n",
        "df = pd.DataFrame(lista_alunos, columns = colunas)"
      ],
      "metadata": {
        "id": "_u0QP2hQNbMV"
      },
      "execution_count": null,
      "outputs": []
    },
    {
      "cell_type": "code",
      "source": [
        "df"
      ],
      "metadata": {
        "colab": {
          "base_uri": "https://localhost:8080/",
          "height": 438
        },
        "id": "3MCSQskSNkuC",
        "outputId": "094b137d-7eef-49d6-f98c-160777612caa"
      },
      "execution_count": null,
      "outputs": [
        {
          "output_type": "execute_result",
          "data": {
            "text/html": [
              "\n",
              "  <div id=\"df-e65ee71e-f2c6-421d-84ae-edee16aeb79b\">\n",
              "    <div class=\"colab-df-container\">\n",
              "      <div>\n",
              "<style scoped>\n",
              "    .dataframe tbody tr th:only-of-type {\n",
              "        vertical-align: middle;\n",
              "    }\n",
              "\n",
              "    .dataframe tbody tr th {\n",
              "        vertical-align: top;\n",
              "    }\n",
              "\n",
              "    .dataframe thead th {\n",
              "        text-align: right;\n",
              "    }\n",
              "</style>\n",
              "<table border=\"1\" class=\"dataframe\">\n",
              "  <thead>\n",
              "    <tr style=\"text-align: right;\">\n",
              "      <th></th>\n",
              "      <th>id_aluno</th>\n",
              "      <th>nome_aluno</th>\n",
              "      <th>matricula_aluno</th>\n",
              "      <th>cpf_aluno</th>\n",
              "      <th>rg_aluno</th>\n",
              "      <th>cidade_aluno</th>\n",
              "      <th>estado_aluno</th>\n",
              "      <th>id_turma</th>\n",
              "    </tr>\n",
              "  </thead>\n",
              "  <tbody>\n",
              "    <tr>\n",
              "      <th>0</th>\n",
              "      <td>11</td>\n",
              "      <td>Joaquim dos Santos</td>\n",
              "      <td>a13738738</td>\n",
              "      <td>88874333998</td>\n",
              "      <td>99688877</td>\n",
              "      <td>Joinvile</td>\n",
              "      <td>SC</td>\n",
              "      <td>4</td>\n",
              "    </tr>\n",
              "    <tr>\n",
              "      <th>1</th>\n",
              "      <td>12</td>\n",
              "      <td>Júlia Maria de Souza</td>\n",
              "      <td>a43534</td>\n",
              "      <td>99877733377</td>\n",
              "      <td>372221115</td>\n",
              "      <td>Ribeirão Preto</td>\n",
              "      <td>SP</td>\n",
              "      <td>3</td>\n",
              "    </tr>\n",
              "    <tr>\n",
              "      <th>2</th>\n",
              "      <td>13</td>\n",
              "      <td>Carlos Henrique Pereira</td>\n",
              "      <td>b1768586</td>\n",
              "      <td>88800099876</td>\n",
              "      <td>222555888</td>\n",
              "      <td>Curitiba</td>\n",
              "      <td>PR</td>\n",
              "      <td>4</td>\n",
              "    </tr>\n",
              "    <tr>\n",
              "      <th>3</th>\n",
              "      <td>14</td>\n",
              "      <td>Mirella Cristina Hoffmann</td>\n",
              "      <td>b13436546</td>\n",
              "      <td>9998711122</td>\n",
              "      <td>33310002</td>\n",
              "      <td>Manaus</td>\n",
              "      <td>AM</td>\n",
              "      <td>1</td>\n",
              "    </tr>\n",
              "    <tr>\n",
              "      <th>4</th>\n",
              "      <td>15</td>\n",
              "      <td>Felipe Santana da Silva</td>\n",
              "      <td>a1878767</td>\n",
              "      <td>5554563587</td>\n",
              "      <td>00222588</td>\n",
              "      <td>São Luis</td>\n",
              "      <td>MA</td>\n",
              "      <td>2</td>\n",
              "    </tr>\n",
              "    <tr>\n",
              "      <th>5</th>\n",
              "      <td>16</td>\n",
              "      <td>Kátia de Sousa Silva</td>\n",
              "      <td>a1886465654</td>\n",
              "      <td>33335874966</td>\n",
              "      <td>333477789</td>\n",
              "      <td>Florianópolis</td>\n",
              "      <td>SC</td>\n",
              "      <td>1</td>\n",
              "    </tr>\n",
              "    <tr>\n",
              "      <th>6</th>\n",
              "      <td>17</td>\n",
              "      <td>Isabel Ângela Gomes</td>\n",
              "      <td>c198984565</td>\n",
              "      <td>37789987455</td>\n",
              "      <td>336669998</td>\n",
              "      <td>Porto Alegre</td>\n",
              "      <td>RS</td>\n",
              "      <td>2</td>\n",
              "    </tr>\n",
              "    <tr>\n",
              "      <th>7</th>\n",
              "      <td>18</td>\n",
              "      <td>Pedro Henrique Araujo</td>\n",
              "      <td>c16543243</td>\n",
              "      <td>99986533300</td>\n",
              "      <td>5669988744</td>\n",
              "      <td>Salvador</td>\n",
              "      <td>BA</td>\n",
              "      <td>3</td>\n",
              "    </tr>\n",
              "    <tr>\n",
              "      <th>8</th>\n",
              "      <td>19</td>\n",
              "      <td>Keliane de Paula</td>\n",
              "      <td>b11110003</td>\n",
              "      <td>00355588877</td>\n",
              "      <td>22233355588</td>\n",
              "      <td>Teresina</td>\n",
              "      <td>PI</td>\n",
              "      <td>1</td>\n",
              "    </tr>\n",
              "    <tr>\n",
              "      <th>9</th>\n",
              "      <td>20</td>\n",
              "      <td>João Gustavo Costa</td>\n",
              "      <td>97987897</td>\n",
              "      <td>33377745632</td>\n",
              "      <td>23123188161</td>\n",
              "      <td>Florianópolis</td>\n",
              "      <td>SC</td>\n",
              "      <td>3</td>\n",
              "    </tr>\n",
              "    <tr>\n",
              "      <th>10</th>\n",
              "      <td>21</td>\n",
              "      <td>Marcelo Armando</td>\n",
              "      <td>333333333</td>\n",
              "      <td>1111111111</td>\n",
              "      <td>2222222222</td>\n",
              "      <td>Teresópolis</td>\n",
              "      <td>RJ</td>\n",
              "      <td>1</td>\n",
              "    </tr>\n",
              "  </tbody>\n",
              "</table>\n",
              "</div>\n",
              "      <button class=\"colab-df-convert\" onclick=\"convertToInteractive('df-e65ee71e-f2c6-421d-84ae-edee16aeb79b')\"\n",
              "              title=\"Convert this dataframe to an interactive table.\"\n",
              "              style=\"display:none;\">\n",
              "        \n",
              "  <svg xmlns=\"http://www.w3.org/2000/svg\" height=\"24px\"viewBox=\"0 0 24 24\"\n",
              "       width=\"24px\">\n",
              "    <path d=\"M0 0h24v24H0V0z\" fill=\"none\"/>\n",
              "    <path d=\"M18.56 5.44l.94 2.06.94-2.06 2.06-.94-2.06-.94-.94-2.06-.94 2.06-2.06.94zm-11 1L8.5 8.5l.94-2.06 2.06-.94-2.06-.94L8.5 2.5l-.94 2.06-2.06.94zm10 10l.94 2.06.94-2.06 2.06-.94-2.06-.94-.94-2.06-.94 2.06-2.06.94z\"/><path d=\"M17.41 7.96l-1.37-1.37c-.4-.4-.92-.59-1.43-.59-.52 0-1.04.2-1.43.59L10.3 9.45l-7.72 7.72c-.78.78-.78 2.05 0 2.83L4 21.41c.39.39.9.59 1.41.59.51 0 1.02-.2 1.41-.59l7.78-7.78 2.81-2.81c.8-.78.8-2.07 0-2.86zM5.41 20L4 18.59l7.72-7.72 1.47 1.35L5.41 20z\"/>\n",
              "  </svg>\n",
              "      </button>\n",
              "      \n",
              "  <style>\n",
              "    .colab-df-container {\n",
              "      display:flex;\n",
              "      flex-wrap:wrap;\n",
              "      gap: 12px;\n",
              "    }\n",
              "\n",
              "    .colab-df-convert {\n",
              "      background-color: #E8F0FE;\n",
              "      border: none;\n",
              "      border-radius: 50%;\n",
              "      cursor: pointer;\n",
              "      display: none;\n",
              "      fill: #1967D2;\n",
              "      height: 32px;\n",
              "      padding: 0 0 0 0;\n",
              "      width: 32px;\n",
              "    }\n",
              "\n",
              "    .colab-df-convert:hover {\n",
              "      background-color: #E2EBFA;\n",
              "      box-shadow: 0px 1px 2px rgba(60, 64, 67, 0.3), 0px 1px 3px 1px rgba(60, 64, 67, 0.15);\n",
              "      fill: #174EA6;\n",
              "    }\n",
              "\n",
              "    [theme=dark] .colab-df-convert {\n",
              "      background-color: #3B4455;\n",
              "      fill: #D2E3FC;\n",
              "    }\n",
              "\n",
              "    [theme=dark] .colab-df-convert:hover {\n",
              "      background-color: #434B5C;\n",
              "      box-shadow: 0px 1px 3px 1px rgba(0, 0, 0, 0.15);\n",
              "      filter: drop-shadow(0px 1px 2px rgba(0, 0, 0, 0.3));\n",
              "      fill: #FFFFFF;\n",
              "    }\n",
              "  </style>\n",
              "\n",
              "      <script>\n",
              "        const buttonEl =\n",
              "          document.querySelector('#df-e65ee71e-f2c6-421d-84ae-edee16aeb79b button.colab-df-convert');\n",
              "        buttonEl.style.display =\n",
              "          google.colab.kernel.accessAllowed ? 'block' : 'none';\n",
              "\n",
              "        async function convertToInteractive(key) {\n",
              "          const element = document.querySelector('#df-e65ee71e-f2c6-421d-84ae-edee16aeb79b');\n",
              "          const dataTable =\n",
              "            await google.colab.kernel.invokeFunction('convertToInteractive',\n",
              "                                                     [key], {});\n",
              "          if (!dataTable) return;\n",
              "\n",
              "          const docLinkHtml = 'Like what you see? Visit the ' +\n",
              "            '<a target=\"_blank\" href=https://colab.research.google.com/notebooks/data_table.ipynb>data table notebook</a>'\n",
              "            + ' to learn more about interactive tables.';\n",
              "          element.innerHTML = '';\n",
              "          dataTable['output_type'] = 'display_data';\n",
              "          await google.colab.output.renderOutput(dataTable, element);\n",
              "          const docLink = document.createElement('div');\n",
              "          docLink.innerHTML = docLinkHtml;\n",
              "          element.appendChild(docLink);\n",
              "        }\n",
              "      </script>\n",
              "    </div>\n",
              "  </div>\n",
              "  "
            ],
            "text/plain": [
              "    id_aluno                 nome_aluno matricula_aluno    cpf_aluno  \\\n",
              "0         11         Joaquim dos Santos       a13738738  88874333998   \n",
              "1         12       Júlia Maria de Souza          a43534  99877733377   \n",
              "2         13    Carlos Henrique Pereira        b1768586  88800099876   \n",
              "3         14  Mirella Cristina Hoffmann       b13436546   9998711122   \n",
              "4         15    Felipe Santana da Silva        a1878767   5554563587   \n",
              "5         16       Kátia de Sousa Silva     a1886465654  33335874966   \n",
              "6         17        Isabel Ângela Gomes      c198984565  37789987455   \n",
              "7         18      Pedro Henrique Araujo       c16543243  99986533300   \n",
              "8         19           Keliane de Paula       b11110003  00355588877   \n",
              "9         20         João Gustavo Costa        97987897  33377745632   \n",
              "10        21            Marcelo Armando       333333333   1111111111   \n",
              "\n",
              "       rg_aluno    cidade_aluno estado_aluno  id_turma  \n",
              "0      99688877        Joinvile           SC         4  \n",
              "1     372221115  Ribeirão Preto           SP         3  \n",
              "2     222555888        Curitiba           PR         4  \n",
              "3      33310002          Manaus           AM         1  \n",
              "4      00222588        São Luis           MA         2  \n",
              "5     333477789   Florianópolis           SC         1  \n",
              "6     336669998    Porto Alegre           RS         2  \n",
              "7    5669988744        Salvador           BA         3  \n",
              "8   22233355588        Teresina           PI         1  \n",
              "9   23123188161   Florianópolis           SC         3  \n",
              "10   2222222222     Teresópolis           RJ         1  "
            ]
          },
          "metadata": {},
          "execution_count": 32
        }
      ]
    },
    {
      "cell_type": "markdown",
      "source": [
        "1) Liste o nome e cpf dos professores da turma Programador Java, bem como o horário de início e fim das aulas\n",
        "\n",
        "2) Exiba o código das turmas que o professor Pedro dos Santos leciona"
      ],
      "metadata": {
        "id": "bSf9I5RMPKaa"
      }
    },
    {
      "cell_type": "markdown",
      "source": [
        "SELECT nome_turma, nome_aluno, cpf_aluno FROM alunos INNER JOIN turmas ON alunos.id_turma = turmas.id_turma"
      ],
      "metadata": {
        "id": "5xTLMPC-PRFM"
      }
    },
    {
      "cell_type": "markdown",
      "source": [
        "SELECT nome_turma, nome_aluno, cpf_aluno \n",
        "FROM alunos INNER JOIN turmas \n",
        "ON alunos.id_turma = turmas.id_turma  \n",
        "WHERE nome_aluno = 'Mirella Cristina Hoffmann'"
      ],
      "metadata": {
        "id": "AQ1TFnVlPgp0"
      }
    },
    {
      "cell_type": "markdown",
      "source": [
        "SELECT p.nome_professor, d.numero_credito\n",
        "FROM professores p INNER JOIN prof_lecionam_turma pld (aqui o AS foi suprimido, prof_lecionam_turma AS pld)\n",
        "ON p.id_professor = pld.id_professor\n",
        "INNER JOIN disciplina d\n",
        "INNER JOIN disciplinas d ON pld.id_disciplina = d.id_disciplina\n",
        "d.id_disciplina = 1; (é mais comum usar com o id, mas pode usar o nome tb)"
      ],
      "metadata": {
        "id": "xximNgjNPky8"
      }
    }
  ]
}