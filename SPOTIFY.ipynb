{
  "nbformat": 4,
  "nbformat_minor": 0,
  "metadata": {
    "colab": {
      "name": "SPOTIFY.ipynb",
      "provenance": [],
      "mount_file_id": "1tVgjiGLtS35Gj0ui0R25_Xce6d1lN6th",
      "authorship_tag": "ABX9TyMH3gpyyGF+4x8gF+wt+8h5",
      "include_colab_link": true
    },
    "kernelspec": {
      "name": "python3",
      "display_name": "Python 3"
    },
    "language_info": {
      "name": "python"
    }
  },
  "cells": [
    {
      "cell_type": "markdown",
      "metadata": {
        "id": "view-in-github",
        "colab_type": "text"
      },
      "source": [
        "<a href=\"https://colab.research.google.com/github/eumoas/Data-Engineer/blob/main/SPOTIFY.ipynb\" target=\"_parent\"><img src=\"https://colab.research.google.com/assets/colab-badge.svg\" alt=\"Open In Colab\"/></a>"
      ]
    },
    {
      "cell_type": "markdown",
      "source": [
        "SPOTIFY -  utilizando os conhecimentos em limpeza e tratamento de dados e os comandos da ferramenta Pyspark, faça os tratamentos necessários para que os Datasets fiquem prontos para análise. Em seguida, pense em 5 insights interessantes para cada um dos arquivos e com as funções de seleção, filtragem, etc...do pyspark mostre esses insights."
      ],
      "metadata": {
        "id": "JE2V6h_WNOl7"
      }
    },
    {
      "cell_type": "code",
      "source": [
        "!pip install pyspark"
      ],
      "metadata": {
        "id": "QO_ydMjqNhrS"
      },
      "execution_count": null,
      "outputs": []
    },
    {
      "cell_type": "code",
      "source": [
        "!pip install gcsfs"
      ],
      "metadata": {
        "id": "xG0pglFwxFSB"
      },
      "execution_count": null,
      "outputs": []
    },
    {
      "cell_type": "code",
      "source": [
        "from pyspark.sql import SparkSession\n",
        "from pyspark import SparkConf\n",
        "import pyspark.sql.functions as F\n",
        "import pandas as pd\n",
        "from google.cloud import storage\n",
        "import os\n",
        "from pyspark.sql.types import StructType, StructField, StringType, IntegerType"
      ],
      "metadata": {
        "id": "iTaZgB3OOMs5"
      },
      "execution_count": 4,
      "outputs": []
    },
    {
      "cell_type": "code",
      "source": [
        "from google.colab import drive\n",
        "drive.mount('/content/drive')"
      ],
      "metadata": {
        "colab": {
          "base_uri": "https://localhost:8080/"
        },
        "id": "JQ_xwOwXAZfa",
        "outputId": "a93ccad4-bae1-4a1a-a702-08924e0b8af3"
      },
      "execution_count": 7,
      "outputs": [
        {
          "output_type": "stream",
          "name": "stdout",
          "text": [
            "Drive already mounted at /content/drive; to attempt to forcibly remount, call drive.mount(\"/content/drive\", force_remount=True).\n"
          ]
        }
      ]
    },
    {
      "cell_type": "code",
      "source": [
        "serviceAccount = '/content/speedy-district-339220-e8cc21176e65.json'\n",
        "\n",
        "os.environ['GOOGLE_APPLICATION_CREDENTIALS'] = serviceAccount"
      ],
      "metadata": {
        "id": "vvO1aftRBxps"
      },
      "execution_count": 10,
      "outputs": []
    },
    {
      "cell_type": "code",
      "source": [
        "client = storage.Client()\n",
        "bucket = client.get_bucket('spotifyteste')\n",
        "bucket.blob('spotify.csv')\n",
        "path = 'gs://spotifyteste/spotify.csv'\n",
        "\n",
        "df_pandas = pd.read_csv(path)"
      ],
      "metadata": {
        "id": "gqZ_P5GuCVhd"
      },
      "execution_count": 14,
      "outputs": []
    },
    {
      "cell_type": "code",
      "source": [
        "df_pandas.head()"
      ],
      "metadata": {
        "colab": {
          "base_uri": "https://localhost:8080/",
          "height": 409
        },
        "id": "NUlvztF0FjJj",
        "outputId": "508ed8da-0895-4c42-9975-ef6a42b8d6ad"
      },
      "execution_count": 15,
      "outputs": [
        {
          "output_type": "execute_result",
          "data": {
            "text/plain": [
              "   Unnamed: 0                   song_name song_popularity song_duration_ms  \\\n",
              "0           0  Boulevard of Broken Dreams              73           262333   \n",
              "1           1                  In The End              66           216933   \n",
              "2           2           Seven Nation Army              76           231733   \n",
              "3           3                  By The Way              74           216933   \n",
              "4           4           How You Remind Me              56           223826   \n",
              "\n",
              "             acousticness danceability              energy instrumentalness  \\\n",
              "0  0.005520000000000001kg   0.496mol/L               0.682         2.94e-05   \n",
              "1                0.0103kg   0.542mol/L               0.853              0.0   \n",
              "2               0.00817kg   0.737mol/L               0.463            0.447   \n",
              "3                0.0264kg   0.451mol/L                0.97          0.00355   \n",
              "4              0.000954kg   0.447mol/L  0.7659999999999999              0.0   \n",
              "\n",
              "    key liveness             loudness audio_mode speechiness    tempo  \\\n",
              "0   8.0   0.0589               -4.095          1      0.0294   167.06   \n",
              "1   3.0    0.108               -6.407          0      0.0498  105.256   \n",
              "2   0.0    0.255  -7.8279999999999985          1      0.0792  123.881   \n",
              "3   0.0    0.102               -4.938          1       0.107  122.444   \n",
              "4  10.0    0.113               -5.065          1      0.0313  172.011   \n",
              "\n",
              "  time_signature  audio_valence  \n",
              "0              4          0.474  \n",
              "1              4          0.370  \n",
              "2              4          0.324  \n",
              "3              4          0.198  \n",
              "4              4          0.574  "
            ],
            "text/html": [
              "\n",
              "  <div id=\"df-773e189d-ad45-48d7-b6ad-2be3f41e8504\">\n",
              "    <div class=\"colab-df-container\">\n",
              "      <div>\n",
              "<style scoped>\n",
              "    .dataframe tbody tr th:only-of-type {\n",
              "        vertical-align: middle;\n",
              "    }\n",
              "\n",
              "    .dataframe tbody tr th {\n",
              "        vertical-align: top;\n",
              "    }\n",
              "\n",
              "    .dataframe thead th {\n",
              "        text-align: right;\n",
              "    }\n",
              "</style>\n",
              "<table border=\"1\" class=\"dataframe\">\n",
              "  <thead>\n",
              "    <tr style=\"text-align: right;\">\n",
              "      <th></th>\n",
              "      <th>Unnamed: 0</th>\n",
              "      <th>song_name</th>\n",
              "      <th>song_popularity</th>\n",
              "      <th>song_duration_ms</th>\n",
              "      <th>acousticness</th>\n",
              "      <th>danceability</th>\n",
              "      <th>energy</th>\n",
              "      <th>instrumentalness</th>\n",
              "      <th>key</th>\n",
              "      <th>liveness</th>\n",
              "      <th>loudness</th>\n",
              "      <th>audio_mode</th>\n",
              "      <th>speechiness</th>\n",
              "      <th>tempo</th>\n",
              "      <th>time_signature</th>\n",
              "      <th>audio_valence</th>\n",
              "    </tr>\n",
              "  </thead>\n",
              "  <tbody>\n",
              "    <tr>\n",
              "      <th>0</th>\n",
              "      <td>0</td>\n",
              "      <td>Boulevard of Broken Dreams</td>\n",
              "      <td>73</td>\n",
              "      <td>262333</td>\n",
              "      <td>0.005520000000000001kg</td>\n",
              "      <td>0.496mol/L</td>\n",
              "      <td>0.682</td>\n",
              "      <td>2.94e-05</td>\n",
              "      <td>8.0</td>\n",
              "      <td>0.0589</td>\n",
              "      <td>-4.095</td>\n",
              "      <td>1</td>\n",
              "      <td>0.0294</td>\n",
              "      <td>167.06</td>\n",
              "      <td>4</td>\n",
              "      <td>0.474</td>\n",
              "    </tr>\n",
              "    <tr>\n",
              "      <th>1</th>\n",
              "      <td>1</td>\n",
              "      <td>In The End</td>\n",
              "      <td>66</td>\n",
              "      <td>216933</td>\n",
              "      <td>0.0103kg</td>\n",
              "      <td>0.542mol/L</td>\n",
              "      <td>0.853</td>\n",
              "      <td>0.0</td>\n",
              "      <td>3.0</td>\n",
              "      <td>0.108</td>\n",
              "      <td>-6.407</td>\n",
              "      <td>0</td>\n",
              "      <td>0.0498</td>\n",
              "      <td>105.256</td>\n",
              "      <td>4</td>\n",
              "      <td>0.370</td>\n",
              "    </tr>\n",
              "    <tr>\n",
              "      <th>2</th>\n",
              "      <td>2</td>\n",
              "      <td>Seven Nation Army</td>\n",
              "      <td>76</td>\n",
              "      <td>231733</td>\n",
              "      <td>0.00817kg</td>\n",
              "      <td>0.737mol/L</td>\n",
              "      <td>0.463</td>\n",
              "      <td>0.447</td>\n",
              "      <td>0.0</td>\n",
              "      <td>0.255</td>\n",
              "      <td>-7.8279999999999985</td>\n",
              "      <td>1</td>\n",
              "      <td>0.0792</td>\n",
              "      <td>123.881</td>\n",
              "      <td>4</td>\n",
              "      <td>0.324</td>\n",
              "    </tr>\n",
              "    <tr>\n",
              "      <th>3</th>\n",
              "      <td>3</td>\n",
              "      <td>By The Way</td>\n",
              "      <td>74</td>\n",
              "      <td>216933</td>\n",
              "      <td>0.0264kg</td>\n",
              "      <td>0.451mol/L</td>\n",
              "      <td>0.97</td>\n",
              "      <td>0.00355</td>\n",
              "      <td>0.0</td>\n",
              "      <td>0.102</td>\n",
              "      <td>-4.938</td>\n",
              "      <td>1</td>\n",
              "      <td>0.107</td>\n",
              "      <td>122.444</td>\n",
              "      <td>4</td>\n",
              "      <td>0.198</td>\n",
              "    </tr>\n",
              "    <tr>\n",
              "      <th>4</th>\n",
              "      <td>4</td>\n",
              "      <td>How You Remind Me</td>\n",
              "      <td>56</td>\n",
              "      <td>223826</td>\n",
              "      <td>0.000954kg</td>\n",
              "      <td>0.447mol/L</td>\n",
              "      <td>0.7659999999999999</td>\n",
              "      <td>0.0</td>\n",
              "      <td>10.0</td>\n",
              "      <td>0.113</td>\n",
              "      <td>-5.065</td>\n",
              "      <td>1</td>\n",
              "      <td>0.0313</td>\n",
              "      <td>172.011</td>\n",
              "      <td>4</td>\n",
              "      <td>0.574</td>\n",
              "    </tr>\n",
              "  </tbody>\n",
              "</table>\n",
              "</div>\n",
              "      <button class=\"colab-df-convert\" onclick=\"convertToInteractive('df-773e189d-ad45-48d7-b6ad-2be3f41e8504')\"\n",
              "              title=\"Convert this dataframe to an interactive table.\"\n",
              "              style=\"display:none;\">\n",
              "        \n",
              "  <svg xmlns=\"http://www.w3.org/2000/svg\" height=\"24px\"viewBox=\"0 0 24 24\"\n",
              "       width=\"24px\">\n",
              "    <path d=\"M0 0h24v24H0V0z\" fill=\"none\"/>\n",
              "    <path d=\"M18.56 5.44l.94 2.06.94-2.06 2.06-.94-2.06-.94-.94-2.06-.94 2.06-2.06.94zm-11 1L8.5 8.5l.94-2.06 2.06-.94-2.06-.94L8.5 2.5l-.94 2.06-2.06.94zm10 10l.94 2.06.94-2.06 2.06-.94-2.06-.94-.94-2.06-.94 2.06-2.06.94z\"/><path d=\"M17.41 7.96l-1.37-1.37c-.4-.4-.92-.59-1.43-.59-.52 0-1.04.2-1.43.59L10.3 9.45l-7.72 7.72c-.78.78-.78 2.05 0 2.83L4 21.41c.39.39.9.59 1.41.59.51 0 1.02-.2 1.41-.59l7.78-7.78 2.81-2.81c.8-.78.8-2.07 0-2.86zM5.41 20L4 18.59l7.72-7.72 1.47 1.35L5.41 20z\"/>\n",
              "  </svg>\n",
              "      </button>\n",
              "      \n",
              "  <style>\n",
              "    .colab-df-container {\n",
              "      display:flex;\n",
              "      flex-wrap:wrap;\n",
              "      gap: 12px;\n",
              "    }\n",
              "\n",
              "    .colab-df-convert {\n",
              "      background-color: #E8F0FE;\n",
              "      border: none;\n",
              "      border-radius: 50%;\n",
              "      cursor: pointer;\n",
              "      display: none;\n",
              "      fill: #1967D2;\n",
              "      height: 32px;\n",
              "      padding: 0 0 0 0;\n",
              "      width: 32px;\n",
              "    }\n",
              "\n",
              "    .colab-df-convert:hover {\n",
              "      background-color: #E2EBFA;\n",
              "      box-shadow: 0px 1px 2px rgba(60, 64, 67, 0.3), 0px 1px 3px 1px rgba(60, 64, 67, 0.15);\n",
              "      fill: #174EA6;\n",
              "    }\n",
              "\n",
              "    [theme=dark] .colab-df-convert {\n",
              "      background-color: #3B4455;\n",
              "      fill: #D2E3FC;\n",
              "    }\n",
              "\n",
              "    [theme=dark] .colab-df-convert:hover {\n",
              "      background-color: #434B5C;\n",
              "      box-shadow: 0px 1px 3px 1px rgba(0, 0, 0, 0.15);\n",
              "      filter: drop-shadow(0px 1px 2px rgba(0, 0, 0, 0.3));\n",
              "      fill: #FFFFFF;\n",
              "    }\n",
              "  </style>\n",
              "\n",
              "      <script>\n",
              "        const buttonEl =\n",
              "          document.querySelector('#df-773e189d-ad45-48d7-b6ad-2be3f41e8504 button.colab-df-convert');\n",
              "        buttonEl.style.display =\n",
              "          google.colab.kernel.accessAllowed ? 'block' : 'none';\n",
              "\n",
              "        async function convertToInteractive(key) {\n",
              "          const element = document.querySelector('#df-773e189d-ad45-48d7-b6ad-2be3f41e8504');\n",
              "          const dataTable =\n",
              "            await google.colab.kernel.invokeFunction('convertToInteractive',\n",
              "                                                     [key], {});\n",
              "          if (!dataTable) return;\n",
              "\n",
              "          const docLinkHtml = 'Like what you see? Visit the ' +\n",
              "            '<a target=\"_blank\" href=https://colab.research.google.com/notebooks/data_table.ipynb>data table notebook</a>'\n",
              "            + ' to learn more about interactive tables.';\n",
              "          element.innerHTML = '';\n",
              "          dataTable['output_type'] = 'display_data';\n",
              "          await google.colab.output.renderOutput(dataTable, element);\n",
              "          const docLink = document.createElement('div');\n",
              "          docLink.innerHTML = docLinkHtml;\n",
              "          element.appendChild(docLink);\n",
              "        }\n",
              "      </script>\n",
              "    </div>\n",
              "  </div>\n",
              "  "
            ]
          },
          "metadata": {},
          "execution_count": 15
        }
      ]
    },
    {
      "cell_type": "code",
      "source": [
        "spark = (\n",
        "    SparkSession.builder\n",
        "                .master('local')\n",
        "                .appName('aulaSpark')\n",
        "                .config('spark.ui.port', '4050')\n",
        "                .getOrCreate()\n",
        ")"
      ],
      "metadata": {
        "id": "9F47UDb7O4SA"
      },
      "execution_count": 16,
      "outputs": []
    },
    {
      "cell_type": "code",
      "source": [
        "df_spark = spark.createDataFrame(df_pandas)"
      ],
      "metadata": {
        "id": "6KKBikdgHcM7"
      },
      "execution_count": 17,
      "outputs": []
    },
    {
      "cell_type": "code",
      "source": [
        "df_spark.show()"
      ],
      "metadata": {
        "colab": {
          "base_uri": "https://localhost:8080/"
        },
        "id": "E5Gddt62HqGw",
        "outputId": "3724cdca-a3ff-4aa7-c447-fd41f2b5bc81"
      },
      "execution_count": 18,
      "outputs": [
        {
          "output_type": "stream",
          "name": "stdout",
          "text": [
            "+----------+--------------------+---------------+----------------+--------------------+--------------------+------------------+--------------------+----+-------------------+-------------------+----------+--------------------+-------+--------------+------------------+\n",
            "|Unnamed: 0|           song_name|song_popularity|song_duration_ms|        acousticness|        danceability|            energy|    instrumentalness| key|           liveness|           loudness|audio_mode|         speechiness|  tempo|time_signature|     audio_valence|\n",
            "+----------+--------------------+---------------+----------------+--------------------+--------------------+------------------+--------------------+----+-------------------+-------------------+----------+--------------------+-------+--------------+------------------+\n",
            "|         0|Boulevard of Brok...|             73|          262333|0.005520000000000...|          0.496mol/L|             0.682|            2.94e-05| 8.0|             0.0589|             -4.095|         1|              0.0294| 167.06|             4|             0.474|\n",
            "|         1|          In The End|             66|          216933|            0.0103kg|          0.542mol/L|             0.853|                 0.0| 3.0|              0.108|             -6.407|         0|              0.0498|105.256|             4|              0.37|\n",
            "|         2|   Seven Nation Army|             76|          231733|           0.00817kg|          0.737mol/L|             0.463|               0.447| 0.0|              0.255|-7.8279999999999985|         1|              0.0792|123.881|             4|             0.324|\n",
            "|         3|          By The Way|             74|          216933|            0.0264kg|          0.451mol/L|              0.97|             0.00355| 0.0|              0.102|             -4.938|         1|               0.107|122.444|             4|             0.198|\n",
            "|         4|   How You Remind Me|             56|          223826|          0.000954kg|          0.447mol/L|0.7659999999999999|                 0.0|10.0|              0.113|             -5.065|         1|              0.0313|172.011|             4|             0.574|\n",
            "|         5|    Bring Me To Life|             80|          235893|           0.00895kg|          0.316mol/L|             0.945|            1.85e-06| 4.0|              0.396|             -3.169|         0|               0.124|189.931|             4|              0.32|\n",
            "|         6|         Last Resort|             81|          199893|          0.000504kg|          0.581mol/L|             0.887|             0.00111| 4.0|              0.268|             -3.659|         0|              0.0624| 90.578|             4|0.7240000000000001|\n",
            "|         7|Are You Gonna Be ...|             76|          213800|           0.00148kg|          0.613mol/L|             0.953|            0.000582| 2.0|              0.152|             -3.435|         1|              0.0855|105.046|             4|             0.537|\n",
            "|         8|      Mr. Brightside|             80|          222586|           0.00108kg|           0.33mol/L|             0.936|                 0.0| 1.0|             0.0926|              -3.66|         1|              0.0917|148.112|             4|             0.234|\n",
            "|         9|         Sex on Fire|             81|          203346|           0.00172kg|          0.542mol/L|             0.905|              0.0104| 9.0|              0.136|             -5.653|         1|0.054000000000000006|153.398|             4|             0.374|\n",
            "|        10|          The Middle|             78|          168253|            0.0424kg|          0.629mol/L|             0.897|                 0.0| 2.0|              0.263|             -3.401|         1|              0.0483|161.944|             4|              0.93|\n",
            "|        11|                Numb|             63|          185586|            0.0046kg|          0.496mol/L|             0.863|                 0.0| 9.0|              0.639|-4.1530000000000005|         1|              0.0381|110.018|             4|             0.243|\n",
            "|        12|     Smooth Criminal|             75|          209266|           0.00434kg|          0.647mol/L|             0.964|              0.0036| 9.0|               0.15|             -4.225|         0|                0.06|126.942|             4|             0.875|\n",
            "|        13|          Can't Stop|             81|          269000|            0.0179kg|          0.618mol/L|             0.938|                 0.0| 9.0|0.16699999999999998|             -3.442|         1|              0.0456| 91.455|             4|             0.875|\n",
            "|        14|          Chop Suey!|             69|          210240|          0.000353kg|           0.42mol/L|             0.929|0.000746999999999...| 7.0|              0.122|             -3.899|         0|               0.121|127.204|             4|               0.3|\n",
            "|        15|         Take Me Out|             77|          237026|          0.000423kg|          0.278mol/L|0.6759999999999999|0.000899000000000...| 9.0|              0.136|             -8.821|         1|              0.0371|104.545|             4|             0.494|\n",
            "|        16|          I Miss You|             71|          227240|           0.00136kg|          0.659mol/L|             0.778|            6.79e-06|11.0|             0.0841| -6.422999999999999|         1|              0.0379|110.022|             4|             0.623|\n",
            "|        17|         Best of You|             62|          256600|           0.00701kg|           0.37mol/L|             0.944|             2.9e-06| 1.0|              0.135|             -4.979|         0|              0.0767|130.315|             4|             0.345|\n",
            "|        18|I Write Sins Not ...|             77|          187613|            0.0938kg|0.567000000000000...|             0.795|                 0.0| 9.0|              0.114|             -4.985|         0|               0.134| 170.06|             4|             0.635|\n",
            "|        19|          Kryptonite|             79|          233933|0.006640000000000...|          0.545mol/L|             0.865|            1.12e-05|11.0|              0.168| -5.707999999999998|         0|              0.0286|  99.01|             4|0.5429999999999999|\n",
            "+----------+--------------------+---------------+----------------+--------------------+--------------------+------------------+--------------------+----+-------------------+-------------------+----------+--------------------+-------+--------------+------------------+\n",
            "only showing top 20 rows\n",
            "\n"
          ]
        }
      ]
    },
    {
      "cell_type": "code",
      "source": [
        "df2 = (df_spark.toDF(*('ID', 'nome_da_música', 'popularidade_da_música', 'duração_da_música (ms)', 'acústica', 'dançabilidade', 'energia', 'instrumentalidade', 'chave', 'vivacidade', 'volume',\n",
        "              'mode_de_áudio',  'fala', 'tempo', 'tempo_de_assinatura',  'valencia_de_áudio' )) \n",
        ")"
      ],
      "metadata": {
        "id": "PnEss1QUH2aQ"
      },
      "execution_count": 20,
      "outputs": []
    },
    {
      "cell_type": "code",
      "source": [
        "df2.show()\n"
      ],
      "metadata": {
        "colab": {
          "base_uri": "https://localhost:8080/"
        },
        "id": "EX_iyEirJRyC",
        "outputId": "be9f056c-5b32-4f65-e465-4fe442e464e6"
      },
      "execution_count": 21,
      "outputs": [
        {
          "output_type": "stream",
          "name": "stdout",
          "text": [
            "+---+--------------------+----------------------+----------------------+--------------------+--------------------+------------------+--------------------+-----+-------------------+-------------------+-------------+--------------------+-------+-------------------+------------------+\n",
            "| ID|      nome_da_música|popularidade_da_música|duração_da_música (ms)|            acústica|       dançabilidade|           energia|   instrumentalidade|chave|         vivacidade|             volume|mode_de_áudio|                fala|  tempo|tempo_de_assinatura| valencia_de_áudio|\n",
            "+---+--------------------+----------------------+----------------------+--------------------+--------------------+------------------+--------------------+-----+-------------------+-------------------+-------------+--------------------+-------+-------------------+------------------+\n",
            "|  0|Boulevard of Brok...|                    73|                262333|0.005520000000000...|          0.496mol/L|             0.682|            2.94e-05|  8.0|             0.0589|             -4.095|            1|              0.0294| 167.06|                  4|             0.474|\n",
            "|  1|          In The End|                    66|                216933|            0.0103kg|          0.542mol/L|             0.853|                 0.0|  3.0|              0.108|             -6.407|            0|              0.0498|105.256|                  4|              0.37|\n",
            "|  2|   Seven Nation Army|                    76|                231733|           0.00817kg|          0.737mol/L|             0.463|               0.447|  0.0|              0.255|-7.8279999999999985|            1|              0.0792|123.881|                  4|             0.324|\n",
            "|  3|          By The Way|                    74|                216933|            0.0264kg|          0.451mol/L|              0.97|             0.00355|  0.0|              0.102|             -4.938|            1|               0.107|122.444|                  4|             0.198|\n",
            "|  4|   How You Remind Me|                    56|                223826|          0.000954kg|          0.447mol/L|0.7659999999999999|                 0.0| 10.0|              0.113|             -5.065|            1|              0.0313|172.011|                  4|             0.574|\n",
            "|  5|    Bring Me To Life|                    80|                235893|           0.00895kg|          0.316mol/L|             0.945|            1.85e-06|  4.0|              0.396|             -3.169|            0|               0.124|189.931|                  4|              0.32|\n",
            "|  6|         Last Resort|                    81|                199893|          0.000504kg|          0.581mol/L|             0.887|             0.00111|  4.0|              0.268|             -3.659|            0|              0.0624| 90.578|                  4|0.7240000000000001|\n",
            "|  7|Are You Gonna Be ...|                    76|                213800|           0.00148kg|          0.613mol/L|             0.953|            0.000582|  2.0|              0.152|             -3.435|            1|              0.0855|105.046|                  4|             0.537|\n",
            "|  8|      Mr. Brightside|                    80|                222586|           0.00108kg|           0.33mol/L|             0.936|                 0.0|  1.0|             0.0926|              -3.66|            1|              0.0917|148.112|                  4|             0.234|\n",
            "|  9|         Sex on Fire|                    81|                203346|           0.00172kg|          0.542mol/L|             0.905|              0.0104|  9.0|              0.136|             -5.653|            1|0.054000000000000006|153.398|                  4|             0.374|\n",
            "| 10|          The Middle|                    78|                168253|            0.0424kg|          0.629mol/L|             0.897|                 0.0|  2.0|              0.263|             -3.401|            1|              0.0483|161.944|                  4|              0.93|\n",
            "| 11|                Numb|                    63|                185586|            0.0046kg|          0.496mol/L|             0.863|                 0.0|  9.0|              0.639|-4.1530000000000005|            1|              0.0381|110.018|                  4|             0.243|\n",
            "| 12|     Smooth Criminal|                    75|                209266|           0.00434kg|          0.647mol/L|             0.964|              0.0036|  9.0|               0.15|             -4.225|            0|                0.06|126.942|                  4|             0.875|\n",
            "| 13|          Can't Stop|                    81|                269000|            0.0179kg|          0.618mol/L|             0.938|                 0.0|  9.0|0.16699999999999998|             -3.442|            1|              0.0456| 91.455|                  4|             0.875|\n",
            "| 14|          Chop Suey!|                    69|                210240|          0.000353kg|           0.42mol/L|             0.929|0.000746999999999...|  7.0|              0.122|             -3.899|            0|               0.121|127.204|                  4|               0.3|\n",
            "| 15|         Take Me Out|                    77|                237026|          0.000423kg|          0.278mol/L|0.6759999999999999|0.000899000000000...|  9.0|              0.136|             -8.821|            1|              0.0371|104.545|                  4|             0.494|\n",
            "| 16|          I Miss You|                    71|                227240|           0.00136kg|          0.659mol/L|             0.778|            6.79e-06| 11.0|             0.0841| -6.422999999999999|            1|              0.0379|110.022|                  4|             0.623|\n",
            "| 17|         Best of You|                    62|                256600|           0.00701kg|           0.37mol/L|             0.944|             2.9e-06|  1.0|              0.135|             -4.979|            0|              0.0767|130.315|                  4|             0.345|\n",
            "| 18|I Write Sins Not ...|                    77|                187613|            0.0938kg|0.567000000000000...|             0.795|                 0.0|  9.0|              0.114|             -4.985|            0|               0.134| 170.06|                  4|             0.635|\n",
            "| 19|          Kryptonite|                    79|                233933|0.006640000000000...|          0.545mol/L|             0.865|            1.12e-05| 11.0|              0.168| -5.707999999999998|            0|              0.0286|  99.01|                  4|0.5429999999999999|\n",
            "+---+--------------------+----------------------+----------------------+--------------------+--------------------+------------------+--------------------+-----+-------------------+-------------------+-------------+--------------------+-------+-------------------+------------------+\n",
            "only showing top 20 rows\n",
            "\n"
          ]
        }
      ]
    },
    {
      "cell_type": "code",
      "source": [
        "\n",
        "\n",
        "df2.select(F.col(\"nome_da_música\"), F.col(\"popularidade_da_música\"), F.col(\"acústica\")).filter(F.col(\"tempo_de_assinatura\") >= \"4\").show (20)"
      ],
      "metadata": {
        "colab": {
          "base_uri": "https://localhost:8080/"
        },
        "id": "5d6iwBFaJoCk",
        "outputId": "658f6c6c-ebbf-4660-a1a4-5848787b461a"
      },
      "execution_count": 27,
      "outputs": [
        {
          "output_type": "stream",
          "name": "stdout",
          "text": [
            "+--------------------+----------------------+--------------------+\n",
            "|      nome_da_música|popularidade_da_música|            acústica|\n",
            "+--------------------+----------------------+--------------------+\n",
            "|Boulevard of Brok...|                    73|0.005520000000000...|\n",
            "|          In The End|                    66|            0.0103kg|\n",
            "|   Seven Nation Army|                    76|           0.00817kg|\n",
            "|          By The Way|                    74|            0.0264kg|\n",
            "|   How You Remind Me|                    56|          0.000954kg|\n",
            "|    Bring Me To Life|                    80|           0.00895kg|\n",
            "|         Last Resort|                    81|          0.000504kg|\n",
            "|Are You Gonna Be ...|                    76|           0.00148kg|\n",
            "|      Mr. Brightside|                    80|           0.00108kg|\n",
            "|         Sex on Fire|                    81|           0.00172kg|\n",
            "|          The Middle|                    78|            0.0424kg|\n",
            "|                Numb|                    63|            0.0046kg|\n",
            "|     Smooth Criminal|                    75|           0.00434kg|\n",
            "|          Can't Stop|                    81|            0.0179kg|\n",
            "|          Chop Suey!|                    69|          0.000353kg|\n",
            "|         Take Me Out|                    77|          0.000423kg|\n",
            "|          I Miss You|                    71|           0.00136kg|\n",
            "|         Best of You|                    62|           0.00701kg|\n",
            "|I Write Sins Not ...|                    77|            0.0938kg|\n",
            "|          Kryptonite|                    79|0.006640000000000...|\n",
            "+--------------------+----------------------+--------------------+\n",
            "only showing top 20 rows\n",
            "\n"
          ]
        }
      ]
    },
    {
      "cell_type": "code",
      "source": [
        "df2.filter(F.col(\"popularidade_da_música\") == \"77\").show(5)"
      ],
      "metadata": {
        "colab": {
          "base_uri": "https://localhost:8080/"
        },
        "id": "gTqrneohMVTU",
        "outputId": "59ae66eb-c2e4-4483-a798-0a91522d1cab"
      },
      "execution_count": 28,
      "outputs": [
        {
          "output_type": "stream",
          "name": "stdout",
          "text": [
            "+---+--------------------+----------------------+----------------------+--------------------+--------------------+------------------+--------------------+-----+----------+------+-------------+------+-------+-------------------+-----------------+\n",
            "| ID|      nome_da_música|popularidade_da_música|duração_da_música (ms)|            acústica|       dançabilidade|           energia|   instrumentalidade|chave|vivacidade|volume|mode_de_áudio|  fala|  tempo|tempo_de_assinatura|valencia_de_áudio|\n",
            "+---+--------------------+----------------------+----------------------+--------------------+--------------------+------------------+--------------------+-----+----------+------+-------------+------+-------+-------------------+-----------------+\n",
            "| 15|         Take Me Out|                    77|                237026|          0.000423kg|          0.278mol/L|0.6759999999999999|0.000899000000000...|  9.0|     0.136|-8.821|            1|0.0371|104.545|                  4|            0.494|\n",
            "| 18|I Write Sins Not ...|                    77|                187613|            0.0938kg|0.567000000000000...|             0.795|                 0.0|  9.0|     0.114|-4.985|            0| 0.134| 170.06|                  4|            0.635|\n",
            "| 24|            Uprising|                    77|                304840|          0.000202kg|          0.602mol/L|             0.905|               0.064|  2.0|     0.117|-4.046|            1|0.0775|128.019|                  4|            0.411|\n",
            "| 28|Welcome to the Bl...|                    77|                311106|0.000289000000000...|          0.217mol/L|             0.905|             0.00011|  2.0|     0.222|-4.103|            1|0.0752|  96.95|                  4|            0.236|\n",
            "| 31|        Like a Stone|                    77|                293960|           0.00797kg|          0.614mol/L|             0.568|                 0.0|  7.0|    0.0997|-5.477|            0|0.0276|107.849|                  4|            0.516|\n",
            "+---+--------------------+----------------------+----------------------+--------------------+--------------------+------------------+--------------------+-----+----------+------+-------------+------+-------+-------------------+-----------------+\n",
            "only showing top 5 rows\n",
            "\n"
          ]
        }
      ]
    },
    {
      "cell_type": "code",
      "source": [
        "df2.filter(F.col(\"popularidade_da_música\") >= \"81\").show(20)"
      ],
      "metadata": {
        "colab": {
          "base_uri": "https://localhost:8080/"
        },
        "id": "EQbNPxkyMtKO",
        "outputId": "db10919e-a517-4104-b26e-84ba0b0f2ecc"
      },
      "execution_count": 29,
      "outputs": [
        {
          "output_type": "stream",
          "name": "stdout",
          "text": [
            "+---+--------------------+----------------------+----------------------+--------------------+--------------------+------------------+-----------------+-----+-------------------+-------------------+-------------+--------------------+-------+-------------------+------------------+\n",
            "| ID|      nome_da_música|popularidade_da_música|duração_da_música (ms)|            acústica|       dançabilidade|           energia|instrumentalidade|chave|         vivacidade|             volume|mode_de_áudio|                fala|  tempo|tempo_de_assinatura| valencia_de_áudio|\n",
            "+---+--------------------+----------------------+----------------------+--------------------+--------------------+------------------+-----------------+-----+-------------------+-------------------+-------------+--------------------+-------+-------------------+------------------+\n",
            "|  6|         Last Resort|                    81|                199893|          0.000504kg|          0.581mol/L|             0.887|          0.00111|  4.0|              0.268|             -3.659|            0|              0.0624| 90.578|                  4|0.7240000000000001|\n",
            "|  9|         Sex on Fire|                    81|                203346|           0.00172kg|          0.542mol/L|             0.905|           0.0104|  9.0|              0.136|             -5.653|            1|0.054000000000000006|153.398|                  4|             0.374|\n",
            "| 13|          Can't Stop|                    81|                269000|            0.0179kg|          0.618mol/L|             0.938|              0.0|  9.0|0.16699999999999998|             -3.442|            1|              0.0456| 91.455|                  4|             0.875|\n",
            "| 60|   MIA (feat. Drake)|                    94|                210367|            0.0143kg|          0.818mol/L|              0.54|         0.000512|  6.0|              0.099|              -6.35|            0|              0.0544| 97.064|                  4|             0.174|\n",
            "| 61|Taki Taki (with S...|                    98|                212500|             0.153kg|          0.841mol/L|0.7979999999999999|         3.33e-06|  1.0|             0.0618|             -4.206|            0|               0.229| 95.948|                  4|             0.591|\n",
            "| 64|Beautiful (feat. ...|                    94|                180000|0.346000000000000...|          0.638mol/L|0.7170000000000001|              0.0|  2.0|              0.105|             -4.722|            1|              0.0337|100.027|                  4|             0.249|\n",
            "| 65|              Celoso|                    87|                179693|0.352000000000000...|          0.746mol/L|             0.703|              0.0|  4.0|              0.331|-4.1789999999999985|            0|               0.107|166.043|                  4|             0.667|\n",
            "| 67|        Real Friends|                    85|                223583|             0.235kg|          0.701mol/L|             0.512|         5.07e-06|  0.0|              0.135|             -6.869|            0|              0.0969| 91.947|                  4|0.6629999999999999|\n",
            "| 70|  Wake Up in the Sky|                    92|                204664|           0.00381kg|            0.8mol/L|             0.578|              0.0|  4.0|              0.359|             -5.144|            0|              0.0485| 143.01|                  4|0.3670000000000001|\n",
            "| 71|           Está Rico|                    83|                215151|             0.266kg|0.817000000000000...|              0.74|              0.0| 11.0|             0.0992|             -4.566|            0| 0.28300000000000003| 130.04|                  4|             0.674|\n",
            "| 85|                BEBE|                    95|                217822|             0.172kg|          0.635mol/L|             0.902|              0.0|  0.0|              0.125|             -3.559|            1|               0.109|102.063|                  4|             0.286|\n",
            "| 86|           I Like It|                    95|                253390|             0.099kg|          0.816mol/L|             0.726|              0.0|  5.0| 0.3720000000000001|             -3.998|            0|               0.129|136.048|                  4|              0.65|\n",
            "|101|1, 2, 3 (feat. Ja...|                    88|                201526|             0.165kg|          0.792mol/L|             0.895|              0.0|  1.0|             0.0501|             -3.112|            0|              0.0589| 94.968|                  4|             0.794|\n",
            "|114|Finesse (Remix) [...|                    84|                217288|            0.0185kg|0.704000000000000...|0.8590000000000001|              0.0|  5.0|             0.0215|             -4.877|            0|              0.0996|105.115|                  4|             0.926|\n",
            "|126|      Hips Don't Lie|                    84|                218093|             0.284kg|          0.778mol/L|0.8240000000000001|              0.0| 10.0|              0.405|             -5.892|            0|              0.0712|100.024|                  4|0.7559999999999999|\n",
            "|128|     Pumped Up Kicks|                    84|                239600|             0.145kg|          0.733mol/L|              0.71|            0.115|  5.0|             0.0956|             -5.849|            0|              0.0292|127.975|                  4|             0.965|\n",
            "|131|           All of Me|                    85|                269560|             0.922kg|          0.422mol/L|             0.264|              0.0|  8.0|              0.132|             -7.064|            1|              0.0322| 119.93|                  4|             0.331|\n",
            "|155|       Bleeding Love|                    81|                262466|             0.188kg|          0.638mol/L|0.6559999999999999|              0.0|  5.0|              0.146|             -5.886|            1|              0.0357|104.036|                  4|             0.225|\n",
            "|173|         Sex on Fire|                    81|                203346|           0.00172kg|          0.542mol/L|             0.905|           0.0104|  9.0|              0.136|             -5.653|            1|0.054000000000000006|153.398|                  4|             0.374|\n",
            "|180|  How to Save a Life|                    83|                262533|             0.269kg|           0.64mol/L|             0.743|              0.0| 10.0|              0.101|              -4.08|            1|              0.0379|122.035|                  4|             0.361|\n",
            "+---+--------------------+----------------------+----------------------+--------------------+--------------------+------------------+-----------------+-----+-------------------+-------------------+-------------+--------------------+-------+-------------------+------------------+\n",
            "only showing top 20 rows\n",
            "\n"
          ]
        }
      ]
    },
    {
      "cell_type": "code",
      "source": [
        "df2.filter(F.col(\"popularidade_da_música\") >= \"99\").show(20)"
      ],
      "metadata": {
        "colab": {
          "base_uri": "https://localhost:8080/"
        },
        "id": "Ng1XniUoNQTH",
        "outputId": "5c2ee881-5e5c-4e16-9b2c-509031b65b48"
      },
      "execution_count": 30,
      "outputs": [
        {
          "output_type": "stream",
          "name": "stdout",
          "text": [
            "+-----+--------------------+----------------------+----------------------+----------+-------------+-------+-----------------+-----+----------+------+-------------+-----+-------+-------------------+-----------------+\n",
            "|   ID|      nome_da_música|popularidade_da_música|duração_da_música (ms)|  acústica|dançabilidade|energia|instrumentalidade|chave|vivacidade|volume|mode_de_áudio| fala|  tempo|tempo_de_assinatura|valencia_de_áudio|\n",
            "+-----+--------------------+----------------------+----------------------+----------+-------------+-------+-----------------+-----+----------+------+-------------+-----+-------+-------------------+-----------------+\n",
            "| 1229|I Love It (& Lil ...|                    99|                127946|  0.0114kg|   0.901mol/L|  0.522|              0.0|  2.0|     0.259|-8.304|            1| 0.33|104.053|                  4|            0.329|\n",
            "| 1757| Party In The U.S.A.|               nao_sei|  0.8220000000000001kg|0.519mol/L|         0.36|    0.0|               10|0.177|    -8.575|     0|        0.105|97.42|      4|                0.7|              NaN|\n",
            "| 3443|I Love It (& Lil ...|                    99|                127946|  0.0114kg|   0.901mol/L|  0.522|              0.0|  2.0|     0.259|-8.304|            1| 0.33|104.053|                  4|            0.329|\n",
            "| 4301|I Love It (& Lil ...|                    99|                127946|  0.0114kg|   0.901mol/L|  0.522|              0.0|  2.0|     0.259|-8.304|            1| 0.33|104.053|                  4|            0.329|\n",
            "| 5608|I Love It (& Lil ...|                    99|                127946|  0.0114kg|   0.901mol/L|  0.522|              0.0|  2.0|     0.259|-8.304|            1| 0.33|104.053|                  4|            0.329|\n",
            "| 7465|I Love It (& Lil ...|                    99|                127946|  0.0114kg|   0.901mol/L|  0.522|              0.0|  2.0|     0.259|-8.304|            1| 0.33|104.053|                  4|            0.329|\n",
            "| 7574|I Love It (& Lil ...|                    99|                127946|  0.0114kg|   0.901mol/L|  0.522|              0.0|  2.0|     0.259|-8.304|            1| 0.33|104.053|                  4|            0.329|\n",
            "| 7660|I Love It (& Lil ...|                    99|                127946|  0.0114kg|   0.901mol/L|  0.522|              0.0|  2.0|     0.259|-8.304|            1| 0.33|104.053|                  4|            0.329|\n",
            "| 9013|I Love It (& Lil ...|                    99|                127946|  0.0114kg|   0.901mol/L|  0.522|              0.0|  2.0|     0.259|-8.304|            1| 0.33|104.053|                  4|            0.329|\n",
            "|11777|I Love It (& Lil ...|                    99|                127946|  0.0114kg|   0.901mol/L|  0.522|              0.0|  2.0|     0.259|-8.304|            1| 0.33|104.053|                  4|            0.329|\n",
            "|14173|I Love It (& Lil ...|                    99|                127946|  0.0114kg|   0.901mol/L|  0.522|              0.0|  2.0|     0.259|-8.304|            1| 0.33|104.053|                  4|            0.329|\n",
            "|14314|I Love It (& Lil ...|                    99|                127946|  0.0114kg|   0.901mol/L|  0.522|              0.0|  2.0|     0.259|-8.304|            1| 0.33|104.053|                  4|            0.329|\n",
            "|14444|I Love It (& Lil ...|                    99|                127946|  0.0114kg|   0.901mol/L|  0.522|              0.0|  2.0|     0.259|-8.304|            1| 0.33|104.053|                  4|            0.329|\n",
            "|15087|I Love It (& Lil ...|                    99|                127946|  0.0114kg|   0.901mol/L|  0.522|              0.0|  2.0|     0.259|-8.304|            1| 0.33|104.053|                  4|            0.329|\n",
            "|17113|I Love It (& Lil ...|                    99|                127946|  0.0114kg|   0.901mol/L|  0.522|              0.0|  2.0|     0.259|-8.304|            1| 0.33|104.053|                  4|            0.329|\n",
            "|17603|I Love It (& Lil ...|                    99|                127946|  0.0114kg|   0.901mol/L|  0.522|              0.0|  2.0|     0.259|-8.304|            1| 0.33|104.053|                  4|            0.329|\n",
            "|17660|I Love It (& Lil ...|                    99|                127946|  0.0114kg|   0.901mol/L|  0.522|              0.0|  2.0|     0.259|-8.304|            1| 0.33|104.053|                  4|            0.329|\n",
            "+-----+--------------------+----------------------+----------------------+----------+-------------+-------+-----------------+-----+----------+------+-------------+-----+-------+-------------------+-----------------+\n",
            "\n"
          ]
        }
      ]
    },
    {
      "cell_type": "markdown",
      "source": [
        "Insight 1 = Música que começam com a letra A"
      ],
      "metadata": {
        "id": "HKF6ZVipQBBe"
      }
    },
    {
      "cell_type": "code",
      "source": [
        "\n",
        "df2.filter(F.col(\"nome_da_música\").startswith(\"A\")).show(10)\n"
      ],
      "metadata": {
        "colab": {
          "base_uri": "https://localhost:8080/"
        },
        "id": "d24vzOF3QPQP",
        "outputId": "6c89b51b-131c-4dd0-a304-71d704b005b3"
      },
      "execution_count": 41,
      "outputs": [
        {
          "output_type": "stream",
          "name": "stdout",
          "text": [
            "+---+--------------------+----------------------+----------------------+----------+--------------------+-------+--------------------+-----+-------------------+-------+-------------+------+------------------+-------------------+------------------+\n",
            "| ID|      nome_da_música|popularidade_da_música|duração_da_música (ms)|  acústica|       dançabilidade|energia|   instrumentalidade|chave|         vivacidade| volume|mode_de_áudio|  fala|             tempo|tempo_de_assinatura| valencia_de_áudio|\n",
            "+---+--------------------+----------------------+----------------------+----------+--------------------+-------+--------------------+-----+-------------------+-------+-------------+------+------------------+-------------------+------------------+\n",
            "|  7|Are You Gonna Be ...|                    76|                213800| 0.00148kg|          0.613mol/L|  0.953|            0.000582|  2.0|              0.152| -3.435|            1|0.0855|           105.046|                  4|             0.537|\n",
            "| 27|      American Idiot|                    78|                176346|2.64e-05kg|           0.38mol/L|  0.988|7.859999999999999...|  1.0|              0.368| -2.042|            1|0.0639|           186.113|                  4|             0.769|\n",
            "| 30|         All My Life|                    11|                262733|0.000194kg|0.582000000000000...|  0.597|            0.000273|  5.0|              0.517| -5.671|            1|0.0512|           167.738|                  4|             0.674|\n",
            "| 92|    Anywhere Contigo|                    46|                193846|   0.271kg|          0.841mol/L|  0.841|             2.6e-05|  9.0|              0.108| -4.288|            1|0.0633|            104.01|                  4|             0.823|\n",
            "| 96|             All Day|                    45|                198386|  0.0797kg|          0.825mol/L|  0.481|                 0.0|  2.0|              0.239|   -8.6|            1|0.0396|           121.046|                  4|0.7609999999999999|\n",
            "|111|             Alright|                    43|                229038|  0.0199kg|          0.561mol/L|   0.58|                 0.0|  5.0|             0.0619| -5.612|            1|0.0414|             84.98|                  4|             0.294|\n",
            "|131|           All of Me|                    85|                269560|   0.922kg|          0.422mol/L|  0.264|                 0.0|  8.0|              0.132| -7.064|            1|0.0322|            119.93|                  4|             0.331|\n",
            "|211|      Amor Prohibido|                    61|                164120|   0.455kg|0.547999999999999...|  0.688|                 0.0|  7.0|0.07200000000000001| -6.053|            1|0.0372|           179.842|                  4|             0.813|\n",
            "|233|         Amor Eterno|                    59|                408440|   0.445kg|          0.301mol/L|  0.335|             0.00181|  0.0| 0.7509999999999999| -8.564|            1|0.0303|176.59099999999995|                  4|             0.386|\n",
            "|238|               Amigo|                    41|                208866|   0.259kg|          0.613mol/L|  0.489|                 0.0| 11.0|             0.0696|-13.509|            0|0.0503|           145.278|                  4|             0.898|\n",
            "+---+--------------------+----------------------+----------------------+----------+--------------------+-------+--------------------+-----+-------------------+-------+-------------+------+------------------+-------------------+------------------+\n",
            "only showing top 10 rows\n",
            "\n"
          ]
        }
      ]
    },
    {
      "cell_type": "markdown",
      "source": [
        "Insight 2 = Mostrar música que tenham energia maior que 0.517"
      ],
      "metadata": {
        "id": "IeQWRkkbQded"
      }
    },
    {
      "cell_type": "code",
      "source": [
        "from pyspark.sql.window import Window"
      ],
      "metadata": {
        "id": "UK19zqJab2pn"
      },
      "execution_count": 43,
      "outputs": []
    },
    {
      "cell_type": "code",
      "source": [
        "df2.select(F.col(\"popularidade_da_música\")).filter(F.col(\"energia\") > 0.517).show()"
      ],
      "metadata": {
        "colab": {
          "base_uri": "https://localhost:8080/"
        },
        "id": "TeGswyixbehq",
        "outputId": "9fb15268-76e8-40c9-85fa-375f271ec28d"
      },
      "execution_count": 48,
      "outputs": [
        {
          "output_type": "stream",
          "name": "stdout",
          "text": [
            "+----------------------+\n",
            "|popularidade_da_música|\n",
            "+----------------------+\n",
            "|                    73|\n",
            "|                    66|\n",
            "|                    74|\n",
            "|                    56|\n",
            "|                    80|\n",
            "|                    81|\n",
            "|                    76|\n",
            "|                    80|\n",
            "|                    81|\n",
            "|                    78|\n",
            "|                    63|\n",
            "|                    75|\n",
            "|                    81|\n",
            "|                    69|\n",
            "|                    77|\n",
            "|                    71|\n",
            "|                    62|\n",
            "|                    77|\n",
            "|                    79|\n",
            "|                    69|\n",
            "+----------------------+\n",
            "only showing top 20 rows\n",
            "\n"
          ]
        }
      ]
    },
    {
      "cell_type": "markdown",
      "source": [
        "Insight 3 = Mostrar todos os dados apenas das músicas que contenham a palavra love\n"
      ],
      "metadata": {
        "id": "uKHISaCtd6V9"
      }
    },
    {
      "cell_type": "code",
      "source": [
        "df2.filter(F.col('nome_da_música').startswith('love')).show(truncate=False)"
      ],
      "metadata": {
        "colab": {
          "base_uri": "https://localhost:8080/"
        },
        "id": "vLFI2DzKeY8B",
        "outputId": "778d3e4e-549a-49cb-a403-604a0ce66754"
      },
      "execution_count": 50,
      "outputs": [
        {
          "output_type": "stream",
          "name": "stdout",
          "text": [
            "+-----+--------------------+----------------------+----------------------+--------+------------------------+-------------------+-----------------+-----+----------+------------------+-------------+------+-------+-------------------+------------------+\n",
            "|ID   |nome_da_música      |popularidade_da_música|duração_da_música (ms)|acústica|dançabilidade           |energia            |instrumentalidade|chave|vivacidade|volume            |mode_de_áudio|fala  |tempo  |tempo_de_assinatura|valencia_de_áudio |\n",
            "+-----+--------------------+----------------------+----------------------+--------+------------------------+-------------------+-----------------+-----+----------+------------------+-------------+------+-------+-------------------+------------------+\n",
            "|4732 |lovely (with Khalid)|90                    |200185                |0.934kg |0.35100000000000003mol/L|0.29600000000000004|0.0              |4.0  |0.095     |-10.109           |0            |0.0333|115.284|4                  |0.12              |\n",
            "|6003 |love (left)         |1                     |143592                |0.873kg |0.434mol/L              |0.448              |0.919            |10.0 |0.102     |-5.832999999999998|0            |0.057 |78.921 |4                  |0.433             |\n",
            "|8278 |lovers’ carvings    |61                    |238640                |0.68kg  |0.5579999999999999mol/L |0.47               |0.914            |7.0  |0.532     |-5.5              |1            |0.0316|118.06 |4                  |0.4270000000000001|\n",
            "|10630|lovely (with Khalid)|90                    |200185                |0.934kg |0.35100000000000003mol/L|0.29600000000000004|0.0              |4.0  |0.095     |-10.109           |0            |0.0333|115.284|4                  |0.12              |\n",
            "|12680|lovely (with Khalid)|90                    |200185                |0.934kg |0.35100000000000003mol/L|0.29600000000000004|0.0              |4.0  |0.095     |-10.109           |0            |0.0333|115.284|4                  |0.12              |\n",
            "|16515|lovely (with Khalid)|90                    |200185                |0.934kg |0.35100000000000003mol/L|0.29600000000000004|0.0              |4.0  |0.095     |-10.109           |0            |0.0333|115.284|4                  |0.12              |\n",
            "+-----+--------------------+----------------------+----------------------+--------+------------------------+-------------------+-----------------+-----+----------+------------------+-------------+------+-------+-------------------+------------------+\n",
            "\n"
          ]
        }
      ]
    },
    {
      "cell_type": "markdown",
      "source": [
        "Insight 4 = Mostrar a soma do tempo de todas as músicas\n",
        "\n"
      ],
      "metadata": {
        "id": "6y-xDqi0eubd"
      }
    },
    {
      "cell_type": "code",
      "source": [
        "\n",
        "df2.agg(F.sum('tempo_de_assinatura')).show(5)"
      ],
      "metadata": {
        "colab": {
          "base_uri": "https://localhost:8080/"
        },
        "id": "CrDN6WJ3e_jH",
        "outputId": "cadab2a4-1e2e-49ca-daba-a4164f96d338"
      },
      "execution_count": 54,
      "outputs": [
        {
          "output_type": "stream",
          "name": "stdout",
          "text": [
            "+------------------------+\n",
            "|sum(tempo_de_assinatura)|\n",
            "+------------------------+\n",
            "|          2.8000745587E9|\n",
            "+------------------------+\n",
            "\n"
          ]
        }
      ]
    },
    {
      "cell_type": "markdown",
      "source": [
        "Insight 5 = Mostrar em uma nova coluna o seguinte dado: Caso a música tenha popularidade maior que 90, inserir música Tophits, caso contrário, colocar músicas comuns. \n",
        "\n",
        "\n",
        "\n"
      ],
      "metadata": {
        "id": "mReITPJSghxr"
      }
    },
    {
      "cell_type": "code",
      "source": [
        "\n",
        "df2 = ( df2.withColumn('Spotify', \n",
        "                     F.when(F.col('popularidade_da_música') > 90, F.lit('TopHits'))\n",
        "                     .otherwise(F.lit('Música comum')))\n",
        "\n",
        ").show()"
      ],
      "metadata": {
        "colab": {
          "base_uri": "https://localhost:8080/"
        },
        "id": "x5an8mfkiVR2",
        "outputId": "a8f056ac-67a5-447f-e975-f3b6309b87f2"
      },
      "execution_count": 56,
      "outputs": [
        {
          "output_type": "stream",
          "name": "stdout",
          "text": [
            "+---+--------------------+----------------------+----------------------+--------------------+--------------------+------------------+--------------------+-----+-------------------+-------------------+-------------+--------------------+-------+-------------------+------------------+------------+\n",
            "| ID|      nome_da_música|popularidade_da_música|duração_da_música (ms)|            acústica|       dançabilidade|           energia|   instrumentalidade|chave|         vivacidade|             volume|mode_de_áudio|                fala|  tempo|tempo_de_assinatura| valencia_de_áudio|     Spotify|\n",
            "+---+--------------------+----------------------+----------------------+--------------------+--------------------+------------------+--------------------+-----+-------------------+-------------------+-------------+--------------------+-------+-------------------+------------------+------------+\n",
            "|  0|Boulevard of Brok...|                    73|                262333|0.005520000000000...|          0.496mol/L|             0.682|            2.94e-05|  8.0|             0.0589|             -4.095|            1|              0.0294| 167.06|                  4|             0.474|Música comum|\n",
            "|  1|          In The End|                    66|                216933|            0.0103kg|          0.542mol/L|             0.853|                 0.0|  3.0|              0.108|             -6.407|            0|              0.0498|105.256|                  4|              0.37|Música comum|\n",
            "|  2|   Seven Nation Army|                    76|                231733|           0.00817kg|          0.737mol/L|             0.463|               0.447|  0.0|              0.255|-7.8279999999999985|            1|              0.0792|123.881|                  4|             0.324|Música comum|\n",
            "|  3|          By The Way|                    74|                216933|            0.0264kg|          0.451mol/L|              0.97|             0.00355|  0.0|              0.102|             -4.938|            1|               0.107|122.444|                  4|             0.198|Música comum|\n",
            "|  4|   How You Remind Me|                    56|                223826|          0.000954kg|          0.447mol/L|0.7659999999999999|                 0.0| 10.0|              0.113|             -5.065|            1|              0.0313|172.011|                  4|             0.574|Música comum|\n",
            "|  5|    Bring Me To Life|                    80|                235893|           0.00895kg|          0.316mol/L|             0.945|            1.85e-06|  4.0|              0.396|             -3.169|            0|               0.124|189.931|                  4|              0.32|Música comum|\n",
            "|  6|         Last Resort|                    81|                199893|          0.000504kg|          0.581mol/L|             0.887|             0.00111|  4.0|              0.268|             -3.659|            0|              0.0624| 90.578|                  4|0.7240000000000001|Música comum|\n",
            "|  7|Are You Gonna Be ...|                    76|                213800|           0.00148kg|          0.613mol/L|             0.953|            0.000582|  2.0|              0.152|             -3.435|            1|              0.0855|105.046|                  4|             0.537|Música comum|\n",
            "|  8|      Mr. Brightside|                    80|                222586|           0.00108kg|           0.33mol/L|             0.936|                 0.0|  1.0|             0.0926|              -3.66|            1|              0.0917|148.112|                  4|             0.234|Música comum|\n",
            "|  9|         Sex on Fire|                    81|                203346|           0.00172kg|          0.542mol/L|             0.905|              0.0104|  9.0|              0.136|             -5.653|            1|0.054000000000000006|153.398|                  4|             0.374|Música comum|\n",
            "| 10|          The Middle|                    78|                168253|            0.0424kg|          0.629mol/L|             0.897|                 0.0|  2.0|              0.263|             -3.401|            1|              0.0483|161.944|                  4|              0.93|Música comum|\n",
            "| 11|                Numb|                    63|                185586|            0.0046kg|          0.496mol/L|             0.863|                 0.0|  9.0|              0.639|-4.1530000000000005|            1|              0.0381|110.018|                  4|             0.243|Música comum|\n",
            "| 12|     Smooth Criminal|                    75|                209266|           0.00434kg|          0.647mol/L|             0.964|              0.0036|  9.0|               0.15|             -4.225|            0|                0.06|126.942|                  4|             0.875|Música comum|\n",
            "| 13|          Can't Stop|                    81|                269000|            0.0179kg|          0.618mol/L|             0.938|                 0.0|  9.0|0.16699999999999998|             -3.442|            1|              0.0456| 91.455|                  4|             0.875|Música comum|\n",
            "| 14|          Chop Suey!|                    69|                210240|          0.000353kg|           0.42mol/L|             0.929|0.000746999999999...|  7.0|              0.122|             -3.899|            0|               0.121|127.204|                  4|               0.3|Música comum|\n",
            "| 15|         Take Me Out|                    77|                237026|          0.000423kg|          0.278mol/L|0.6759999999999999|0.000899000000000...|  9.0|              0.136|             -8.821|            1|              0.0371|104.545|                  4|             0.494|Música comum|\n",
            "| 16|          I Miss You|                    71|                227240|           0.00136kg|          0.659mol/L|             0.778|            6.79e-06| 11.0|             0.0841| -6.422999999999999|            1|              0.0379|110.022|                  4|             0.623|Música comum|\n",
            "| 17|         Best of You|                    62|                256600|           0.00701kg|           0.37mol/L|             0.944|             2.9e-06|  1.0|              0.135|             -4.979|            0|              0.0767|130.315|                  4|             0.345|Música comum|\n",
            "| 18|I Write Sins Not ...|                    77|                187613|            0.0938kg|0.567000000000000...|             0.795|                 0.0|  9.0|              0.114|             -4.985|            0|               0.134| 170.06|                  4|             0.635|Música comum|\n",
            "| 19|          Kryptonite|                    79|                233933|0.006640000000000...|          0.545mol/L|             0.865|            1.12e-05| 11.0|              0.168| -5.707999999999998|            0|              0.0286|  99.01|                  4|0.5429999999999999|Música comum|\n",
            "+---+--------------------+----------------------+----------------------+--------------------+--------------------+------------------+--------------------+-----+-------------------+-------------------+-------------+--------------------+-------+-------------------+------------------+------------+\n",
            "only showing top 20 rows\n",
            "\n"
          ]
        }
      ]
    }
  ]
}