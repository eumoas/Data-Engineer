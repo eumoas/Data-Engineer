{
  "nbformat": 4,
  "nbformat_minor": 0,
  "metadata": {
    "colab": {
      "name": "spark_join.ipynb",
      "provenance": [],
      "include_colab_link": true
    },
    "kernelspec": {
      "name": "python3",
      "display_name": "Python 3"
    },
    "language_info": {
      "name": "python"
    }
  },
  "cells": [
    {
      "cell_type": "markdown",
      "metadata": {
        "id": "view-in-github",
        "colab_type": "text"
      },
      "source": [
        "<a href=\"https://colab.research.google.com/github/eumoas/Data-Engineer/blob/main/spark_join.ipynb\" target=\"_parent\"><img src=\"https://colab.research.google.com/assets/colab-badge.svg\" alt=\"Open In Colab\"/></a>"
      ]
    },
    {
      "cell_type": "code",
      "execution_count": null,
      "metadata": {
        "id": "itl42kAwZPr_"
      },
      "outputs": [],
      "source": [
        "#INNER JOIN, LEFT JOIN, RIGHT JOIN, FULL OUTER JOIN"
      ]
    },
    {
      "cell_type": "code",
      "source": [
        "!pip install pyspark"
      ],
      "metadata": {
        "colab": {
          "base_uri": "https://localhost:8080/"
        },
        "id": "m6RO4FJFZiwJ",
        "outputId": "2e0bde52-d5ff-4896-b966-8464023636ff"
      },
      "execution_count": null,
      "outputs": [
        {
          "output_type": "stream",
          "name": "stdout",
          "text": [
            "Collecting pyspark\n",
            "  Downloading pyspark-3.2.1.tar.gz (281.4 MB)\n",
            "\u001b[K     |████████████████████████████████| 281.4 MB 33 kB/s \n",
            "\u001b[?25hCollecting py4j==0.10.9.3\n",
            "  Downloading py4j-0.10.9.3-py2.py3-none-any.whl (198 kB)\n",
            "\u001b[K     |████████████████████████████████| 198 kB 46.3 MB/s \n",
            "\u001b[?25hBuilding wheels for collected packages: pyspark\n",
            "  Building wheel for pyspark (setup.py) ... \u001b[?25l\u001b[?25hdone\n",
            "  Created wheel for pyspark: filename=pyspark-3.2.1-py2.py3-none-any.whl size=281853642 sha256=23568efbe126009864dbc562338f4e2ed131b01e34db4c5b35b9d1911da3f307\n",
            "  Stored in directory: /root/.cache/pip/wheels/9f/f5/07/7cd8017084dce4e93e84e92efd1e1d5334db05f2e83bcef74f\n",
            "Successfully built pyspark\n",
            "Installing collected packages: py4j, pyspark\n",
            "Successfully installed py4j-0.10.9.3 pyspark-3.2.1\n"
          ]
        }
      ]
    },
    {
      "cell_type": "code",
      "source": [
        "from pyspark.sql import SparkSession\n",
        "from pyspark import SparkConf\n",
        "import pyspark.sql.functions as F\n",
        "from pyspark.sql.types import *"
      ],
      "metadata": {
        "id": "JupTEb73Yu2Z"
      },
      "execution_count": null,
      "outputs": []
    },
    {
      "cell_type": "code",
      "source": [
        "spark = (\n",
        "    SparkSession.builder\n",
        "                .master('local')\n",
        "                .appName('aulaSpark')\n",
        "                .config('spark.ui.port',  '4050')\n",
        "                .getOrCreate()\n",
        ")"
      ],
      "metadata": {
        "id": "At5ibDkZZdx_"
      },
      "execution_count": null,
      "outputs": []
    },
    {
      "cell_type": "code",
      "source": [
        "from google.colab import drive\n",
        "drive.mount('/content/drive')"
      ],
      "metadata": {
        "colab": {
          "base_uri": "https://localhost:8080/"
        },
        "id": "i1F0Y1mTZ3Gm",
        "outputId": "2733f4c0-b009-44b5-eb04-8325b9a009de"
      },
      "execution_count": null,
      "outputs": [
        {
          "output_type": "stream",
          "name": "stdout",
          "text": [
            "Mounted at /content/drive\n"
          ]
        }
      ]
    },
    {
      "cell_type": "code",
      "source": [
        "schema = ['id', 'nome', 'salario']\n",
        "\n",
        "dados = [\n",
        "         (1, 'João', 2000),\n",
        "         (2, 'Maria', 5000),\n",
        "         (3, 'Pedro', 8300),\n",
        "         (4, 'Gustavo', 1200),\n",
        "         (5, 'Ana', 10000),\n",
        "         (6, 'Vitoria', 7500),\n",
        "         (7, 'Carlos', 4800),\n",
        "         (8, 'Claudia', 4300),\n",
        "         (9, 'Andre', 2400),\n",
        "]\n",
        "df1 = spark.createDataFrame(data=dados, schema=schema)"
      ],
      "metadata": {
        "id": "CcHDoM_SaR7H"
      },
      "execution_count": null,
      "outputs": []
    },
    {
      "cell_type": "code",
      "source": [
        "schema = ['id', 'cidade', 'estado']\n",
        "\n",
        "dados = [\n",
        "         (1, 'São Paulo', 'SP'),\n",
        "         (2, 'Curitiba', 'PR'),\n",
        "         (3, 'Fortaleza', 'CE'),\n",
        "         (4, 'Ribeirão Preto', 'SP'),\n",
        "         (8, 'Belo Horizonte', 'MG'),\n",
        "         (9, 'Goiania', 'GO'),\n",
        "         (10, 'Sobral', 'CE'),\n",
        "         (11, 'Salvador', 'BA'),\n",
        "         (12, 'São Luis', 'MA'),\n",
        "]\n",
        "df2 = spark.createDataFrame(data=dados, schema=schema)"
      ],
      "metadata": {
        "id": "r-X5WLDea-3g"
      },
      "execution_count": null,
      "outputs": []
    },
    {
      "cell_type": "code",
      "source": [
        "df1.show()"
      ],
      "metadata": {
        "colab": {
          "base_uri": "https://localhost:8080/"
        },
        "id": "gXws2uMcbw2z",
        "outputId": "c329473e-46dd-43f6-d3de-2c3e448afa8f"
      },
      "execution_count": null,
      "outputs": [
        {
          "output_type": "stream",
          "name": "stdout",
          "text": [
            "+---+-------+-------+\n",
            "| id|   nome|salario|\n",
            "+---+-------+-------+\n",
            "|  1|   João|   2000|\n",
            "|  2|  Maria|   5000|\n",
            "|  3|  Pedro|   8300|\n",
            "|  4|Gustavo|   1200|\n",
            "|  5|    Ana|  10000|\n",
            "|  6|Vitoria|   7500|\n",
            "|  7| Carlos|   4800|\n",
            "|  8|Claudia|   4300|\n",
            "|  9|  Andre|   2400|\n",
            "+---+-------+-------+\n",
            "\n"
          ]
        }
      ]
    },
    {
      "cell_type": "code",
      "source": [
        "df2.show()"
      ],
      "metadata": {
        "colab": {
          "base_uri": "https://localhost:8080/"
        },
        "id": "eYTdjgu2by3u",
        "outputId": "b3649a0a-22cb-44a5-dc61-8f62312301da"
      },
      "execution_count": null,
      "outputs": [
        {
          "output_type": "stream",
          "name": "stdout",
          "text": [
            "+---+--------------+------+\n",
            "| id|        cidade|estado|\n",
            "+---+--------------+------+\n",
            "|  1|     São Paulo|    SP|\n",
            "|  2|      Curitiba|    PR|\n",
            "|  3|     Fortaleza|    CE|\n",
            "|  4|Ribeirão Preto|    SP|\n",
            "|  8|Belo Horizonte|    MG|\n",
            "|  9|       Goiania|    GO|\n",
            "| 10|        Sobral|    CE|\n",
            "| 11|      Salvador|    BA|\n",
            "| 12|      São Luis|    MA|\n",
            "+---+--------------+------+\n",
            "\n"
          ]
        }
      ]
    },
    {
      "cell_type": "code",
      "source": [
        "#INNER JOIN\n",
        "df_inner = df1.join(df2, on=['id'], how='inner')\n",
        "\n",
        "df_inner.show()"
      ],
      "metadata": {
        "colab": {
          "base_uri": "https://localhost:8080/"
        },
        "id": "E-D84VMQcC6G",
        "outputId": "4c88fb3f-a62a-452e-8e49-dea0c1c4ae1d"
      },
      "execution_count": null,
      "outputs": [
        {
          "output_type": "stream",
          "name": "stdout",
          "text": [
            "+---+-------+-------+--------------+------+\n",
            "| id|   nome|salario|        cidade|estado|\n",
            "+---+-------+-------+--------------+------+\n",
            "|  1|   João|   2000|     São Paulo|    SP|\n",
            "|  2|  Maria|   5000|      Curitiba|    PR|\n",
            "|  3|  Pedro|   8300|     Fortaleza|    CE|\n",
            "|  4|Gustavo|   1200|Ribeirão Preto|    SP|\n",
            "|  8|Claudia|   4300|Belo Horizonte|    MG|\n",
            "|  9|  Andre|   2400|       Goiania|    GO|\n",
            "+---+-------+-------+--------------+------+\n",
            "\n"
          ]
        }
      ]
    },
    {
      "cell_type": "code",
      "source": [
        "#LEFT JOIN, LEFTOUTER, LEFT_OUTER\n",
        "\n",
        "df_left = df1.join(df2, on=['id'], how='left')\n",
        "\n",
        "df_left.show()"
      ],
      "metadata": {
        "colab": {
          "base_uri": "https://localhost:8080/"
        },
        "id": "WdD3U3KBeJj6",
        "outputId": "75067587-f63b-482e-976d-faa0461b56f6"
      },
      "execution_count": null,
      "outputs": [
        {
          "output_type": "stream",
          "name": "stdout",
          "text": [
            "+---+-------+-------+--------------+------+\n",
            "| id|   nome|salario|        cidade|estado|\n",
            "+---+-------+-------+--------------+------+\n",
            "|  1|   João|   2000|     São Paulo|    SP|\n",
            "|  2|  Maria|   5000|      Curitiba|    PR|\n",
            "|  3|  Pedro|   8300|     Fortaleza|    CE|\n",
            "|  4|Gustavo|   1200|Ribeirão Preto|    SP|\n",
            "|  5|    Ana|  10000|          null|  null|\n",
            "|  6|Vitoria|   7500|          null|  null|\n",
            "|  7| Carlos|   4800|          null|  null|\n",
            "|  8|Claudia|   4300|Belo Horizonte|    MG|\n",
            "|  9|  Andre|   2400|       Goiania|    GO|\n",
            "+---+-------+-------+--------------+------+\n",
            "\n"
          ]
        }
      ]
    },
    {
      "cell_type": "code",
      "source": [
        "#RIGHT JOIN\n",
        "\n",
        "df_right = df1.join(df2, on=['id'], how='right')\n",
        "\n",
        "df_right.show()"
      ],
      "metadata": {
        "colab": {
          "base_uri": "https://localhost:8080/"
        },
        "id": "zIeuVOjujYzP",
        "outputId": "85ab0da0-9257-4a83-a82c-3c2e973583a6"
      },
      "execution_count": null,
      "outputs": [
        {
          "output_type": "stream",
          "name": "stdout",
          "text": [
            "+---+-------+-------+--------------+------+\n",
            "| id|   nome|salario|        cidade|estado|\n",
            "+---+-------+-------+--------------+------+\n",
            "|  1|   João|   2000|     São Paulo|    SP|\n",
            "|  2|  Maria|   5000|      Curitiba|    PR|\n",
            "|  3|  Pedro|   8300|     Fortaleza|    CE|\n",
            "|  4|Gustavo|   1200|Ribeirão Preto|    SP|\n",
            "|  8|Claudia|   4300|Belo Horizonte|    MG|\n",
            "|  9|  Andre|   2400|       Goiania|    GO|\n",
            "| 10|   null|   null|        Sobral|    CE|\n",
            "| 11|   null|   null|      Salvador|    BA|\n",
            "| 12|   null|   null|      São Luis|    MA|\n",
            "+---+-------+-------+--------------+------+\n",
            "\n"
          ]
        }
      ]
    },
    {
      "cell_type": "code",
      "source": [
        "#FULL, OUTER, FULLOUTER, FULL_OUTER\n",
        "df_full = df1.join(df2, on=['id'], how='full')\n",
        "\n",
        "df_full.show()"
      ],
      "metadata": {
        "colab": {
          "base_uri": "https://localhost:8080/"
        },
        "id": "IHU5lqsZk4wO",
        "outputId": "fbc67722-200f-49bf-c135-f6e6c37f34d0"
      },
      "execution_count": null,
      "outputs": [
        {
          "output_type": "stream",
          "name": "stdout",
          "text": [
            "+---+-------+-------+--------------+------+\n",
            "| id|   nome|salario|        cidade|estado|\n",
            "+---+-------+-------+--------------+------+\n",
            "|  1|   João|   2000|     São Paulo|    SP|\n",
            "|  2|  Maria|   5000|      Curitiba|    PR|\n",
            "|  3|  Pedro|   8300|     Fortaleza|    CE|\n",
            "|  4|Gustavo|   1200|Ribeirão Preto|    SP|\n",
            "|  5|    Ana|  10000|          null|  null|\n",
            "|  6|Vitoria|   7500|          null|  null|\n",
            "|  7| Carlos|   4800|          null|  null|\n",
            "|  8|Claudia|   4300|Belo Horizonte|    MG|\n",
            "|  9|  Andre|   2400|       Goiania|    GO|\n",
            "| 10|   null|   null|        Sobral|    CE|\n",
            "| 11|   null|   null|      Salvador|    BA|\n",
            "| 12|   null|   null|      São Luis|    MA|\n",
            "+---+-------+-------+--------------+------+\n",
            "\n"
          ]
        }
      ]
    }
  ]
}