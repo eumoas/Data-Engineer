{
  "nbformat": 4,
  "nbformat_minor": 0,
  "metadata": {
    "colab": {
      "name": "Untitled6.ipynb",
      "provenance": [],
      "authorship_tag": "ABX9TyPuX3e6M5N6rAxGfkglLKVR",
      "include_colab_link": true
    },
    "kernelspec": {
      "name": "python3",
      "display_name": "Python 3"
    },
    "language_info": {
      "name": "python"
    }
  },
  "cells": [
    {
      "cell_type": "markdown",
      "metadata": {
        "id": "view-in-github",
        "colab_type": "text"
      },
      "source": [
        "<a href=\"https://colab.research.google.com/github/eumoas/Data-Engineer/blob/main/Untitled6.ipynb\" target=\"_parent\"><img src=\"https://colab.research.google.com/assets/colab-badge.svg\" alt=\"Open In Colab\"/></a>"
      ]
    },
    {
      "cell_type": "code",
      "execution_count": null,
      "metadata": {
        "id": "L2gA7H_G1TIy"
      },
      "outputs": [],
      "source": [
        "#1Escrever um programa para exibir os números de 25 a 85 na tela\n",
        "\n",
        "\n",
        "n = 25\n",
        "while n < 86:\n",
        "  print(n)\n",
        "  n +=1"
      ]
    },
    {
      "cell_type": "code",
      "source": [
        "#2) Escrever um programa para exibir os números de 1 a 100 em ordem inversa.\n",
        "n = 100\n",
        "while n > 1:\n",
        "  print(n)\n",
        "  n -=1\n",
        "\n",
        "  "
      ],
      "metadata": {
        "id": "nMk2nrkt12r3"
      },
      "execution_count": null,
      "outputs": []
    },
    {
      "cell_type": "code",
      "source": [
        "#3) Fazer um programa para encontrar todos os números pares entre 1 e 100.\n",
        "\n",
        "n = 2\n",
        "while n * 2 >100:\n",
        "  print(n)\n",
        "  n +=2\n",
        "\n"
      ],
      "metadata": {
        "id": "1fIAfCpW4x4I"
      },
      "execution_count": 25,
      "outputs": []
    },
    {
      "cell_type": "code",
      "source": [
        "#4) Ler 10 números e informar na tela quantos números pares foram digitados e quantos números ímpares foram digitados.\n",
        "\n",
        "\n",
        "\n"
      ],
      "metadata": {
        "id": "sgTpznPk54lU"
      },
      "execution_count": null,
      "outputs": []
    },
    {
      "cell_type": "code",
      "source": [
        "#5) Crie um algoritmo que leia 10 números e informe o maior número lido"
      ],
      "metadata": {
        "id": "oQyM9OaK59G1"
      },
      "execution_count": null,
      "outputs": []
    }
  ]
}