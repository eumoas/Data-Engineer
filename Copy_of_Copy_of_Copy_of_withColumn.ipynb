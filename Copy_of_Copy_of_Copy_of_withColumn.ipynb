{
  "nbformat": 4,
  "nbformat_minor": 0,
  "metadata": {
    "colab": {
      "name": "Copy of Copy of Copy of withColumn.ipynb",
      "provenance": [],
      "include_colab_link": true
    },
    "kernelspec": {
      "name": "python3",
      "display_name": "Python 3"
    },
    "language_info": {
      "name": "python"
    }
  },
  "cells": [
    {
      "cell_type": "markdown",
      "metadata": {
        "id": "view-in-github",
        "colab_type": "text"
      },
      "source": [
        "<a href=\"https://colab.research.google.com/github/eumoas/Data-Engineer/blob/main/Copy_of_Copy_of_Copy_of_withColumn.ipynb\" target=\"_parent\"><img src=\"https://colab.research.google.com/assets/colab-badge.svg\" alt=\"Open In Colab\"/></a>"
      ]
    },
    {
      "cell_type": "code",
      "execution_count": null,
      "metadata": {
        "colab": {
          "base_uri": "https://localhost:8080/"
        },
        "id": "USVWOYb3NW8a",
        "outputId": "8d6f6de8-00cf-4066-86f9-f7ace15bf10a"
      },
      "outputs": [
        {
          "output_type": "stream",
          "name": "stdout",
          "text": [
            "Collecting pyspark\n",
            "  Downloading pyspark-3.2.1.tar.gz (281.4 MB)\n",
            "\u001b[K     |████████████████████████████████| 281.4 MB 34 kB/s \n",
            "\u001b[?25hCollecting py4j==0.10.9.3\n",
            "  Downloading py4j-0.10.9.3-py2.py3-none-any.whl (198 kB)\n",
            "\u001b[K     |████████████████████████████████| 198 kB 41.3 MB/s \n",
            "\u001b[?25hBuilding wheels for collected packages: pyspark\n",
            "  Building wheel for pyspark (setup.py) ... \u001b[?25l\u001b[?25hdone\n",
            "  Created wheel for pyspark: filename=pyspark-3.2.1-py2.py3-none-any.whl size=281853642 sha256=600b7ba32c7b2a295f7e07cef0f5dd4d378b529a7ee7594f13a1e8f4dddb6880\n",
            "  Stored in directory: /root/.cache/pip/wheels/9f/f5/07/7cd8017084dce4e93e84e92efd1e1d5334db05f2e83bcef74f\n",
            "Successfully built pyspark\n",
            "Installing collected packages: py4j, pyspark\n",
            "Successfully installed py4j-0.10.9.3 pyspark-3.2.1\n"
          ]
        }
      ],
      "source": [
        "!pip install pyspark"
      ]
    },
    {
      "cell_type": "code",
      "source": [
        "from pyspark.sql import SparkSession\n",
        "from pyspark import SparkConf\n",
        "import pyspark.sql.functions as F"
      ],
      "metadata": {
        "id": "tuaTIEcAOEL_"
      },
      "execution_count": null,
      "outputs": []
    },
    {
      "cell_type": "code",
      "source": [
        "spark = (\n",
        "    SparkSession.builder\n",
        "    .master(\"local\")\n",
        "    .appName(\"criando_colunas\")\n",
        "    .config(\"spark.ui.port\", '4050')\n",
        "    .getOrCreate()\n",
        ")"
      ],
      "metadata": {
        "id": "nJqGdSQ0ORxl"
      },
      "execution_count": null,
      "outputs": []
    },
    {
      "cell_type": "code",
      "source": [
        "spark"
      ],
      "metadata": {
        "colab": {
          "base_uri": "https://localhost:8080/",
          "height": 219
        },
        "id": "Y0ZfagzlOs5A",
        "outputId": "cd5df1c9-8c01-42b1-a5bc-0e549c642474"
      },
      "execution_count": null,
      "outputs": [
        {
          "output_type": "execute_result",
          "data": {
            "text/html": [
              "\n",
              "            <div>\n",
              "                <p><b>SparkSession - in-memory</b></p>\n",
              "                \n",
              "        <div>\n",
              "            <p><b>SparkContext</b></p>\n",
              "\n",
              "            <p><a href=\"http://190fe51c5d58:4050\">Spark UI</a></p>\n",
              "\n",
              "            <dl>\n",
              "              <dt>Version</dt>\n",
              "                <dd><code>v3.2.1</code></dd>\n",
              "              <dt>Master</dt>\n",
              "                <dd><code>local</code></dd>\n",
              "              <dt>AppName</dt>\n",
              "                <dd><code>criando_colunas</code></dd>\n",
              "            </dl>\n",
              "        </div>\n",
              "        \n",
              "            </div>\n",
              "        "
            ],
            "text/plain": [
              "<pyspark.sql.session.SparkSession at 0x7fedd90c9b50>"
            ]
          },
          "metadata": {},
          "execution_count": 5
        }
      ]
    },
    {
      "cell_type": "code",
      "source": [
        "df = (\n",
        "    spark\n",
        "       .read\n",
        "       .format(\"csv\")\n",
        "       .option()\n",
        "       .option()\n",
        "       \n",
        ")"
      ],
      "metadata": {
        "id": "3aRC3VZhPYFz"
      },
      "execution_count": null,
      "outputs": []
    },
    {
      "cell_type": "code",
      "source": [
        "#Criar dataframe no pyspark\n",
        "esquema = ['id', 'nome', 'idade', 'gen']\n",
        "dados = [\n",
        "         (1, 'Bob', 45, 'M'),\n",
        "         (2,'Gloria', 43,'F'),\n",
        "         (4,'Albert', 28,'M'),\n",
        "         (5,'Laura', 33,'F'),\n",
        "         (8,'Simone', 18,'T'),\n",
        "         (12,'Marta', 45,'F'),\n",
        "         (45,'Jairo', 82,'M'),\n",
        "         (13,'Teste', 38,'T')\n",
        "]\n",
        "#criar data frame\n",
        "dfid = spark.createDataFrame(data=dados, schema=esquema)\n",
        "\n"
      ],
      "metadata": {
        "id": "wVse-jUokmlT"
      },
      "execution_count": null,
      "outputs": []
    },
    {
      "cell_type": "code",
      "source": [
        "#Verificar apenas as pessoas do sexo F\n",
        "filtro = F.col(\"gen\") == \"F\"\n",
        "dfid.filter(filtro).show()"
      ],
      "metadata": {
        "colab": {
          "base_uri": "https://localhost:8080/"
        },
        "id": "2UTmWgx3lwzM",
        "outputId": "5e76adec-83de-48c9-8fec-1b0230bc8207"
      },
      "execution_count": null,
      "outputs": [
        {
          "output_type": "stream",
          "name": "stdout",
          "text": [
            "+---+------+-----+---+\n",
            "| id|  nome|idade|gen|\n",
            "+---+------+-----+---+\n",
            "|  2|Gloria|   43|  F|\n",
            "|  5| Laura|   33|  F|\n",
            "| 12| Marta|   45|  F|\n",
            "+---+------+-----+---+\n",
            "\n"
          ]
        }
      ]
    },
    {
      "cell_type": "code",
      "source": [
        "dfid.filter('idade > 30').show()"
      ],
      "metadata": {
        "colab": {
          "base_uri": "https://localhost:8080/"
        },
        "id": "diY8Y3zmmAma",
        "outputId": "2f7e1da5-f9c9-4c05-b9a1-e1f7a837da1b"
      },
      "execution_count": null,
      "outputs": [
        {
          "output_type": "stream",
          "name": "stdout",
          "text": [
            "+---+------+-----+---+\n",
            "| id|  nome|idade|gen|\n",
            "+---+------+-----+---+\n",
            "|  1|   Bob|   45|  M|\n",
            "|  2|Gloria|   43|  F|\n",
            "|  5| Laura|   33|  F|\n",
            "| 12| Marta|   45|  F|\n",
            "| 45| Jairo|   82|  M|\n",
            "| 13| Teste|   38|  T|\n",
            "+---+------+-----+---+\n",
            "\n"
          ]
        }
      ]
    }
  ]
}