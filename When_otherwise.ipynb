{
  "nbformat": 4,
  "nbformat_minor": 0,
  "metadata": {
    "colab": {
      "name": "When_otherwise.ipynb",
      "provenance": [],
      "include_colab_link": true
    },
    "kernelspec": {
      "name": "python3",
      "display_name": "Python 3"
    },
    "language_info": {
      "name": "python"
    }
  },
  "cells": [
    {
      "cell_type": "markdown",
      "metadata": {
        "id": "view-in-github",
        "colab_type": "text"
      },
      "source": [
        "<a href=\"https://colab.research.google.com/github/eumoas/Data-Engineer/blob/main/When_otherwise.ipynb\" target=\"_parent\"><img src=\"https://colab.research.google.com/assets/colab-badge.svg\" alt=\"Open In Colab\"/></a>"
      ]
    },
    {
      "cell_type": "code",
      "execution_count": null,
      "metadata": {
        "colab": {
          "base_uri": "https://localhost:8080/"
        },
        "id": "Njd8FvP14ktX",
        "outputId": "8fa6dbaf-9b3c-4fdb-ea7a-a411f77c70e0"
      },
      "outputs": [
        {
          "output_type": "stream",
          "name": "stdout",
          "text": [
            "Collecting pyspark\n",
            "  Downloading pyspark-3.2.1.tar.gz (281.4 MB)\n",
            "\u001b[K     |████████████████████████████████| 281.4 MB 34 kB/s \n",
            "\u001b[?25hCollecting py4j==0.10.9.3\n",
            "  Downloading py4j-0.10.9.3-py2.py3-none-any.whl (198 kB)\n",
            "\u001b[K     |████████████████████████████████| 198 kB 48.6 MB/s \n",
            "\u001b[?25hBuilding wheels for collected packages: pyspark\n",
            "  Building wheel for pyspark (setup.py) ... \u001b[?25l\u001b[?25hdone\n",
            "  Created wheel for pyspark: filename=pyspark-3.2.1-py2.py3-none-any.whl size=281853642 sha256=9041488b6e0fb88e500bace24c7539691c9a9dd1bbb84bd8c8145958515d2812\n",
            "  Stored in directory: /root/.cache/pip/wheels/9f/f5/07/7cd8017084dce4e93e84e92efd1e1d5334db05f2e83bcef74f\n",
            "Successfully built pyspark\n",
            "Installing collected packages: py4j, pyspark\n",
            "Successfully installed py4j-0.10.9.3 pyspark-3.2.1\n"
          ]
        }
      ],
      "source": [
        "!pip install pyspark"
      ]
    },
    {
      "cell_type": "code",
      "source": [
        "from pyspark.sql import SparkSession\n",
        "from pyspark import SparkConf\n",
        "import pyspark.sql.functions as F"
      ],
      "metadata": {
        "id": "TdJqox1k8ymE"
      },
      "execution_count": null,
      "outputs": []
    },
    {
      "cell_type": "code",
      "source": [
        "spark = (\n",
        "    SparkSession.builder\n",
        "                .master(\"local[3]\")\n",
        "                .appName(\"when_otherwise\")\n",
        "                .config(\"spark.ui.port\", \"4050\")\n",
        "                .getOrCreate()\n",
        ")"
      ],
      "metadata": {
        "id": "dHY4GVNF-7qT"
      },
      "execution_count": null,
      "outputs": []
    },
    {
      "cell_type": "code",
      "source": [
        "spark"
      ],
      "metadata": {
        "colab": {
          "base_uri": "https://localhost:8080/",
          "height": 219
        },
        "id": "3ZCPeJZDARWY",
        "outputId": "3789e45f-4d52-4e17-b423-1e03de91347a"
      },
      "execution_count": null,
      "outputs": [
        {
          "output_type": "execute_result",
          "data": {
            "text/html": [
              "\n",
              "            <div>\n",
              "                <p><b>SparkSession - in-memory</b></p>\n",
              "                \n",
              "        <div>\n",
              "            <p><b>SparkContext</b></p>\n",
              "\n",
              "            <p><a href=\"http://5d467c05ced2:4050\">Spark UI</a></p>\n",
              "\n",
              "            <dl>\n",
              "              <dt>Version</dt>\n",
              "                <dd><code>v3.2.1</code></dd>\n",
              "              <dt>Master</dt>\n",
              "                <dd><code>local[3]</code></dd>\n",
              "              <dt>AppName</dt>\n",
              "                <dd><code>when_otherwise</code></dd>\n",
              "            </dl>\n",
              "        </div>\n",
              "        \n",
              "            </div>\n",
              "        "
            ],
            "text/plain": [
              "<pyspark.sql.session.SparkSession at 0x7f38f787b310>"
            ]
          },
          "metadata": {},
          "execution_count": 5
        }
      ]
    },
    {
      "cell_type": "code",
      "source": [
        "df = ( spark.read\n",
        "            .format(\"csv\")\n",
        "            .option(\"header\", \"true\")\n",
        "            .option(\"inferschema\", \"true\")\n",
        "            .option(\"delimiter\", \";\")\n",
        "            .load(\"/content/drive/MyDrive/Datasets/arquivo_geral.csv\")\n",
        "      \n",
        ")"
      ],
      "metadata": {
        "id": "KPfWO7aUBHIw"
      },
      "execution_count": null,
      "outputs": []
    },
    {
      "cell_type": "code",
      "source": [
        "df.show(20)"
      ],
      "metadata": {
        "colab": {
          "base_uri": "https://localhost:8080/"
        },
        "id": "nqYt-LscBuHu",
        "outputId": "bb58cd48-0222-406d-bb91-753be498ac59"
      },
      "execution_count": null,
      "outputs": [
        {
          "output_type": "stream",
          "name": "stdout",
          "text": [
            "+------+------+----------+----------+---------------+-----------+----------------+\n",
            "|regiao|estado|      data|casosNovos|casosAcumulados|obitosNovos|obitosAcumulados|\n",
            "+------+------+----------+----------+---------------+-----------+----------------+\n",
            "| Norte|    RO|2020-01-30|         0|              0|          0|               0|\n",
            "| Norte|    RO|2020-01-31|         0|              0|          0|               0|\n",
            "| Norte|    RO|2020-02-01|         0|              0|          0|               0|\n",
            "| Norte|    RO|2020-02-02|         0|              0|          0|               0|\n",
            "| Norte|    RO|2020-02-03|         0|              0|          0|               0|\n",
            "| Norte|    RO|2020-02-04|         0|              0|          0|               0|\n",
            "| Norte|    RO|2020-02-05|         0|              0|          0|               0|\n",
            "| Norte|    RO|2020-02-06|         0|              0|          0|               0|\n",
            "| Norte|    RO|2020-02-07|         0|              0|          0|               0|\n",
            "| Norte|    RO|2020-02-08|         0|              0|          0|               0|\n",
            "| Norte|    RO|2020-02-09|         0|              0|          0|               0|\n",
            "| Norte|    RO|2020-02-10|         0|              0|          0|               0|\n",
            "| Norte|    RO|2020-02-11|         0|              0|          0|               0|\n",
            "| Norte|    RO|2020-02-12|         0|              0|          0|               0|\n",
            "| Norte|    RO|2020-02-13|         0|              0|          0|               0|\n",
            "| Norte|    RO|2020-02-14|         0|              0|          0|               0|\n",
            "| Norte|    RO|2020-02-15|         0|              0|          0|               0|\n",
            "| Norte|    RO|2020-02-16|         0|              0|          0|               0|\n",
            "| Norte|    RO|2020-02-17|         0|              0|          0|               0|\n",
            "| Norte|    RO|2020-02-18|         0|              0|          0|               0|\n",
            "+------+------+----------+----------+---------------+-----------+----------------+\n",
            "only showing top 20 rows\n",
            "\n"
          ]
        }
      ]
    },
    {
      "cell_type": "markdown",
      "source": [
        "When - Otherwise"
      ],
      "metadata": {
        "id": "H70Yk7ULCAGD"
      }
    },
    {
      "cell_type": "code",
      "source": [
        "#CRIANDO UMA NOVA COLUNA COM BASE EM DUAS CONDIÇÕES\n",
        "df2 = (df.withColumn(\"Status\", F.when(F.col(\"casosNovos\") > 0, F.lit(\"Possui Casos Novos\"))\n",
        "                    .otherwise(F.lit(\"Não possui casos novos\"))))\n",
        "\n",
        "df2.show(1000)"
      ],
      "metadata": {
        "id": "s1Bh68wJCCRt"
      },
      "execution_count": null,
      "outputs": []
    },
    {
      "cell_type": "code",
      "source": [
        "#CRIANDO UMA NOVA COLUNA COM BASE EM MAIS DE DUAS CONDIÇÕES\n",
        "df3 = (df.withColumn(\"Status\", F.when((F.col('casosNovos') >= 50) & (F.col('casosNovos') <= 100), F.lit(\"Entre 50 e 100\"))\n",
        "                                .when((F.col('casosNovos') > 100 ) & (F.col('casosNovos') <= 200), F.lit('Entre 101 e 200'))\n",
        "                                .when((F.col('casosNovos') > 200 ) & (F.col('casosNovos') <= 300), F.lit('Entre 201 e 300'))\n",
        "                                .otherwise(F.lit('Entre outra faixa de valores'))))\n",
        "\n",
        "df3.show(20)"
      ],
      "metadata": {
        "id": "lNh0l825H9FD"
      },
      "execution_count": null,
      "outputs": []
    },
    {
      "cell_type": "code",
      "source": [
        "#PERCORRENDO UMA SUBSTRING DENTRO DE UM DATAFRAME\n",
        "df4 = df3.withColumn(\"Dia\", F.lit(10)).withColumn(\"Mes\", F.lit(1)).withColumn(\"Ano\", F.lit(2020))\n",
        "\n",
        "df4.select(F.col(\"regiao\"), F.col(\"estado\"), F.col(\"data\"), F.col(\"Dia\"), F.col(\"Mes\"), F.col(\"Ano\")).show(20)\n",
        "\n",
        "# DIA F.substring(F.col(\"data\"), 9, 2)\n",
        "# MES F.substring(F.col(\"data\"), 6, 2)\n",
        "# ANO F.substring(F.col(\"data\"), 1, 4)\n"
      ],
      "metadata": {
        "colab": {
          "base_uri": "https://localhost:8080/"
        },
        "id": "OrUZkOwiLrxb",
        "outputId": "551a9386-759c-4d80-c568-db2f80ea98d0"
      },
      "execution_count": null,
      "outputs": [
        {
          "output_type": "stream",
          "name": "stdout",
          "text": [
            "+------+------+----------+---+---+----+\n",
            "|regiao|estado|      data|Dia|Mes| Ano|\n",
            "+------+------+----------+---+---+----+\n",
            "| Norte|    RO|2020-01-30| 10|  1|2020|\n",
            "| Norte|    RO|2020-01-31| 10|  1|2020|\n",
            "| Norte|    RO|2020-02-01| 10|  1|2020|\n",
            "| Norte|    RO|2020-02-02| 10|  1|2020|\n",
            "| Norte|    RO|2020-02-03| 10|  1|2020|\n",
            "| Norte|    RO|2020-02-04| 10|  1|2020|\n",
            "| Norte|    RO|2020-02-05| 10|  1|2020|\n",
            "| Norte|    RO|2020-02-06| 10|  1|2020|\n",
            "| Norte|    RO|2020-02-07| 10|  1|2020|\n",
            "| Norte|    RO|2020-02-08| 10|  1|2020|\n",
            "| Norte|    RO|2020-02-09| 10|  1|2020|\n",
            "| Norte|    RO|2020-02-10| 10|  1|2020|\n",
            "| Norte|    RO|2020-02-11| 10|  1|2020|\n",
            "| Norte|    RO|2020-02-12| 10|  1|2020|\n",
            "| Norte|    RO|2020-02-13| 10|  1|2020|\n",
            "| Norte|    RO|2020-02-14| 10|  1|2020|\n",
            "| Norte|    RO|2020-02-15| 10|  1|2020|\n",
            "| Norte|    RO|2020-02-16| 10|  1|2020|\n",
            "| Norte|    RO|2020-02-17| 10|  1|2020|\n",
            "| Norte|    RO|2020-02-18| 10|  1|2020|\n",
            "+------+------+----------+---+---+----+\n",
            "only showing top 20 rows\n",
            "\n"
          ]
        }
      ]
    },
    {
      "cell_type": "code",
      "source": [
        "#PERCORRENDO UMA SUBSTRING DENTRO DE UM DATAFRAME\n",
        "df4 =( df3.withColumn(\"Dia\", F.substring(F.col(\"data\"), 9, 2))\n",
        "          .withColumn(\"Mes\", F.substring(F.col(\"data\"), 6, 2))\n",
        "          .withColumn(\"Ano\", F.substring(F.col(\"data\"), 1, 4))\n",
        "\n",
        ")\n",
        "\n",
        "# DIA F.substring(F.col(\"data\"), 9, 2)\n",
        "# MES F.substring(F.col(\"data\"), 6, 2)\n",
        "# ANO F.substring(F.col(\"data\"), 1, 4)\n",
        "df4.select(F.col(\"data\"), F.col(\"Dia\"), F.col(\"Mes\"), F.col(\"Ano\")).show(20)"
      ],
      "metadata": {
        "colab": {
          "base_uri": "https://localhost:8080/"
        },
        "id": "lNGZN0tgOjTZ",
        "outputId": "2857bff3-8d6e-4e4f-d116-93d093e229bb"
      },
      "execution_count": null,
      "outputs": [
        {
          "output_type": "stream",
          "name": "stdout",
          "text": [
            "+----------+---+---+----+\n",
            "|      data|Dia|Mes| Ano|\n",
            "+----------+---+---+----+\n",
            "|2020-01-30| 30| 01|2020|\n",
            "|2020-01-31| 31| 01|2020|\n",
            "|2020-02-01| 01| 02|2020|\n",
            "|2020-02-02| 02| 02|2020|\n",
            "|2020-02-03| 03| 02|2020|\n",
            "|2020-02-04| 04| 02|2020|\n",
            "|2020-02-05| 05| 02|2020|\n",
            "|2020-02-06| 06| 02|2020|\n",
            "|2020-02-07| 07| 02|2020|\n",
            "|2020-02-08| 08| 02|2020|\n",
            "|2020-02-09| 09| 02|2020|\n",
            "|2020-02-10| 10| 02|2020|\n",
            "|2020-02-11| 11| 02|2020|\n",
            "|2020-02-12| 12| 02|2020|\n",
            "|2020-02-13| 13| 02|2020|\n",
            "|2020-02-14| 14| 02|2020|\n",
            "|2020-02-15| 15| 02|2020|\n",
            "|2020-02-16| 16| 02|2020|\n",
            "|2020-02-17| 17| 02|2020|\n",
            "|2020-02-18| 18| 02|2020|\n",
            "+----------+---+---+----+\n",
            "only showing top 20 rows\n",
            "\n"
          ]
        }
      ]
    },
    {
      "cell_type": "code",
      "source": [
        "df5 =( df3.withColumn(\"Dia\", F.substring(F.col(\"data\"), 9, 2).cast(\"integer\"))\n",
        "          .withColumn(\"Mes\", F.substring(F.col(\"data\"), 6, 2).cast(\"integer\"))\n",
        "          .withColumn(\"Ano\", F.substring(F.col(\"data\"), 1, 4).cast(\"integer\"))\n",
        "\n",
        ")\n",
        "\n",
        "df5.printSchema()"
      ],
      "metadata": {
        "colab": {
          "base_uri": "https://localhost:8080/"
        },
        "id": "dInvkMuxQIyH",
        "outputId": "5d78b56f-154c-494b-b9c9-d05693e72b2c"
      },
      "execution_count": null,
      "outputs": [
        {
          "output_type": "stream",
          "name": "stdout",
          "text": [
            "root\n",
            " |-- regiao: string (nullable = true)\n",
            " |-- estado: string (nullable = true)\n",
            " |-- data: string (nullable = true)\n",
            " |-- casosNovos: integer (nullable = true)\n",
            " |-- casosAcumulados: integer (nullable = true)\n",
            " |-- obitosNovos: integer (nullable = true)\n",
            " |-- obitosAcumulados: integer (nullable = true)\n",
            " |-- Status: string (nullable = false)\n",
            " |-- Dia: integer (nullable = true)\n",
            " |-- Mes: integer (nullable = true)\n",
            " |-- Ano: integer (nullable = true)\n",
            "\n"
          ]
        }
      ]
    },
    {
      "cell_type": "code",
      "source": [
        "#FUNÇÕES PARA ORDENAÇÃO DE COLUNAS - ORDEM CRESCENTE OU DECRESCENTE SORT ou ORDERBY\n",
        "\n",
        "#df5.show(10)\n",
        "\n",
        "df5.select(F.col(\"estado\"), F.col('casosNovos'), F.col(\"Dia\"), F.col(\"Mes\"), F.col(\"Ano\")).sort(F.col(\"Dia\").desc(), F.col(\"Mes\")).show(200)\n",
        "df5.select(F.col(\"estado\"), F.col('casosNovos'), F.col(\"Dia\"), F.col(\"Mes\"), F.col(\"Ano\")).orderBy(F.col(\"Mes\").asc(), F.col(\"Dia\")).show(200)"
      ],
      "metadata": {
        "id": "j0LE8opyUQ8d"
      },
      "execution_count": null,
      "outputs": []
    },
    {
      "cell_type": "code",
      "source": [
        "#AGRUPAR OS RESULTADOS DE ACORDO COM UMA COLUNA ESPECÍFICA\n",
        "#FAZER A SOMA DE CASOS NOVOS POR ESTADO\n",
        "\n",
        "df5.groupBy(F.col(\"estado\")).sum(\"casosNovos\").max(\"casosNovos\").show()"
      ],
      "metadata": {
        "colab": {
          "base_uri": "https://localhost:8080/",
          "height": 322
        },
        "id": "_FWHwn1_YTH2",
        "outputId": "c320d1af-f1d5-4bc2-eb89-bdc52edf5c62"
      },
      "execution_count": null,
      "outputs": [
        {
          "output_type": "error",
          "ename": "AttributeError",
          "evalue": "ignored",
          "traceback": [
            "\u001b[0;31m---------------------------------------------------------------------------\u001b[0m",
            "\u001b[0;31mAttributeError\u001b[0m                            Traceback (most recent call last)",
            "\u001b[0;32m<ipython-input-118-0f8f79c07f54>\u001b[0m in \u001b[0;36m<module>\u001b[0;34m()\u001b[0m\n\u001b[1;32m      2\u001b[0m \u001b[0;31m#FAZER A SOMA DE CASOS NOVOS POR ESTADO\u001b[0m\u001b[0;34m\u001b[0m\u001b[0;34m\u001b[0m\u001b[0;34m\u001b[0m\u001b[0m\n\u001b[1;32m      3\u001b[0m \u001b[0;34m\u001b[0m\u001b[0m\n\u001b[0;32m----> 4\u001b[0;31m \u001b[0mdf5\u001b[0m\u001b[0;34m.\u001b[0m\u001b[0mgroupBy\u001b[0m\u001b[0;34m(\u001b[0m\u001b[0mF\u001b[0m\u001b[0;34m.\u001b[0m\u001b[0mcol\u001b[0m\u001b[0;34m(\u001b[0m\u001b[0;34m\"estado\"\u001b[0m\u001b[0;34m)\u001b[0m\u001b[0;34m)\u001b[0m\u001b[0;34m.\u001b[0m\u001b[0msum\u001b[0m\u001b[0;34m(\u001b[0m\u001b[0;34m\"casosNovos\"\u001b[0m\u001b[0;34m)\u001b[0m\u001b[0;34m.\u001b[0m\u001b[0mmax\u001b[0m\u001b[0;34m(\u001b[0m\u001b[0;34m\"casosNovos\"\u001b[0m\u001b[0;34m)\u001b[0m\u001b[0;34m.\u001b[0m\u001b[0mshow\u001b[0m\u001b[0;34m(\u001b[0m\u001b[0;34m)\u001b[0m\u001b[0;34m\u001b[0m\u001b[0;34m\u001b[0m\u001b[0m\n\u001b[0m",
            "\u001b[0;32m/usr/local/lib/python3.7/dist-packages/pyspark/sql/dataframe.py\u001b[0m in \u001b[0;36m__getattr__\u001b[0;34m(self, name)\u001b[0m\n\u001b[1;32m   1658\u001b[0m         \u001b[0;32mif\u001b[0m \u001b[0mname\u001b[0m \u001b[0;32mnot\u001b[0m \u001b[0;32min\u001b[0m \u001b[0mself\u001b[0m\u001b[0;34m.\u001b[0m\u001b[0mcolumns\u001b[0m\u001b[0;34m:\u001b[0m\u001b[0;34m\u001b[0m\u001b[0;34m\u001b[0m\u001b[0m\n\u001b[1;32m   1659\u001b[0m             raise AttributeError(\n\u001b[0;32m-> 1660\u001b[0;31m                 \"'%s' object has no attribute '%s'\" % (self.__class__.__name__, name))\n\u001b[0m\u001b[1;32m   1661\u001b[0m         \u001b[0mjc\u001b[0m \u001b[0;34m=\u001b[0m \u001b[0mself\u001b[0m\u001b[0;34m.\u001b[0m\u001b[0m_jdf\u001b[0m\u001b[0;34m.\u001b[0m\u001b[0mapply\u001b[0m\u001b[0;34m(\u001b[0m\u001b[0mname\u001b[0m\u001b[0;34m)\u001b[0m\u001b[0;34m\u001b[0m\u001b[0;34m\u001b[0m\u001b[0m\n\u001b[1;32m   1662\u001b[0m         \u001b[0;32mreturn\u001b[0m \u001b[0mColumn\u001b[0m\u001b[0;34m(\u001b[0m\u001b[0mjc\u001b[0m\u001b[0;34m)\u001b[0m\u001b[0;34m\u001b[0m\u001b[0;34m\u001b[0m\u001b[0m\n",
            "\u001b[0;31mAttributeError\u001b[0m: 'DataFrame' object has no attribute 'max'"
          ]
        }
      ]
    },
    {
      "cell_type": "code",
      "source": [
        "#df5.show(5)\n",
        "\n",
        "#QUANTIDADE DE ESTADOS POR REGIÃO NO DATAFRAME - COUNT() - countDistinct()\n",
        "#df5.groupBy(F.col(\"regiao\")).F.countDistinct(F.col(\"estado\"))\n",
        "df6 = df5.select(F.col(\"regiao\"), F.col(\"estado\")).distinct().groupBy(\"regiao\")\n",
        "\n",
        "df6.count().show()"
      ],
      "metadata": {
        "colab": {
          "base_uri": "https://localhost:8080/"
        },
        "id": "i5eTmsPTZu1u",
        "outputId": "8b3cbc92-8c59-4380-f6dd-45db336e8a56"
      },
      "execution_count": null,
      "outputs": [
        {
          "output_type": "stream",
          "name": "stdout",
          "text": [
            "+------------+-----+\n",
            "|      regiao|count|\n",
            "+------------+-----+\n",
            "|    Nordeste|    9|\n",
            "|         Sul|    3|\n",
            "|     Sudeste|    4|\n",
            "|Centro-Oeste|    4|\n",
            "|       Norte|    7|\n",
            "+------------+-----+\n",
            "\n"
          ]
        }
      ]
    },
    {
      "cell_type": "code",
      "source": [
        "df2 = df.select(F.col(\"regiao\")).distinct().groupBy(\"regiao\").count()\n",
        "df2.show(20)"
      ],
      "metadata": {
        "colab": {
          "base_uri": "https://localhost:8080/"
        },
        "id": "HfxYlvBpwf84",
        "outputId": "70bd1028-977f-4ea0-a23d-c3aa47571a8a"
      },
      "execution_count": null,
      "outputs": [
        {
          "output_type": "stream",
          "name": "stdout",
          "text": [
            "+------------+-----+\n",
            "|      regiao|count|\n",
            "+------------+-----+\n",
            "|    Nordeste|  783|\n",
            "|         Sul|  261|\n",
            "|     Sudeste|  348|\n",
            "|Centro-Oeste|  348|\n",
            "|       Norte|  609|\n",
            "+------------+-----+\n",
            "\n"
          ]
        }
      ]
    },
    {
      "cell_type": "code",
      "source": [
        "#FUNÇÃO DE AGREGAÇÃO - agg\n",
        "df7 = ( df5.groupBy(F.col(\"estado\"))\n",
        "           .agg(F.sum(\"casosAcumulados\"),\n",
        "                F.max(\"casosNovos\"),\n",
        "                F.min(\"casosNovos\"),\n",
        "                F.avg(\"casosNovos\")).show() \n",
        ")\n",
        "\n",
        "#df5.printSchema()"
      ],
      "metadata": {
        "colab": {
          "base_uri": "https://localhost:8080/"
        },
        "id": "ZvI5UpuRxLm7",
        "outputId": "a10ba6e0-0e06-4a69-fed9-da8bfbefb993"
      },
      "execution_count": null,
      "outputs": [
        {
          "output_type": "stream",
          "name": "stdout",
          "text": [
            "+------+--------------------+---------------+---------------+------------------+\n",
            "|estado|sum(casosAcumulados)|max(casosNovos)|min(casosNovos)|   avg(casosNovos)|\n",
            "+------+--------------------+---------------+---------------+------------------+\n",
            "|    SC|               19811|            192|              0| 13.89655172413793|\n",
            "|    RO|                2314|             40|              0|3.7701149425287355|\n",
            "|    PI|                2420|             41|              0| 3.413793103448276|\n",
            "|    AM|               36838|            441|              0|  41.7816091954023|\n",
            "|    RR|                3407|             41|              0|3.9655172413793105|\n",
            "|    GO|                7121|             51|              0| 5.816091954022989|\n",
            "|    TO|                 741|              7|              0|0.5747126436781609|\n",
            "|    MT|                3386|             38|              0| 2.839080459770115|\n",
            "|    SP|              266231|           2178|              0|229.93103448275863|\n",
            "|    PB|                3840|             61|              0| 5.137931034482759|\n",
            "|    ES|               16305|            214|              0|18.333333333333332|\n",
            "|    RS|               19063|             71|              0|12.597701149425287|\n",
            "|    MS|                3342|             27|              0|2.4942528735632186|\n",
            "|    AL|                3092|             89|              0| 5.758620689655173|\n",
            "|    MG|               23266|            111|              0|17.022988505747126|\n",
            "|    PA|               12362|            217|              0|18.149425287356323|\n",
            "|    BA|               23703|            173|              0|23.919540229885058|\n",
            "|    SE|                1687|             25|              0|1.7586206896551724|\n",
            "|    PE|               38596|            508|              0|51.804597701149426|\n",
            "|    CE|               58690|            688|              0|62.310344827586206|\n",
            "+------+--------------------+---------------+---------------+------------------+\n",
            "only showing top 20 rows\n",
            "\n"
          ]
        }
      ]
    }
  ]
}