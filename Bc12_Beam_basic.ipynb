{
  "nbformat": 4,
  "nbformat_minor": 0,
  "metadata": {
    "colab": {
      "name": "Bc12_Beam_basic.ipynb",
      "provenance": [],
      "include_colab_link": true
    },
    "kernelspec": {
      "name": "python3",
      "display_name": "Python 3"
    },
    "language_info": {
      "name": "python"
    }
  },
  "cells": [
    {
      "cell_type": "markdown",
      "metadata": {
        "id": "view-in-github",
        "colab_type": "text"
      },
      "source": [
        "<a href=\"https://colab.research.google.com/github/eumoas/Data-Engineer/blob/main/Bc12_Beam_basic.ipynb\" target=\"_parent\"><img src=\"https://colab.research.google.com/assets/colab-badge.svg\" alt=\"Open In Colab\"/></a>"
      ]
    },
    {
      "cell_type": "markdown",
      "source": [
        "##Instalação Bibliotecas"
      ],
      "metadata": {
        "id": "zmFd6fqrGceU"
      }
    },
    {
      "cell_type": "code",
      "source": [
        "#pip install apache-beam[gcp]"
      ],
      "metadata": {
        "id": "6bpMG7d20IfM"
      },
      "execution_count": null,
      "outputs": []
    },
    {
      "cell_type": "code",
      "execution_count": null,
      "metadata": {
        "id": "C_vKoY_pF3si"
      },
      "outputs": [],
      "source": [
        "pip install apache_beam[interactive]"
      ]
    },
    {
      "cell_type": "markdown",
      "source": [
        "#Import Bibli."
      ],
      "metadata": {
        "id": "Oy87nMcGHd1Z"
      }
    },
    {
      "cell_type": "code",
      "source": [
        "import apache_beam as beam"
      ],
      "metadata": {
        "id": "EmpMSC-nHiAg"
      },
      "execution_count": null,
      "outputs": []
    },
    {
      "cell_type": "markdown",
      "source": [
        "## Abrir arquivos e gravar"
      ],
      "metadata": {
        "id": "QY9Vp8-GHwZC"
      }
    },
    {
      "cell_type": "code",
      "source": [
        "import apache_beam as beam\n",
        "\n",
        "p1 = beam.Pipeline()\n",
        "\n",
        "voos = (\n",
        "    p1\n",
        "    |'Abrir o arquivo' >> beam.io.ReadFromText('/content/voos_sample (1).csv', skip_header_lines= 0)\n",
        "    |'Separar por virgula' >> beam.Map(lambda record: record.split(','))\n",
        "    |'Exibir resultado' >> beam.Map(print)\n",
        "    #|'Gravar o resultado' >> beam.io.WriteToText('saida.txt')\n",
        "    \n",
        "\n",
        ")\n",
        "p1.run()"
      ],
      "metadata": {
        "id": "i4QOSJTUHz5q",
        "colab": {
          "base_uri": "https://localhost:8080/"
        },
        "outputId": "7c2f37c7-90f5-4176-a69a-b31ae09468f8"
      },
      "execution_count": null,
      "outputs": [
        {
          "output_type": "stream",
          "name": "stderr",
          "text": [
            "WARNING:root:Make sure that locally built Python SDK docker image has Python 3.7 interpreter.\n"
          ]
        },
        {
          "output_type": "stream",
          "name": "stdout",
          "text": [
            "['2019-04-27', '19805', '1', 'JFK', 'LAX', '854', '-6', '1217', '2', '355', '2475', '1']\n",
            "['2019-04-27', '19805', '2', 'LAX', 'JFK', '944', '14', '1736', '-29', '269', '2475', '2']\n",
            "['2019-04-27', '19805', '3', 'JFK', 'LAX', '1224', '-6', '1614', '39', '371', '2475', '3']\n",
            "['2019-04-27', '19805', '4', 'LAX', 'JFK', '1240', '25', '2028', '-27', '264', '2475', '4']\n",
            "['2019-04-27', '19805', '5', 'DFW', 'HNL', '1300', '-5', '1650', '15', '510', '3784', '5']\n",
            "['2019-04-27', '19805', '6', 'OGG', 'DFW', '1901', '126', '640', '95', '385', '3711', '6']\n",
            "['2019-04-27', '19805', '7', 'DFW', 'OGG', '1410', '125', '1743', '138', '497', '3711', '7']\n",
            "['2019-04-27', '19805', '8', 'HNL', 'DFW', '1659', '4', '458', '-22', '398', '3784', '8']\n",
            "['2019-04-27', '19805', '9', 'JFK', 'LAX', '648', '-7', '1029', '19', '365', '2475', '9']\n",
            "['2019-04-27', '19805', '10', 'LAX', 'JFK', '2156', '21', '556', '1', '265', '2475', '10']\n",
            "['2019-04-27', '19805', '12', 'LAX', 'JFK', '1113', '-2', '1910', '-40', '267', '2475', '11']\n",
            "['2019-04-27', '19805', '14', 'OGG', 'LAX', '2235', '5', '618', '-17', '270', '2486', '12']\n",
            "['2019-04-27', '19805', '15', 'BOS', 'ORD', '611', '-9', '756', '-19', '129', '867', '13']\n",
            "['2019-04-27', '19805', '16', 'SFO', 'JFK', '1312', '17', '2107', '-33', '268', '2586', '14']\n",
            "['2019-04-27', '19805', '17', 'ATL', 'MIA', '630', '-5', '813', '-17', '83', '594', '15']\n",
            "['2019-04-27', '19805', '18', 'SFO', 'JFK', '22', '112', '833', '88', '288', '2586', '16']\n",
            "['2019-04-27', '19805', '19', 'JFK', 'LAX', '1024', '-6', '1353', '18', '359', '2475', '17']\n",
            "['2019-04-27', '19805', '20', 'SFO', 'JFK', '1715', '135', '130', '120', '277', '2586', '18']\n",
            "['2019-04-27', '19805', '21', 'JFK', 'LAX', '1906', '-4', '2246', '16', '359', '2475', '19']\n",
            "['2019-04-27', '19805', '22', 'LAX', 'JFK', '1458', '-2', '2336', '11', '272', '2475', '20']\n"
          ]
        },
        {
          "output_type": "execute_result",
          "data": {
            "text/plain": [
              "<apache_beam.runners.portability.fn_api_runner.fn_runner.RunnerResult at 0x7f4bec1eef90>"
            ]
          },
          "metadata": {},
          "execution_count": 18
        }
      ]
    },
    {
      "cell_type": "code",
      "source": [
        "import apache_beam as beam\n",
        "\n",
        "p1 = beam.Pipeline()\n",
        "\n",
        "voos = (\n",
        "    p1\n",
        "    |'Abrir o arquivo' >> beam.io.ReadFromText('/content/texto.txt', skip_header_lines= 0)\n",
        "    |'Separador' >> beam.FlatMap(lambda record: record.split(' '))\n",
        "    |'Exibir resultado' >> beam.FlatMap(print)\n",
        "    #|'Gravar o resultado' >> beam.io.WriteToText('saida.txt')\n",
        "    \n",
        "\n",
        ")\n",
        "p1.run()"
      ],
      "metadata": {
        "id": "gknqh5NxDlva"
      },
      "execution_count": null,
      "outputs": []
    },
    {
      "cell_type": "markdown",
      "source": [
        "##Filtros"
      ],
      "metadata": {
        "id": "fl9vdB_7ZGi9"
      }
    },
    {
      "cell_type": "code",
      "source": [
        "#Filtro com Map\n",
        "import apache_beam as beam\n",
        "\n",
        "p1 = beam.Pipeline()\n",
        "\n",
        "voos = (\n",
        "    p1\n",
        "    |'Abrir o arquivo' >> beam.io.ReadFromText('/content/voos_sample (1).csv', skip_header_lines= 0)\n",
        "    |'Separar por virgula' >> beam.Map(lambda record: record.split(','))\n",
        "    |'Filtrar Aero São francisco' >> beam.Filter(lambda record: record[3] == 'SFO')\n",
        "    |'Exibir resultado' >> beam.Map(print)\n",
        "    #|'Gravar o resultado' >> beam.io.WriteToText('saida.txt')\n",
        "    \n",
        "\n",
        ")\n",
        "p1.run()"
      ],
      "metadata": {
        "colab": {
          "base_uri": "https://localhost:8080/"
        },
        "id": "__ZE2XzdZQDD",
        "outputId": "f24982cb-a3fc-47ea-a244-ce5d2d51605e"
      },
      "execution_count": null,
      "outputs": [
        {
          "output_type": "stream",
          "name": "stderr",
          "text": [
            "WARNING:root:Make sure that locally built Python SDK docker image has Python 3.7 interpreter.\n"
          ]
        },
        {
          "output_type": "stream",
          "name": "stdout",
          "text": [
            "['2019-04-27', '19805', '16', 'SFO', 'JFK', '1312', '17', '2107', '-33', '268', '2586', '14']\n",
            "['2019-04-27', '19805', '18', 'SFO', 'JFK', '22', '112', '833', '88', '288', '2586', '16']\n",
            "['2019-04-27', '19805', '20', 'SFO', 'JFK', '1715', '135', '130', '120', '277', '2586', '18']\n"
          ]
        },
        {
          "output_type": "execute_result",
          "data": {
            "text/plain": [
              "<apache_beam.runners.portability.fn_api_runner.fn_runner.RunnerResult at 0x7f4be78d5790>"
            ]
          },
          "metadata": {},
          "execution_count": 25
        }
      ]
    },
    {
      "cell_type": "code",
      "source": [
        "#Filtro com FlatMap\n",
        "import apache_beam as beam\n",
        "\n",
        "buscapal = ['mas','Quero','amor']\n",
        "\n",
        "def procurarPalavras(i):\n",
        "  if i in buscapal:\n",
        "    return True \n",
        "\n",
        "p1 = beam.Pipeline()\n",
        "\n",
        "voos = (\n",
        "    p1\n",
        "    |'Abrir o arquivo' >> beam.io.ReadFromText('/content/texto.txt', skip_header_lines= 0)\n",
        "    |'Separador' >> beam.FlatMap(lambda record: record.split(' '))\n",
        "    |'Filtro Palavras' >> beam.Filter(procurarPalavras)\n",
        "    |'Exibir resultado' >> beam.FlatMap(print)\n",
        "    #|'Gravar o resultado' >> beam.io.WriteToText('saida.txt')\n",
        "    \n",
        "\n",
        ")\n",
        "p1.run()"
      ],
      "metadata": {
        "id": "0vWGyUsm5UX9"
      },
      "execution_count": null,
      "outputs": []
    },
    {
      "cell_type": "markdown",
      "source": [
        "##Combinações "
      ],
      "metadata": {
        "id": "-S_3X0DefL8R"
      }
    },
    {
      "cell_type": "code",
      "source": [
        "import apache_beam as beam\n",
        "\n",
        "p1 = beam.Pipeline()\n",
        "\n",
        "voos = (\n",
        "    p1\n",
        "    |'Abrir o arquivo' >> beam.io.ReadFromText('/content/voos_sample (1).csv', skip_header_lines= 0)\n",
        "    |'Separar por virgula' >> beam.Map(lambda record: record.split(','))\n",
        "    |'Filtrar voos atrasados' >> beam.Filter(lambda record: int(record[6])>0)\n",
        "    |'Agregar as colunas' >> beam.Map(lambda record: (record[3],int(record[6])))\n",
        "    |'Construir novo resultado' >> beam.CombinePerKey(sum)\n",
        "    |'Exibir resultado' >> beam.Map(print)\n",
        "    #|'Gravar o resultado' >> beam.io.WriteToText('saida.txt')\n",
        "    \n",
        "\n",
        ")\n",
        "p1.run()"
      ],
      "metadata": {
        "colab": {
          "base_uri": "https://localhost:8080/"
        },
        "id": "QlClS2uifPDC",
        "outputId": "0a5f0a2e-a4e2-45f1-b1ae-e2c5b6e12dca"
      },
      "execution_count": null,
      "outputs": [
        {
          "output_type": "stream",
          "name": "stderr",
          "text": [
            "WARNING:root:Make sure that locally built Python SDK docker image has Python 3.7 interpreter.\n"
          ]
        },
        {
          "output_type": "stream",
          "name": "stdout",
          "text": [
            "('LAX', 60)\n",
            "('OGG', 131)\n",
            "('DFW', 125)\n",
            "('HNL', 4)\n",
            "('SFO', 264)\n"
          ]
        },
        {
          "output_type": "execute_result",
          "data": {
            "text/plain": [
              "<apache_beam.runners.portability.fn_api_runner.fn_runner.RunnerResult at 0x7f4be8c5e190>"
            ]
          },
          "metadata": {},
          "execution_count": 32
        }
      ]
    },
    {
      "cell_type": "code",
      "source": [
        "import apache_beam as beam\n",
        "\n",
        "p1 = beam.Pipeline()\n",
        "\n",
        "voos = (\n",
        "    p1\n",
        "    |'Abrir o arquivo' >> beam.io.ReadFromText('/content/voos_sample (1).csv', skip_header_lines= 0)\n",
        "    |'Separar por virgula' >> beam.Map(lambda record: record.split(','))\n",
        "    |'Filtrar voos atrasados' >> beam.Filter(lambda record: int(record[6])>0)\n",
        "    |'Agregar as colunas' >> beam.Map(lambda record: (record[3],int(record[6])))\n",
        "    |'Quantida de ocorrencias' >> beam.combiners.Count.PerKey()\n",
        "    |'Exibir resultado' >> beam.Map(print)\n",
        "    #|'Gravar o resultado' >> beam.io.WriteToText('saida.txt')\n",
        "    \n",
        "\n",
        ")\n",
        "p1.run()"
      ],
      "metadata": {
        "colab": {
          "base_uri": "https://localhost:8080/"
        },
        "id": "QFy4HiWUqjlo",
        "outputId": "14f8ad05-d98e-4c09-da96-3fc9b466c2c0"
      },
      "execution_count": null,
      "outputs": [
        {
          "output_type": "stream",
          "name": "stderr",
          "text": [
            "WARNING:root:Make sure that locally built Python SDK docker image has Python 3.7 interpreter.\n"
          ]
        },
        {
          "output_type": "stream",
          "name": "stdout",
          "text": [
            "('LAX', 3)\n",
            "('OGG', 2)\n",
            "('DFW', 1)\n",
            "('HNL', 1)\n",
            "('SFO', 3)\n"
          ]
        },
        {
          "output_type": "execute_result",
          "data": {
            "text/plain": [
              "<apache_beam.runners.portability.fn_api_runner.fn_runner.RunnerResult at 0x7f4be87b9fd0>"
            ]
          },
          "metadata": {},
          "execution_count": 33
        }
      ]
    },
    {
      "cell_type": "markdown",
      "source": [
        "##Co Group key\n",
        "Agregação criando novas tabelas"
      ],
      "metadata": {
        "id": "w36PHvUWuCpz"
      }
    },
    {
      "cell_type": "code",
      "source": [
        "import apache_beam as beam\n",
        "\n",
        "p1 = beam.Pipeline()\n",
        "\n",
        "Qtd_tempo = (\n",
        "    p1\n",
        "    |'Abrir o arquivo' >> beam.io.ReadFromText('/content/voos_sample (1).csv', skip_header_lines= 0)\n",
        "    |'Separar por virgula' >> beam.Map(lambda record: record.split(','))\n",
        "    |'Filtrar voos atrasados' >> beam.Filter(lambda record: int(record[6])>0)\n",
        "    |'Agregar as colunas' >> beam.Map(lambda record: (record[3],int(record[6])))\n",
        "    |'Construir novo resultado' >> beam.CombinePerKey(sum)\n",
        "    #|'Exibir resultado' >> beam.Map(print)\n",
        "    #|'Gravar o resultado' >> beam.io.WriteToText('saida.txt')\n",
        "    \n",
        ")\n",
        "Qte_freq = (\n",
        "    p1\n",
        "    |'1Abrir o arquivo' >> beam.io.ReadFromText('/content/voos_sample (1).csv', skip_header_lines= 0)\n",
        "    |'1Separar por virgula' >> beam.Map(lambda record: record.split(','))\n",
        "    |'1Filtrar voos atrasados' >> beam.Filter(lambda record: int(record[6])>0)\n",
        "    |'1Agregar as colunas' >> beam.Map(lambda record: (record[3],int(record[6])))\n",
        "    |'1Quantidade de ocorrencias' >> beam.combiners.Count.PerKey()\n",
        "    #|'Exibir resultado' >> beam.Map(print)\n",
        "    #|'Gravar o resultado' >> beam.io.WriteToText('saida.txt')\n",
        "    \n",
        ")\n",
        "\n",
        "tabela = (\n",
        "    {'Quantidade_atra':Qte_freq,'Tempo_atra':Qtd_tempo}\n",
        "    |'Agrupando as pernas' >> beam.CoGroupByKey()\n",
        "    |'Resultado' >> beam.Map(print)\n",
        "    #|'Saida Definitiva' >> beam.io.WriteToText('saida_table.txt')\n",
        "    \n",
        ")\n",
        "p1.run()\n"
      ],
      "metadata": {
        "colab": {
          "base_uri": "https://localhost:8080/"
        },
        "id": "cUyL6yy_uU2v",
        "outputId": "51479e78-ac58-4c28-a736-8027f5a8fb16"
      },
      "execution_count": null,
      "outputs": [
        {
          "output_type": "stream",
          "name": "stderr",
          "text": [
            "WARNING:root:Make sure that locally built Python SDK docker image has Python 3.7 interpreter.\n"
          ]
        },
        {
          "output_type": "stream",
          "name": "stdout",
          "text": [
            "('LAX', {'Quantidade_atra': [3], 'Tempo_atra': [60]})\n",
            "('OGG', {'Quantidade_atra': [2], 'Tempo_atra': [131]})\n",
            "('DFW', {'Quantidade_atra': [1], 'Tempo_atra': [125]})\n",
            "('HNL', {'Quantidade_atra': [1], 'Tempo_atra': [4]})\n",
            "('SFO', {'Quantidade_atra': [3], 'Tempo_atra': [264]})\n"
          ]
        },
        {
          "output_type": "execute_result",
          "data": {
            "text/plain": [
              "<apache_beam.runners.portability.fn_api_runner.fn_runner.RunnerResult at 0x7f823177d0d0>"
            ]
          },
          "metadata": {},
          "execution_count": 3
        }
      ]
    },
    {
      "cell_type": "markdown",
      "source": [
        "##GCP"
      ],
      "metadata": {
        "id": "C1xMRAe_zlqX"
      }
    },
    {
      "cell_type": "code",
      "source": [
        "import apache_beam as beam\n",
        "import os\n",
        "\n",
        "serviceAccount = r'/content/etl-bc12-57fc664f5889.json'\n",
        "os.environ[\"GOOGLE_APPLICATION_CREDENTIALS\"] = serviceAccount\n",
        "\n",
        "p1 = beam.Pipeline()\n",
        "\n",
        "Qtd_tempo = (\n",
        "    p1\n",
        "    |'Abrir o arquivo' >> beam.io.ReadFromText('/content/voos_sample (1).csv', skip_header_lines= 0)\n",
        "    |'Separar por virgula' >> beam.Map(lambda record: record.split(','))\n",
        "    |'Filtrar voos atrasados' >> beam.Filter(lambda record: int(record[6])>0)\n",
        "    |'Agregar as colunas' >> beam.Map(lambda record: (record[3],int(record[6])))\n",
        "    |'Construir novo resultado' >> beam.CombinePerKey(sum)\n",
        "    #|'Exibir resultado' >> beam.Map(print)\n",
        "    #|'Gravar o resultado' >> beam.io.WriteToText('saida.txt')\n",
        "    \n",
        ")\n",
        "Qte_freq = (\n",
        "    p1\n",
        "    |'1Abrir o arquivo' >> beam.io.ReadFromText('/content/voos_sample (1).csv', skip_header_lines= 0)\n",
        "    |'1Separar por virgula' >> beam.Map(lambda record: record.split(','))\n",
        "    |'1Filtrar voos atrasados' >> beam.Filter(lambda record: int(record[6])>0)\n",
        "    |'1Agregar as colunas' >> beam.Map(lambda record: (record[3],int(record[6])))\n",
        "    |'1Quantidade de ocorrencias' >> beam.combiners.Count.PerKey()\n",
        "    #|'Exibir resultado' >> beam.Map(print)\n",
        "    #|'Gravar o resultado' >> beam.io.WriteToText('saida.txt')\n",
        "    \n",
        ")\n",
        "\n",
        "tabela = (\n",
        "    {'Quantidade_atra':Qte_freq,'Tempo_atra':Qtd_tempo}\n",
        "    |'Agrupando as pernas' >> beam.CoGroupByKey()\n",
        "    #|'Resultado' >> beam.Map(print)\n",
        "    |'Saida Definitiva' >> beam.io.WriteToText(r'gs://dados_brutos_soulcode/saidaflow/teste.csv')\n",
        "    \n",
        ")\n",
        "p1.run()"
      ],
      "metadata": {
        "id": "2ikCq10qzfNr"
      },
      "execution_count": null,
      "outputs": []
    },
    {
      "cell_type": "code",
      "source": [
        "#Criar modelo do DataFlow\n",
        "import apache_beam as beam\n",
        "import os\n",
        "from apache_beam.options.pipeline_options import PipelineOptions\n",
        "\n",
        "pipeline_options = {\n",
        "    'project': 'etl-bc12',\n",
        "    'runner': 'DataflowRunner',\n",
        "    'region': 'southamerica-east1',\n",
        "    'staging_location': 'gs://dados_brutos_soulcode/stage',\n",
        "    'temp_location': 'gs://dados_brutos_soulcode/stage',\n",
        "    'template_location': 'gs://dados_brutos_soulcode/model/modelo_batch_voos'\n",
        "}\n",
        "serviceAccount = r'/content/etl-bc12-57fc664f5889.json'\n",
        "os.environ[\"GOOGLE_APPLICATION_CREDENTIALS\"] = serviceAccount\n",
        "\n",
        "pipeline_options = PipelineOptions.from_dictionary(pipeline_options)\n",
        "\n",
        "\n",
        "p1 = beam.Pipeline(options=pipeline_options)\n",
        "\n",
        "Qtd_tempo = (\n",
        "    p1\n",
        "    |'Abrir o arquivo' >> beam.io.ReadFromText('gs://dados_brutos_soulcode/voos_sample (1).csv', skip_header_lines= 0)\n",
        "    |'Separar por virgula' >> beam.Map(lambda record: record.split(','))\n",
        "    |'Filtrar voos atrasados' >> beam.Filter(lambda record: int(record[6])>0)\n",
        "    |'Agregar as colunas' >> beam.Map(lambda record: (record[3],int(record[6])))\n",
        "    |'Construir novo resultado' >> beam.CombinePerKey(sum)\n",
        "    #|'Exibir resultado' >> beam.Map(print)\n",
        "    #|'Gravar o resultado' >> beam.io.WriteToText('saida.txt')\n",
        "    \n",
        ")\n",
        "Qte_freq = (\n",
        "    p1\n",
        "    |'1Abrir o arquivo' >> beam.io.ReadFromText('gs://dados_brutos_soulcode/voos_sample (1).csv', skip_header_lines= 0)\n",
        "    |'1Separar por virgula' >> beam.Map(lambda record: record.split(','))\n",
        "    |'1Filtrar voos atrasados' >> beam.Filter(lambda record: int(record[6])>0)\n",
        "    |'1Agregar as colunas' >> beam.Map(lambda record: (record[3],int(record[6])))\n",
        "    |'1Quantidade de ocorrencias' >> beam.combiners.Count.PerKey()\n",
        "    #|'Exibir resultado' >> beam.Map(print)\n",
        "    #|'Gravar o resultado' >> beam.io.WriteToText('saida.txt')\n",
        "    \n",
        ")\n",
        "\n",
        "tabela = (\n",
        "    {'Quantidade_atra':Qte_freq,'Tempo_atra':Qtd_tempo}\n",
        "    |'Agrupando as pernas' >> beam.CoGroupByKey()\n",
        "    #|'Resultado' >> beam.Map(print)\n",
        "    |'Saida Definitiva' >> beam.io.WriteToText(r'gs://dados_brutos_soulcode/saidaflow/teste.csv')\n",
        "    \n",
        ")\n",
        "p1.run()"
      ],
      "metadata": {
        "colab": {
          "base_uri": "https://localhost:8080/",
          "height": 156
        },
        "id": "ggg_HS-C4zav",
        "outputId": "d46f6498-fcec-42ce-91a3-4786fa5a7d21"
      },
      "execution_count": null,
      "outputs": [
        {
          "output_type": "display_data",
          "data": {
            "text/plain": [
              "<IPython.core.display.HTML object>"
            ],
            "text/html": [
              "\n",
              "  <style>\n",
              "    div.alert {\n",
              "      white-space: pre-line;\n",
              "    }\n",
              "  </style>\n"
            ]
          },
          "metadata": {}
        },
        {
          "output_type": "display_data",
          "data": {
            "text/plain": [
              "<IPython.core.display.HTML object>"
            ],
            "text/html": [
              "\n",
              "            <link rel=\"stylesheet\" href=\"https://stackpath.bootstrapcdn.com/bootstrap/4.4.1/css/bootstrap.min.css\" integrity=\"sha384-Vkoo8x4CGsO3+Hhxv8T/Q5PaXtkKtu6ug5TOeNV6gBiFeWPGFN9MuhOf23Q9Ifjh\" crossorigin=\"anonymous\">\n",
              "            <div class=\"alert alert-info\">No cache_root detected. Defaulting to staging_location gs://dados_brutos_soulcode/stage for cache location.</div>"
            ]
          },
          "metadata": {}
        },
        {
          "output_type": "stream",
          "name": "stderr",
          "text": [
            "WARNING:root:Make sure that locally built Python SDK docker image has Python 3.7 interpreter.\n"
          ]
        },
        {
          "output_type": "execute_result",
          "data": {
            "text/plain": [
              "<DataflowPipelineResult None at 0x7f822bc629d0>"
            ]
          },
          "metadata": {},
          "execution_count": 5
        }
      ]
    },
    {
      "cell_type": "markdown",
      "source": [
        "##Pub/SUB"
      ],
      "metadata": {
        "id": "D1XeeN6KQh-m"
      }
    },
    {
      "cell_type": "code",
      "source": [
        "pip install google-cloud-pubsub"
      ],
      "metadata": {
        "id": "kW5tDDhCQqMO"
      },
      "execution_count": null,
      "outputs": []
    },
    {
      "cell_type": "code",
      "source": [
        "#Producer\n",
        "\n",
        "import csv\n",
        "import time\n",
        "from google.cloud import pubsub_v1\n",
        "import os\n",
        "\n",
        "serviceAccount = r'/content/etl-bc12-516a9787a1eb.json'\n",
        "os.environ[\"GOOGLE_APPLICATION_CREDENTIALS\"] = serviceAccount\n",
        "\n",
        "topico = 'projects/etl-bc12/topics/topicopub1'\n",
        "publisher = pubsub_v1.PublisherClient()\n",
        "\n",
        "entrada = r'/content/voos_sample (1) (1).csv'\n",
        "\n",
        "with open(entrada, 'rb') as file:\n",
        "  for row in file:\n",
        "    print('Messagem enviada')\n",
        "    publisher.publish(topico,row)\n",
        "    time.sleep(1)\n"
      ],
      "metadata": {
        "id": "0fXfbeGFQoIX"
      },
      "execution_count": null,
      "outputs": []
    },
    {
      "cell_type": "code",
      "source": [
        "#Consumer\n",
        "import csv\n",
        "import time\n",
        "from google.cloud import pubsub_v1\n",
        "import os\n",
        "\n",
        "serviceAccount = r'/content/etl-bc12-516a9787a1eb.json'\n",
        "os.environ[\"GOOGLE_APPLICATION_CREDENTIALS\"] = serviceAccount\n",
        "\n",
        "subscription = 'projects/etl-bc12/subscriptions/assinatopic2'\n",
        "subscriber = pubsub_v1.SubscriberClient()\n",
        "\n",
        "def visualizar_msg(mensagem):\n",
        "  print(('Mensagem:{}'.format(mensagem)))\n",
        "  mensagem.ack()\n",
        "\n",
        "subscriber.subscribe(subscription,callback=visualizar_msg)\n",
        "\n",
        "while True:\n",
        "  time.sleep(4)"
      ],
      "metadata": {
        "id": "JKvGbgXtVtVB",
        "colab": {
          "base_uri": "https://localhost:8080/",
          "height": 1000
        },
        "outputId": "8add1c2f-24bb-4b0b-ee45-077a3b3986df"
      },
      "execution_count": null,
      "outputs": [
        {
          "output_type": "stream",
          "name": "stdout",
          "text": [
            "Mensagem:Message {\n",
            "  data: b\"('DFW', {'Quantidade_atra': [1], 'Tempo_atra': [12...\"\n",
            "  ordering_key: ''\n",
            "  attributes: {}\n",
            "}\n",
            "Mensagem:Message {\n",
            "  data: b\"('OGG', {'Quantidade_atra': [1], 'Tempo_atra': [12...\"\n",
            "  ordering_key: ''\n",
            "  attributes: {}\n",
            "}\n",
            "Mensagem:Message {\n",
            "  data: b\"('OGG', {'Quantidade_atra': [1], 'Tempo_atra': [12...\"\n",
            "  ordering_key: ''\n",
            "  attributes: {}\n",
            "}\n",
            "Mensagem:Message {\n",
            "  data: b\"('OGG', {'Quantidade_atra': [1], 'Tempo_atra': [5]...\"\n",
            "  ordering_key: ''\n",
            "  attributes: {}\n",
            "}\n",
            "Mensagem:Message {\n",
            "  data: b\"('OGG', {'Quantidade_atra': [1], 'Tempo_atra': [12...\"\n",
            "  ordering_key: ''\n",
            "  attributes: {}\n",
            "}\n",
            "Mensagem:Message {\n",
            "  data: b\"('DFW', {'Quantidade_atra': [1], 'Tempo_atra': [12...\"\n",
            "  ordering_key: ''\n",
            "  attributes: {}\n",
            "}\n",
            "Mensagem:Message {\n",
            "  data: b\"('DFW', {'Quantidade_atra': [1], 'Tempo_atra': [12...\"\n",
            "  ordering_key: ''\n",
            "  attributes: {}\n",
            "}\n",
            "Mensagem:Message {\n",
            "  data: b\"('OGG', {'Quantidade_atra': [2], 'Tempo_atra': [13...\"\n",
            "  ordering_key: ''\n",
            "  attributes: {}\n",
            "}\n",
            "Mensagem:Message {\n",
            "  data: b\"('OGG', {'Quantidade_atra': [1], 'Tempo_atra': [5]...\"\n",
            "  ordering_key: ''\n",
            "  attributes: {}\n",
            "}\n",
            "Mensagem:Message {\n",
            "  data: b\"('OGG', {'Quantidade_atra': [1], 'Tempo_atra': [12...\"\n",
            "  ordering_key: ''\n",
            "  attributes: {}\n",
            "}\n",
            "Mensagem:Message {\n",
            "  data: b\"('DFW', {'Quantidade_atra': [1], 'Tempo_atra': [12...\"\n",
            "  ordering_key: ''\n",
            "  attributes: {}\n",
            "}\n",
            "Mensagem:Message {\n",
            "  data: b\"('LAX', {'Quantidade_atra': [1], 'Tempo_atra': [14...\"\n",
            "  ordering_key: ''\n",
            "  attributes: {}\n",
            "}Mensagem:Message {\n",
            "  data: b\"('LAX', {'Quantidade_atra': [2], 'Tempo_atra': [39...\"\n",
            "  ordering_key: ''\n",
            "  attributes: {}\n",
            "}\n",
            "Mensagem:Message {\n",
            "  data: b\"('HNL', {'Quantidade_atra': [1], 'Tempo_atra': [4]...\"\n",
            "  ordering_key: ''\n",
            "  attributes: {}\n",
            "}\n",
            "Mensagem:Message {\n",
            "  data: b\"('LAX', {'Quantidade_atra': [1], 'Tempo_atra': [21...\"\n",
            "  ordering_key: ''\n",
            "  attributes: {}\n",
            "}\n",
            "\n",
            "Mensagem:Message {\n",
            "  data: b\"('SFO', {'Quantidade_atra': [1], 'Tempo_atra': [17...\"\n",
            "  ordering_key: ''\n",
            "  attributes: {}\n",
            "}\n",
            "Mensagem:Message {\n",
            "  data: b\"('LAX', {'Quantidade_atra': [3], 'Tempo_atra': [60...\"\n",
            "  ordering_key: ''\n",
            "  attributes: {}\n",
            "}\n",
            "Mensagem:Message {\n",
            "  data: b\"('HNL', {'Quantidade_atra': [1], 'Tempo_atra': [4]...\"\n",
            "  ordering_key: ''\n",
            "  attributes: {}\n",
            "}\n",
            "Mensagem:Message {\n",
            "  data: b\"('LAX', {'Quantidade_atra': [2], 'Tempo_atra': [39...\"\n",
            "  ordering_key: ''\n",
            "  attributes: {}\n",
            "}\n",
            "Mensagem:Message {\n",
            "  data: b\"('LAX', {'Quantidade_atra': [1], 'Tempo_atra': [21...\"\n",
            "  ordering_key: ''\n",
            "  attributes: {}\n",
            "}\n",
            "Mensagem:Message {\n",
            "  data: b\"('LAX', {'Quantidade_atra': [1], 'Tempo_atra': [21...\"\n",
            "  ordering_key: ''\n",
            "  attributes: {}\n",
            "}\n",
            "Mensagem:Message {\n",
            "  data: b\"('SFO', {'Quantidade_atra': [2], 'Tempo_atra': [12...\"\n",
            "  ordering_key: ''\n",
            "  attributes: {}\n",
            "}\n",
            "Mensagem:Message {\n",
            "  data: b\"('SFO', {'Quantidade_atra': [2], 'Tempo_atra': [24...\"\n",
            "  ordering_key: ''\n",
            "  attributes: {}\n",
            "}\n",
            "Mensagem:Message {\n",
            "  data: b\"('HNL', {'Quantidade_atra': [1], 'Tempo_atra': [4]...\"\n",
            "  ordering_key: ''\n",
            "  attributes: {}\n",
            "}\n"
          ]
        },
        {
          "output_type": "error",
          "ename": "KeyboardInterrupt",
          "evalue": "ignored",
          "traceback": [
            "\u001b[0;31m---------------------------------------------------------------------------\u001b[0m",
            "\u001b[0;31mKeyboardInterrupt\u001b[0m                         Traceback (most recent call last)",
            "\u001b[0;32m<ipython-input-7-88942f18c80b>\u001b[0m in \u001b[0;36m<module>\u001b[0;34m\u001b[0m\n\u001b[1;32m     18\u001b[0m \u001b[0;34m\u001b[0m\u001b[0m\n\u001b[1;32m     19\u001b[0m \u001b[0;32mwhile\u001b[0m \u001b[0;32mTrue\u001b[0m\u001b[0;34m:\u001b[0m\u001b[0;34m\u001b[0m\u001b[0;34m\u001b[0m\u001b[0m\n\u001b[0;32m---> 20\u001b[0;31m   \u001b[0mtime\u001b[0m\u001b[0;34m.\u001b[0m\u001b[0msleep\u001b[0m\u001b[0;34m(\u001b[0m\u001b[0;36m4\u001b[0m\u001b[0;34m)\u001b[0m\u001b[0;34m\u001b[0m\u001b[0;34m\u001b[0m\u001b[0m\n\u001b[0m",
            "\u001b[0;31mKeyboardInterrupt\u001b[0m: "
          ]
        }
      ]
    },
    {
      "cell_type": "markdown",
      "source": [
        "##Modelo Beam Streaming Pub/sub"
      ],
      "metadata": {
        "id": "d5yRgybv5fWw"
      }
    },
    {
      "cell_type": "code",
      "source": [
        "pip install apache_beam[gcp]"
      ],
      "metadata": {
        "id": "YYKUbMCC5kFP"
      },
      "execution_count": null,
      "outputs": []
    },
    {
      "cell_type": "code",
      "source": [
        "import apache_beam as beam\n",
        "import os\n",
        "from apache_beam.options.pipeline_options import PipelineOptions\n",
        "from apache_beam import window\n",
        "\n",
        "pipeline_options = {\n",
        "    'project': 'etl-bc12',\n",
        "    'runner': 'DataflowRunner',\n",
        "    'region': 'southamerica-east1',\n",
        "    'staging_location': 'gs://dados_brutos_soulcode/stage',\n",
        "    'temp_location': 'gs://dados_brutos_soulcode/stage',\n",
        "    'template_location': 'gs://dados_brutos_soulcode/model/modelo_streaming_voos',\n",
        "    'save_main_session': True,\n",
        "    'streaming': True\n",
        "}\n",
        "serviceAccount = r'/content/etl-bc12-516a9787a1eb.json'\n",
        "os.environ[\"GOOGLE_APPLICATION_CREDENTIALS\"] = serviceAccount\n",
        "\n",
        "pipeline_options = PipelineOptions.from_dictionary(pipeline_options)\n",
        "p1 = beam.Pipeline(options=pipeline_options)\n",
        "\n",
        "subscription = 'projects/etl-bc12/subscriptions/assinatopic1'\n",
        "saida = 'projects/etl-bc12/topics/topicopub2'\n",
        "\n",
        "class separador(beam.DoFn):\n",
        "  def process(self,record):\n",
        "    return [record.decode(\"utf-8\").split(',')]\n",
        "    \n",
        "\n",
        "pcollection_entrada =(\n",
        "    p1 | 'Ler do topico 1' >> beam.io.ReadFromPubSub(subscription=subscription)\n",
        ")\n",
        "\n",
        "Qtd_tempo = (\n",
        "    pcollection_entrada\n",
        "    \n",
        "    |'Separador do atraso' >> beam.ParDo(separador())\n",
        "    |'Filtrar voos atrasados' >> beam.Filter(lambda record: int(record[6])>0)\n",
        "    |'Agregar as colunas' >> beam.Map(lambda record: (record[3],int(record[6])))\n",
        "    |'Janela de tempo 1' >> beam.WindowInto(window.SlidingWindows(15,10))\n",
        "    |'Somatoria atraso' >> beam.CombinePerKey(sum)\n",
        "\n",
        "    \n",
        ")\n",
        "Qte_freq = (\n",
        "    pcollection_entrada\n",
        "    \n",
        "    |'Separador da quantida' >> beam.ParDo(separador())\n",
        "    |'Filtrar voos delay' >> beam.Filter(lambda record: int(record[6])>0)\n",
        "    |'Agregar as info' >> beam.Map(lambda record: (record[3],int(record[6])))\n",
        "    |'Janela de tempo 2' >> beam.WindowInto(window.SlidingWindows(15,10))\n",
        "    |'Qtd ocorrencia' >> beam.combiners.Count.PerKey()\n",
        "\n",
        "    \n",
        ")\n",
        "\n",
        "tabela = (\n",
        "    {'Quantidade_atra':Qte_freq,'Tempo_atra':Qtd_tempo}\n",
        "    |'Agrupando as pernas' >> beam.CoGroupByKey()\n",
        "    |'Converter para PubSub' >> beam.Map(lambda row: (''.join(str(row)).encode('utf-8')))\n",
        "    |'Saida Definitiva' >> beam.io.WriteToPubSub(saida)\n",
        "    \n",
        ")\n",
        "resultado = p1.run()\n",
        "resultado.wait_until_finish()"
      ],
      "metadata": {
        "colab": {
          "base_uri": "https://localhost:8080/",
          "height": 156
        },
        "id": "s3dh8SD-9iSi",
        "outputId": "ff5ea39e-a0a7-4321-b83e-352fe677ce2c"
      },
      "execution_count": null,
      "outputs": [
        {
          "output_type": "display_data",
          "data": {
            "application/javascript": [
              "\n",
              "        if (typeof window.interactive_beam_jquery == 'undefined') {\n",
              "          var jqueryScript = document.createElement('script');\n",
              "          jqueryScript.src = 'https://code.jquery.com/jquery-3.4.1.slim.min.js';\n",
              "          jqueryScript.type = 'text/javascript';\n",
              "          jqueryScript.onload = function() {\n",
              "            var datatableScript = document.createElement('script');\n",
              "            datatableScript.src = 'https://cdn.datatables.net/1.10.20/js/jquery.dataTables.min.js';\n",
              "            datatableScript.type = 'text/javascript';\n",
              "            datatableScript.onload = function() {\n",
              "              window.interactive_beam_jquery = jQuery.noConflict(true);\n",
              "              window.interactive_beam_jquery(document).ready(function($){\n",
              "                \n",
              "              });\n",
              "            }\n",
              "            document.head.appendChild(datatableScript);\n",
              "          };\n",
              "          document.head.appendChild(jqueryScript);\n",
              "        } else {\n",
              "          window.interactive_beam_jquery(document).ready(function($){\n",
              "            \n",
              "          });\n",
              "        }"
            ]
          },
          "metadata": {}
        },
        {
          "output_type": "display_data",
          "data": {
            "text/plain": [
              "<IPython.core.display.HTML object>"
            ],
            "text/html": [
              "\n",
              "  <style>\n",
              "    div.alert {\n",
              "      white-space: pre-line;\n",
              "    }\n",
              "  </style>\n"
            ]
          },
          "metadata": {}
        },
        {
          "output_type": "display_data",
          "data": {
            "text/plain": [
              "<IPython.core.display.HTML object>"
            ],
            "text/html": [
              "\n",
              "            <link rel=\"stylesheet\" href=\"https://stackpath.bootstrapcdn.com/bootstrap/4.4.1/css/bootstrap.min.css\" integrity=\"sha384-Vkoo8x4CGsO3+Hhxv8T/Q5PaXtkKtu6ug5TOeNV6gBiFeWPGFN9MuhOf23Q9Ifjh\" crossorigin=\"anonymous\">\n",
              "            <div class=\"alert alert-info\">No cache_root detected. Defaulting to staging_location gs://dados_brutos_soulcode/stage for cache location.</div>"
            ]
          },
          "metadata": {}
        },
        {
          "output_type": "stream",
          "name": "stderr",
          "text": [
            "WARNING:root:Make sure that locally built Python SDK docker image has Python 3.7 interpreter.\n"
          ]
        },
        {
          "output_type": "execute_result",
          "data": {
            "text/plain": [
              "'UNKNOWN'"
            ],
            "application/vnd.google.colaboratory.intrinsic+json": {
              "type": "string"
            }
          },
          "metadata": {},
          "execution_count": 1
        }
      ]
    }
  ]
}