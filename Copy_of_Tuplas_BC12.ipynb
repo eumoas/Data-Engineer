{
  "nbformat": 4,
  "nbformat_minor": 0,
  "metadata": {
    "colab": {
      "name": "Copy of Tuplas_BC12.ipynb",
      "provenance": [],
      "include_colab_link": true
    },
    "kernelspec": {
      "name": "python3",
      "display_name": "Python 3"
    },
    "language_info": {
      "name": "python"
    }
  },
  "cells": [
    {
      "cell_type": "markdown",
      "metadata": {
        "id": "view-in-github",
        "colab_type": "text"
      },
      "source": [
        "<a href=\"https://colab.research.google.com/github/eumoas/Data-Engineer/blob/main/Copy_of_Tuplas_BC12.ipynb\" target=\"_parent\"><img src=\"https://colab.research.google.com/assets/colab-badge.svg\" alt=\"Open In Colab\"/></a>"
      ]
    },
    {
      "cell_type": "code",
      "execution_count": null,
      "metadata": {
        "colab": {
          "base_uri": "https://localhost:8080/"
        },
        "id": "Y24XXcvNWimK",
        "outputId": "661992d1-f113-4d48-a1a8-94201d2e2ef4"
      },
      "outputs": [
        {
          "output_type": "execute_result",
          "data": {
            "text/plain": [
              "tuple"
            ]
          },
          "metadata": {},
          "execution_count": 8
        }
      ],
      "source": [
        "#DECLARAR TUPLA\n",
        "animais = (\"cachorro\", 'gato', 'pássaro')\n",
        "\n",
        "animais.count('gato')\n",
        "animais.index('pássaro')\n",
        "animais[0]\n",
        "\n",
        "aux = list(animais)\n",
        "\n",
        "aux.append('leão')\n",
        "\n",
        "animais = tuple(aux)\n",
        "\n",
        "type(animais)"
      ]
    }
  ]
}