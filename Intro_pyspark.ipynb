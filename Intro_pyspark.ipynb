{
  "nbformat": 4,
  "nbformat_minor": 0,
  "metadata": {
    "colab": {
      "name": "Intro_pyspark.ipynb",
      "provenance": [],
      "include_colab_link": true
    },
    "kernelspec": {
      "name": "python3",
      "display_name": "Python 3"
    },
    "language_info": {
      "name": "python"
    }
  },
  "cells": [
    {
      "cell_type": "markdown",
      "metadata": {
        "id": "view-in-github",
        "colab_type": "text"
      },
      "source": [
        "<a href=\"https://colab.research.google.com/github/eumoas/Data-Engineer/blob/main/Intro_pyspark.ipynb\" target=\"_parent\"><img src=\"https://colab.research.google.com/assets/colab-badge.svg\" alt=\"Open In Colab\"/></a>"
      ]
    },
    {
      "cell_type": "code",
      "execution_count": null,
      "metadata": {
        "colab": {
          "base_uri": "https://localhost:8080/"
        },
        "id": "Tmv7XTFcT51X",
        "outputId": "677c8253-c27e-4e19-e561-10d48d64176f"
      },
      "outputs": [
        {
          "output_type": "stream",
          "name": "stdout",
          "text": [
            "Collecting pyspark\n",
            "  Downloading pyspark-3.2.1.tar.gz (281.4 MB)\n",
            "\u001b[K     |████████████████████████████████| 281.4 MB 34 kB/s \n",
            "\u001b[?25hCollecting py4j==0.10.9.3\n",
            "  Downloading py4j-0.10.9.3-py2.py3-none-any.whl (198 kB)\n",
            "\u001b[K     |████████████████████████████████| 198 kB 47.5 MB/s \n",
            "\u001b[?25hBuilding wheels for collected packages: pyspark\n",
            "  Building wheel for pyspark (setup.py) ... \u001b[?25l\u001b[?25hdone\n",
            "  Created wheel for pyspark: filename=pyspark-3.2.1-py2.py3-none-any.whl size=281853642 sha256=fe3ad9019873a25ec8d3f586234ed5422c92d29104b6f080cfc48a4f1c246d17\n",
            "  Stored in directory: /root/.cache/pip/wheels/9f/f5/07/7cd8017084dce4e93e84e92efd1e1d5334db05f2e83bcef74f\n",
            "Successfully built pyspark\n",
            "Installing collected packages: py4j, pyspark\n",
            "Successfully installed py4j-0.10.9.3 pyspark-3.2.1\n"
          ]
        }
      ],
      "source": [
        "!pip install pyspark"
      ]
    },
    {
      "cell_type": "code",
      "source": [
        "from pyspark.sql import SparkSession\n",
        "from pyspark import SparkConf\n",
        "import pyspark.sql.functions as F"
      ],
      "metadata": {
        "id": "BynF1gWsU1CW"
      },
      "execution_count": null,
      "outputs": []
    },
    {
      "cell_type": "code",
      "source": [
        "spark = (SparkSession.builder\n",
        "        .master(\"local\")\n",
        "        .appName(\"aula-pyspark\")\n",
        "        .config('spark.ui.port', '4050')\n",
        "        .getOrCreate())"
      ],
      "metadata": {
        "id": "R6Tcm6N-lng_"
      },
      "execution_count": null,
      "outputs": []
    },
    {
      "cell_type": "code",
      "source": [
        "spark"
      ],
      "metadata": {
        "colab": {
          "base_uri": "https://localhost:8080/",
          "height": 219
        },
        "id": "mB-IrSIwoOO-",
        "outputId": "42ff126e-4cab-400d-8906-fffb14d5363e"
      },
      "execution_count": null,
      "outputs": [
        {
          "output_type": "execute_result",
          "data": {
            "text/html": [
              "\n",
              "            <div>\n",
              "                <p><b>SparkSession - in-memory</b></p>\n",
              "                \n",
              "        <div>\n",
              "            <p><b>SparkContext</b></p>\n",
              "\n",
              "            <p><a href=\"http://88e054cf2f54:4050\">Spark UI</a></p>\n",
              "\n",
              "            <dl>\n",
              "              <dt>Version</dt>\n",
              "                <dd><code>v3.2.1</code></dd>\n",
              "              <dt>Master</dt>\n",
              "                <dd><code>local</code></dd>\n",
              "              <dt>AppName</dt>\n",
              "                <dd><code>aula-pyspark</code></dd>\n",
              "            </dl>\n",
              "        </div>\n",
              "        \n",
              "            </div>\n",
              "        "
            ],
            "text/plain": [
              "<pyspark.sql.session.SparkSession at 0x7fe2b5706050>"
            ]
          },
          "metadata": {},
          "execution_count": 5
        }
      ]
    },
    {
      "cell_type": "code",
      "source": [
        "#CRIANDO DATAFRAME NO PYSPARK\n",
        "esquema = [\"nome\", \"cidade\", \"estado\", \"salario\"]\n",
        "dados = [\n",
        "        (\"João da Silva\", \"São Paulo\", \"SP\", 1200.00),\n",
        "        (\"Maria Ribeiro\", \"Rio de Janeiro\", \"RJ\", 2400.00),\n",
        "        (\"Pedro José\", \"Fortaleza\", \"CE\", 4230.00),\n",
        "        (\"Carlos Victor Pereira\", \"Florianópolis\", \"SC\", 1200.00) \n",
        "]\n",
        "df = spark.createDataFrame(data=dados,schema=esquema)"
      ],
      "metadata": {
        "id": "YFrAg-sJo7A7"
      },
      "execution_count": null,
      "outputs": []
    },
    {
      "cell_type": "code",
      "source": [
        "#EXIBE O CONTEÚDO DO DATAFRAME DE ACORDO COM A QUANTIDADE ESPECIFICADA ENTRE PARÊNTESES\n",
        "df.show(4)"
      ],
      "metadata": {
        "colab": {
          "base_uri": "https://localhost:8080/"
        },
        "id": "MQHdWZcKstc_",
        "outputId": "250445a0-bc65-4dd3-becf-9ffb940ff219"
      },
      "execution_count": null,
      "outputs": [
        {
          "output_type": "stream",
          "name": "stdout",
          "text": [
            "+--------------------+--------------+------+-------+\n",
            "|                nome|        cidade|estado|salario|\n",
            "+--------------------+--------------+------+-------+\n",
            "|       João da Silva|     São Paulo|    SP| 1200.0|\n",
            "|       Maria Ribeiro|Rio de Janeiro|    RJ| 2400.0|\n",
            "|          Pedro José|     Fortaleza|    CE| 4230.0|\n",
            "|Carlos Victor Per...| Florianópolis|    SC| 1200.0|\n",
            "+--------------------+--------------+------+-------+\n",
            "\n"
          ]
        }
      ]
    },
    {
      "cell_type": "code",
      "source": [
        "#RETORNA O SCHEMA DO DATAFRAME\n",
        "df.printSchema()"
      ],
      "metadata": {
        "colab": {
          "base_uri": "https://localhost:8080/"
        },
        "id": "aByeC2rstnJI",
        "outputId": "7d9b6cd6-a07e-4e8d-dc0b-1ea0be305a1d"
      },
      "execution_count": null,
      "outputs": [
        {
          "output_type": "stream",
          "name": "stdout",
          "text": [
            "root\n",
            " |-- nome: string (nullable = true)\n",
            " |-- cidade: string (nullable = true)\n",
            " |-- estado: string (nullable = true)\n",
            " |-- salario: double (nullable = true)\n",
            "\n"
          ]
        }
      ]
    },
    {
      "cell_type": "code",
      "source": [
        "df2 = (\n",
        "    spark\n",
        "        .read\n",
        "        .format(\"csv\")\n",
        "        .option(\"header\", \"true\")\n",
        "        .option(\"delimiter\", \";\")\n",
        "        .option(\"inferschema\", \"true\")\n",
        "        .load(\"/content/drive/MyDrive/Datasets/arquivo_geral.csv\")\n",
        ")"
      ],
      "metadata": {
        "id": "_Astlezgt7nV"
      },
      "execution_count": null,
      "outputs": []
    },
    {
      "cell_type": "code",
      "source": [
        "df2.show(20)"
      ],
      "metadata": {
        "id": "dwhaZOR-w7rq"
      },
      "execution_count": null,
      "outputs": []
    },
    {
      "cell_type": "code",
      "source": [
        "df2.printSchema()"
      ],
      "metadata": {
        "colab": {
          "base_uri": "https://localhost:8080/"
        },
        "id": "fAwZhUZCxlRJ",
        "outputId": "c463b7a1-dbdd-45ca-829b-d874a4749b05"
      },
      "execution_count": null,
      "outputs": [
        {
          "output_type": "stream",
          "name": "stdout",
          "text": [
            "root\n",
            " |-- regiao: string (nullable = true)\n",
            " |-- estado: string (nullable = true)\n",
            " |-- data: string (nullable = true)\n",
            " |-- casosNovos: integer (nullable = true)\n",
            " |-- casosAcumulados: integer (nullable = true)\n",
            " |-- obitosNovos: integer (nullable = true)\n",
            " |-- obitosAcumulados: integer (nullable = true)\n",
            "\n"
          ]
        }
      ]
    },
    {
      "cell_type": "markdown",
      "source": [
        "COMANDO SELECT\n",
        "\n"
      ],
      "metadata": {
        "id": "89LLZrNw1vLS"
      }
    },
    {
      "cell_type": "code",
      "source": [
        "# 1ª FORMA\n",
        "df2.select(\"regiao\", \"estado\", \"casosNovos\").show()"
      ],
      "metadata": {
        "colab": {
          "base_uri": "https://localhost:8080/"
        },
        "id": "QvTR1iEc1zlp",
        "outputId": "c5b9c292-2bc8-4426-faa5-79b3f5e6a133"
      },
      "execution_count": null,
      "outputs": [
        {
          "output_type": "stream",
          "name": "stdout",
          "text": [
            "+------+------+----------+\n",
            "|regiao|estado|casosNovos|\n",
            "+------+------+----------+\n",
            "| Norte|    RO|         0|\n",
            "| Norte|    RO|         0|\n",
            "| Norte|    RO|         0|\n",
            "| Norte|    RO|         0|\n",
            "| Norte|    RO|         0|\n",
            "| Norte|    RO|         0|\n",
            "| Norte|    RO|         0|\n",
            "| Norte|    RO|         0|\n",
            "| Norte|    RO|         0|\n",
            "| Norte|    RO|         0|\n",
            "| Norte|    RO|         0|\n",
            "| Norte|    RO|         0|\n",
            "| Norte|    RO|         0|\n",
            "| Norte|    RO|         0|\n",
            "| Norte|    RO|         0|\n",
            "| Norte|    RO|         0|\n",
            "| Norte|    RO|         0|\n",
            "| Norte|    RO|         0|\n",
            "| Norte|    RO|         0|\n",
            "| Norte|    RO|         0|\n",
            "+------+------+----------+\n",
            "only showing top 20 rows\n",
            "\n"
          ]
        }
      ]
    },
    {
      "cell_type": "code",
      "source": [
        "#2ª FORMA\n",
        "df2.select(F.col(\"regiao\"), F.col(\"estado\"), F.col(\"casosNovos\")).show(10)"
      ],
      "metadata": {
        "colab": {
          "base_uri": "https://localhost:8080/"
        },
        "id": "HInsPUPL2wKq",
        "outputId": "1e0b6a19-98bb-4abb-897c-f975c8a44a3a"
      },
      "execution_count": null,
      "outputs": [
        {
          "output_type": "stream",
          "name": "stdout",
          "text": [
            "+------+------+----------+\n",
            "|regiao|estado|casosNovos|\n",
            "+------+------+----------+\n",
            "| Norte|    RO|         0|\n",
            "| Norte|    RO|         0|\n",
            "| Norte|    RO|         0|\n",
            "| Norte|    RO|         0|\n",
            "| Norte|    RO|         0|\n",
            "| Norte|    RO|         0|\n",
            "| Norte|    RO|         0|\n",
            "| Norte|    RO|         0|\n",
            "| Norte|    RO|         0|\n",
            "| Norte|    RO|         0|\n",
            "+------+------+----------+\n",
            "only showing top 10 rows\n",
            "\n"
          ]
        }
      ]
    },
    {
      "cell_type": "markdown",
      "source": [
        "FILTER"
      ],
      "metadata": {
        "id": "f7lOJe_n3-vi"
      }
    },
    {
      "cell_type": "code",
      "source": [
        "#EXIBIR A REGIÃO, ESTADO E ÓBITOS ACUMULADOS DA REGIÃO SUDESTE\n",
        "\n",
        "df2.select(F.col(\"regiao\"), F.col(\"estado\"), F.col(\"obitosAcumulados\")).filter(F.col(\"regiao\") == \"Sudeste\").show(20)"
      ],
      "metadata": {
        "colab": {
          "base_uri": "https://localhost:8080/"
        },
        "id": "1HOaUQZs3pFl",
        "outputId": "5e0da2e1-3597-46ba-d889-f5892db66bb3"
      },
      "execution_count": null,
      "outputs": [
        {
          "output_type": "stream",
          "name": "stdout",
          "text": [
            "+-------+------+----------------+\n",
            "| regiao|estado|obitosAcumulados|\n",
            "+-------+------+----------------+\n",
            "|Sudeste|    MG|               0|\n",
            "|Sudeste|    MG|               0|\n",
            "|Sudeste|    MG|               0|\n",
            "|Sudeste|    MG|               0|\n",
            "|Sudeste|    MG|               0|\n",
            "|Sudeste|    MG|               0|\n",
            "|Sudeste|    MG|               0|\n",
            "|Sudeste|    MG|               0|\n",
            "|Sudeste|    MG|               0|\n",
            "|Sudeste|    MG|               0|\n",
            "|Sudeste|    MG|               0|\n",
            "|Sudeste|    MG|               0|\n",
            "|Sudeste|    MG|               0|\n",
            "|Sudeste|    MG|               0|\n",
            "|Sudeste|    MG|               0|\n",
            "|Sudeste|    MG|               0|\n",
            "|Sudeste|    MG|               0|\n",
            "|Sudeste|    MG|               0|\n",
            "|Sudeste|    MG|               0|\n",
            "|Sudeste|    MG|               0|\n",
            "+-------+------+----------------+\n",
            "only showing top 20 rows\n",
            "\n"
          ]
        }
      ]
    },
    {
      "cell_type": "code",
      "source": [
        "df2.filter(F.col(\"estado\") == \"SP\").show(5)"
      ],
      "metadata": {
        "colab": {
          "base_uri": "https://localhost:8080/"
        },
        "id": "yvOo93n84ytm",
        "outputId": "cea178b3-7dc0-41ee-b88e-b0d580b1e64b"
      },
      "execution_count": null,
      "outputs": [
        {
          "output_type": "stream",
          "name": "stdout",
          "text": [
            "+-------+------+----------+----------+---------------+-----------+----------------+\n",
            "| regiao|estado|      data|casosNovos|casosAcumulados|obitosNovos|obitosAcumulados|\n",
            "+-------+------+----------+----------+---------------+-----------+----------------+\n",
            "|Sudeste|    SP|2020-01-30|         0|              0|          0|               0|\n",
            "|Sudeste|    SP|2020-01-31|         0|              0|          0|               0|\n",
            "|Sudeste|    SP|2020-02-01|         0|              0|          0|               0|\n",
            "|Sudeste|    SP|2020-02-02|         0|              0|          0|               0|\n",
            "|Sudeste|    SP|2020-02-03|         0|              0|          0|               0|\n",
            "+-------+------+----------+----------+---------------+-----------+----------------+\n",
            "only showing top 5 rows\n",
            "\n"
          ]
        }
      ]
    },
    {
      "cell_type": "code",
      "source": [
        "#1ª FORMA - TRABALHANDO COM FILTER ENCADEADO E O AND\n",
        "df2.filter(F.col(\"estado\") == \"MG\").filter(F.col(\"casosNovos\") > 10).show(100)"
      ],
      "metadata": {
        "id": "uE38pvnG5yfb"
      },
      "execution_count": null,
      "outputs": []
    },
    {
      "cell_type": "code",
      "source": [
        "#2ª FORMA - TRABALHANDO COM FILTER ENCADEADO E O AND\n",
        "df2.filter(\"regiao = 'Sudeste' and casosNovos > 30\").show(50)"
      ],
      "metadata": {
        "id": "syH5AiGt7uIo"
      },
      "execution_count": null,
      "outputs": []
    },
    {
      "cell_type": "code",
      "source": [
        "#3ª FORMA - TRABALHANDO COM FILTER ENCADEADO E O AND\n",
        "df2.filter((F.col(\"regiao\") == \"Sudeste\") & (F.col(\"casosNovos\") > 20)).show(30)"
      ],
      "metadata": {
        "id": "NCVZsGQc8AXD"
      },
      "execution_count": null,
      "outputs": []
    },
    {
      "cell_type": "code",
      "source": [
        "#1ª FORMA - TRABALHANDO COM FILTER ENCADEADO E O OR\n",
        "df2.filter(\"regiao = 'Sudeste' or regiao = 'Norte'\").show(200)"
      ],
      "metadata": {
        "id": "hCiN-JpA8h0r"
      },
      "execution_count": null,
      "outputs": []
    },
    {
      "cell_type": "code",
      "source": [
        "#2ª FORMA - TRABALHANDO COM FILTER ENCADEADO E O OR\n",
        "df2.filter((F.col(\"regiao\") == \"Sudeste\") | (F.col(\"regiao\") == \"Norte\")).show(30)"
      ],
      "metadata": {
        "colab": {
          "base_uri": "https://localhost:8080/"
        },
        "id": "lQtdoRJu8350",
        "outputId": "b390c6e7-65b2-4dae-993b-5ea46263ba39"
      },
      "execution_count": null,
      "outputs": [
        {
          "output_type": "stream",
          "name": "stdout",
          "text": [
            "+------+------+----------+----------+---------------+-----------+----------------+\n",
            "|regiao|estado|      data|casosNovos|casosAcumulados|obitosNovos|obitosAcumulados|\n",
            "+------+------+----------+----------+---------------+-----------+----------------+\n",
            "| Norte|    RO|2020-01-30|         0|              0|          0|               0|\n",
            "| Norte|    RO|2020-01-31|         0|              0|          0|               0|\n",
            "| Norte|    RO|2020-02-01|         0|              0|          0|               0|\n",
            "| Norte|    RO|2020-02-02|         0|              0|          0|               0|\n",
            "| Norte|    RO|2020-02-03|         0|              0|          0|               0|\n",
            "| Norte|    RO|2020-02-04|         0|              0|          0|               0|\n",
            "| Norte|    RO|2020-02-05|         0|              0|          0|               0|\n",
            "| Norte|    RO|2020-02-06|         0|              0|          0|               0|\n",
            "| Norte|    RO|2020-02-07|         0|              0|          0|               0|\n",
            "| Norte|    RO|2020-02-08|         0|              0|          0|               0|\n",
            "| Norte|    RO|2020-02-09|         0|              0|          0|               0|\n",
            "| Norte|    RO|2020-02-10|         0|              0|          0|               0|\n",
            "| Norte|    RO|2020-02-11|         0|              0|          0|               0|\n",
            "| Norte|    RO|2020-02-12|         0|              0|          0|               0|\n",
            "| Norte|    RO|2020-02-13|         0|              0|          0|               0|\n",
            "| Norte|    RO|2020-02-14|         0|              0|          0|               0|\n",
            "| Norte|    RO|2020-02-15|         0|              0|          0|               0|\n",
            "| Norte|    RO|2020-02-16|         0|              0|          0|               0|\n",
            "| Norte|    RO|2020-02-17|         0|              0|          0|               0|\n",
            "| Norte|    RO|2020-02-18|         0|              0|          0|               0|\n",
            "| Norte|    RO|2020-02-19|         0|              0|          0|               0|\n",
            "| Norte|    RO|2020-02-20|         0|              0|          0|               0|\n",
            "| Norte|    RO|2020-02-21|         0|              0|          0|               0|\n",
            "| Norte|    RO|2020-02-22|         0|              0|          0|               0|\n",
            "| Norte|    RO|2020-02-23|         0|              0|          0|               0|\n",
            "| Norte|    RO|2020-02-24|         0|              0|          0|               0|\n",
            "| Norte|    RO|2020-02-25|         0|              0|          0|               0|\n",
            "| Norte|    RO|2020-02-26|         0|              0|          0|               0|\n",
            "| Norte|    RO|2020-02-27|         0|              0|          0|               0|\n",
            "| Norte|    RO|2020-02-28|         0|              0|          0|               0|\n",
            "+------+------+----------+----------+---------------+-----------+----------------+\n",
            "only showing top 30 rows\n",
            "\n"
          ]
        }
      ]
    },
    {
      "cell_type": "code",
      "source": [
        "filtro = F.col(\"regiao\") == \"Sudeste\"\n",
        "\n",
        "df2.filter(filtro).show(10)"
      ],
      "metadata": {
        "colab": {
          "base_uri": "https://localhost:8080/"
        },
        "id": "5E9Zvtli6bhy",
        "outputId": "caa7102f-4c68-480f-ede7-caf365d3d685"
      },
      "execution_count": null,
      "outputs": [
        {
          "output_type": "stream",
          "name": "stdout",
          "text": [
            "+-------+------+----------+----------+---------------+-----------+----------------+\n",
            "| regiao|estado|      data|casosNovos|casosAcumulados|obitosNovos|obitosAcumulados|\n",
            "+-------+------+----------+----------+---------------+-----------+----------------+\n",
            "|Sudeste|    MG|2020-01-30|         0|              0|          0|               0|\n",
            "|Sudeste|    MG|2020-01-31|         0|              0|          0|               0|\n",
            "|Sudeste|    MG|2020-02-01|         0|              0|          0|               0|\n",
            "|Sudeste|    MG|2020-02-02|         0|              0|          0|               0|\n",
            "|Sudeste|    MG|2020-02-03|         0|              0|          0|               0|\n",
            "|Sudeste|    MG|2020-02-04|         0|              0|          0|               0|\n",
            "|Sudeste|    MG|2020-02-05|         0|              0|          0|               0|\n",
            "|Sudeste|    MG|2020-02-06|         0|              0|          0|               0|\n",
            "|Sudeste|    MG|2020-02-07|         0|              0|          0|               0|\n",
            "|Sudeste|    MG|2020-02-08|         0|              0|          0|               0|\n",
            "+-------+------+----------+----------+---------------+-----------+----------------+\n",
            "only showing top 10 rows\n",
            "\n"
          ]
        }
      ]
    },
    {
      "cell_type": "code",
      "source": [
        "colunas = ['regiao', 'casosNovos']\n",
        "df2.select(colunas).show(5)"
      ],
      "metadata": {
        "colab": {
          "base_uri": "https://localhost:8080/"
        },
        "id": "RGAh3Odd7WG7",
        "outputId": "3d2a9045-1b13-4d1e-ba3b-c5ee21e0165d"
      },
      "execution_count": null,
      "outputs": [
        {
          "output_type": "stream",
          "name": "stdout",
          "text": [
            "+------+----------+\n",
            "|regiao|casosNovos|\n",
            "+------+----------+\n",
            "| Norte|         0|\n",
            "| Norte|         0|\n",
            "| Norte|         0|\n",
            "| Norte|         0|\n",
            "| Norte|         0|\n",
            "+------+----------+\n",
            "only showing top 5 rows\n",
            "\n"
          ]
        }
      ]
    },
    {
      "cell_type": "markdown",
      "source": [
        "WHERE"
      ],
      "metadata": {
        "id": "pz-uFmPg_CcL"
      }
    },
    {
      "cell_type": "code",
      "source": [
        "df2.where(F.col(\"regiao\") == 'Nordeste').show(10)"
      ],
      "metadata": {
        "id": "19h2XU_2_JIT"
      },
      "execution_count": null,
      "outputs": []
    },
    {
      "cell_type": "code",
      "source": [
        "#MOSTRAR APENAS OS ESTADOS DA REGIÃO NORTE E QUE COMECEM COM A LETRA A\n",
        "df2.where(F.col(\"regiao\") == \"Norte\").filter(\"estado LIKE '%A%'\").show(20)"
      ],
      "metadata": {
        "id": "7iuZ7AanEEtr"
      },
      "execution_count": null,
      "outputs": []
    },
    {
      "cell_type": "code",
      "source": [
        "#FILTRO POR ESTADOS QUE COMECEM COM A LETRA A\n",
        "df2.filter(F.col(\"estado\").startswith(\"A\")).show(10)\n",
        " \n",
        "#FILTRO POR ESTADOS QUE CONTENHAM A LETRA A \n",
        "df2.filter(F.col(\"estado\").contains(\"A\")).show(10)\n",
        "\n",
        "#FILTRO POR ESTADOS QUE TERMINEM COM A LETRA A\n",
        "df2.filter(F.col(\"estado\").endswith(\"A\")).show(10)\n"
      ],
      "metadata": {
        "id": "pIHkEow1E8zd"
      },
      "execution_count": null,
      "outputs": []
    },
    {
      "cell_type": "code",
      "source": [
        "df2.filter(F.col(\"estado\").like(\"A%\")).show(20)"
      ],
      "metadata": {
        "id": "AT139rxLH4Fr"
      },
      "execution_count": null,
      "outputs": []
    },
    {
      "cell_type": "code",
      "source": [
        "#UTILIZANDO O FILTRO COM UMA LISTA DE REGIÕES COM A FUNÇÃO ISIN\n",
        "lista_regiao = ['Norte', 'Sul']\n",
        "df2.filter(F.col(\"regiao\").isin(lista_regiao)).show(30)"
      ],
      "metadata": {
        "id": "Hv6NtxfUI3ul"
      },
      "execution_count": null,
      "outputs": []
    },
    {
      "cell_type": "code",
      "source": [
        "#UTILIZANDO O FILTRO COM UMA LISTA DE REGIÕES\n",
        "df2.filter(\"regiao in ('Norte', 'Sul')\").show(30)"
      ],
      "metadata": {
        "id": "myqcrC4IJjIB"
      },
      "execution_count": null,
      "outputs": []
    }
  ]
}