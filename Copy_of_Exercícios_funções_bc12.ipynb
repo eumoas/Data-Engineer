{
  "nbformat": 4,
  "nbformat_minor": 0,
  "metadata": {
    "colab": {
      "name": "Copy of Exercícios_funções_bc12.ipynb",
      "provenance": [],
      "include_colab_link": true
    },
    "kernelspec": {
      "name": "python3",
      "display_name": "Python 3"
    },
    "language_info": {
      "name": "python"
    }
  },
  "cells": [
    {
      "cell_type": "markdown",
      "metadata": {
        "id": "view-in-github",
        "colab_type": "text"
      },
      "source": [
        "<a href=\"https://colab.research.google.com/github/eumoas/Data-Engineer/blob/main/Copy_of_Exerc%C3%ADcios_fun%C3%A7%C3%B5es_bc12.ipynb\" target=\"_parent\"><img src=\"https://colab.research.google.com/assets/colab-badge.svg\" alt=\"Open In Colab\"/></a>"
      ]
    },
    {
      "cell_type": "markdown",
      "source": [
        "1) Crie um algoritmo utilizando funções que leia um número N diferente de 0 que retorne 'P' caso o número seja positivo ou 'N' caso o número seja negativo. Em seguida, exiba na tela o número e o caractere correspondente (P ou N)"
      ],
      "metadata": {
        "id": "y2HRPpcGQ1-Y"
      }
    },
    {
      "cell_type": "code",
      "source": [
        "def positivo_negativo(num):\n",
        "  if num > 0:\n",
        "    return f'{num} = P'\n",
        "  elif num < 0:\n",
        "    return f'{num} = N'\n",
        "\n",
        "while True:\n",
        "  try:\n",
        "    num = int(input('Digite um número inteiro'))\n",
        "    if num != 0:\n",
        "      break\n",
        "  except:\n",
        "    print('Digite valores inteiros diferentes de zero!')\n",
        "\n",
        "print(positivo_negativo(num))"
      ],
      "metadata": {
        "colab": {
          "base_uri": "https://localhost:8080/"
        },
        "id": "b0DVmW4kznX0",
        "outputId": "a859da1b-60b3-4cf5-ca17-df9b7657dff6"
      },
      "execution_count": null,
      "outputs": [
        {
          "output_type": "stream",
          "name": "stdout",
          "text": [
            "Digite um número inteiroff\n",
            "Digite valores inteiros diferentes de zero!\n",
            "Digite um número inteirogg\n",
            "Digite valores inteiros diferentes de zero!\n",
            "Digite um número inteiro0\n",
            "Digite um número inteiro0\n",
            "Digite um número inteiro6\n",
            "6 = P\n"
          ]
        }
      ]
    },
    {
      "cell_type": "markdown",
      "source": [
        "2)Crie um algoritmo utilizando funções que leia 3 números inteiros, calcule a multiplicação entre eles e retorne o valor para uma variável no programa principal. Em seguida, exiba o dobro desse valor na tela."
      ],
      "metadata": {
        "id": "bs9rUrarQ4p2"
      }
    },
    {
      "cell_type": "code",
      "source": [
        "def mult(n1, n2, n3):\n",
        "  return n1 * n2 * n3\n",
        "  \n",
        "\n",
        "while True:\n",
        "  try:\n",
        "    num1 = int(input('Digite o primeiro número: '))\n",
        "    num2 = int(input('Digite o segundo número: '))\n",
        "    num3 = int(input('Digite o terceiro número: '))\n",
        "    break\n",
        "  except:\n",
        "    print('Digite apenas valores inteiros!')\n",
        "\n",
        "retorno = mult(num1,num2,num3)\n",
        "print(f'O resultado do dobro de {num1}*{num2}*{num3} = {retorno*2}')"
      ],
      "metadata": {
        "id": "jKbcyNrW2DuX"
      },
      "execution_count": null,
      "outputs": []
    },
    {
      "cell_type": "markdown",
      "source": [
        "3) Crie um algoritmo que leia um primeiro valor, em seguida leia um operador (+ , - , * ou / ) e no final leia um segundo valor. Crie funções para cada uma das operações e em seguida, exiba o valor da operação na tela."
      ],
      "metadata": {
        "id": "ynQ2V9jZRAe9"
      }
    },
    {
      "cell_type": "code",
      "source": [
        "def validaInteiro():\n",
        "  while True:\n",
        "    try:\n",
        "      n = int(input('Digite um número: '))\n",
        "      break\n",
        "    except:\n",
        "      print('Digite um valor inteiro!')\n",
        "  return n\n",
        "\n",
        "def soma(n1, n2):\n",
        "  return n1 + n2\n",
        "\n",
        "def mult(n1, n2):\n",
        "  return n1 * n2\n",
        "\n",
        "def sub(n1, n2):\n",
        "  return n1 - n2\n",
        "\n",
        "def div(n1, n2):\n",
        "  if n2 == 0:\n",
        "    return 'Não existe divisão por zero!'\n",
        "  else:\n",
        "    return n1 / n2\n",
        "\n",
        "num1 = validaInteiro()\n",
        "\n",
        "operador = input('Digite um operador: + (adição) - (subtração) * (multiplicação) / (divisão)')\n",
        "while operador != '+' and operador != '-' and operador != '*' and operador != '/':\n",
        "  operador = input('Digite um operador: + (adição) - (subtração) * (multiplicação) / (divisão)')\n",
        "\n",
        "num2 = validaInteiro()\n",
        "\n",
        "if operador == '+':\n",
        "  print(soma(num1, num2))\n",
        "elif operador == '-':\n",
        "  print(sub(num1, num2))\n",
        "elif operador == '*':\n",
        "  print(mult(num1, num2))\n",
        "else:\n",
        "  print(div(num1,num2))\n"
      ],
      "metadata": {
        "colab": {
          "base_uri": "https://localhost:8080/"
        },
        "id": "9R758HMX43Zb",
        "outputId": "9c0e141a-4df8-4694-dd2c-9ff40af13779"
      },
      "execution_count": null,
      "outputs": [
        {
          "output_type": "stream",
          "name": "stdout",
          "text": [
            "Digite um número: 10\n",
            "Digite um operador: + (adição) - (subtração) * (multiplicação) / (divisão)y\n",
            "Digite um operador: + (adição) - (subtração) * (multiplicação) / (divisão)*\n",
            "Digite um número: 5\n",
            "10 5\n"
          ]
        }
      ]
    },
    {
      "cell_type": "markdown",
      "source": [
        "4) Crie um algoritmo utilizando funções que leia um número N maior que 0 e exiba a saída da seguinte forma:\n",
        "\n",
        "N = 2\n",
        "1\n",
        "2 2\n",
        "\n",
        "N = 4\n",
        "1\n",
        "2 2\n",
        "3 3 3\n",
        "4 4 4 4"
      ],
      "metadata": {
        "id": "JRll314YQdzB"
      }
    },
    {
      "cell_type": "markdown",
      "source": [
        "5) Crie um algoritmo utilizando funções que leia um número N maior que 0 e exiba a saída da seguinte forma:\n",
        "\n",
        "N = 2\n",
        "1\n",
        "1 2\n",
        "\n",
        "N = 4\n",
        "1\n",
        "1 2\n",
        "1 2 3\n",
        "1 2 3 4"
      ],
      "metadata": {
        "id": "_zaH81G1Qj7n"
      }
    },
    {
      "cell_type": "markdown",
      "source": [
        ""
      ],
      "metadata": {
        "id": "9gzF12ObQvwg"
      }
    }
  ]
}