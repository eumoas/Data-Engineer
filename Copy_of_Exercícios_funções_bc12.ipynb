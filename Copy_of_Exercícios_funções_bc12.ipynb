{
  "nbformat": 4,
  "nbformat_minor": 0,
  "metadata": {
    "colab": {
      "name": "Copy of Exercícios_funções_bc12.ipynb",
      "provenance": [],
      "include_colab_link": true
    },
    "kernelspec": {
      "name": "python3",
      "display_name": "Python 3"
    },
    "language_info": {
      "name": "python"
    }
  },
  "cells": [
    {
      "cell_type": "markdown",
      "metadata": {
        "id": "view-in-github",
        "colab_type": "text"
      },
      "source": [
        "<a href=\"https://colab.research.google.com/github/eumoas/Data-Engineer/blob/main/Copy_of_Exerc%C3%ADcios_fun%C3%A7%C3%B5es_bc12.ipynb\" target=\"_parent\"><img src=\"https://colab.research.google.com/assets/colab-badge.svg\" alt=\"Open In Colab\"/></a>"
      ]
    },
    {
      "cell_type": "markdown",
      "source": [
        "1) Crie um algoritmo utilizando funções que leia um número N diferente de 0 que retorne 'P' caso o número seja positivo ou 'N' caso o número seja negativo. Em seguida, exiba na tela o número e o caractere correspondente (P ou N)"
      ],
      "metadata": {
        "id": "y2HRPpcGQ1-Y"
      }
    },
    {
      "cell_type": "markdown",
      "source": [
        "2)Crie um algoritmo utilizando funções que leia 3 números inteiros, calcule a multiplicação entre eles e retorne o valor para uma variável no programa principal. Em seguida, exiba o dobro desse valor na tela."
      ],
      "metadata": {
        "id": "bs9rUrarQ4p2"
      }
    },
    {
      "cell_type": "markdown",
      "source": [
        "3) Crie um algoritmo que leia um primeiro valor, em seguida leia um operador (+ , - , * ou / ) e no final leia um segundo valor. Crie funções para cada uma das operações e em seguida, exiba o valor da operação na tela."
      ],
      "metadata": {
        "id": "ynQ2V9jZRAe9"
      }
    },
    {
      "cell_type": "markdown",
      "source": [
        "4) Crie um algoritmo utilizando funções que leia um número N maior que 0 e exiba a saída da seguinte forma:\n",
        "\n",
        "N = 2\n",
        "1\n",
        "2 2\n",
        "\n",
        "N = 4\n",
        "1\n",
        "2 2\n",
        "3 3 3\n",
        "4 4 4 4"
      ],
      "metadata": {
        "id": "JRll314YQdzB"
      }
    },
    {
      "cell_type": "markdown",
      "source": [
        "5) Crie um algoritmo utilizando funções que leia um número N e exiba a saída da seguinte forma:\n",
        "\n",
        "N = 2\n",
        "1\n",
        "1 2\n",
        "\n",
        "N = 4\n",
        "1\n",
        "1 2\n",
        "1 2 3\n",
        "1 2 3 4"
      ],
      "metadata": {
        "id": "_zaH81G1Qj7n"
      }
    },
    {
      "cell_type": "code",
      "source": [
        ""
      ],
      "metadata": {
        "id": "f0XIV6nmQvOH"
      },
      "execution_count": null,
      "outputs": []
    },
    {
      "cell_type": "markdown",
      "source": [
        ""
      ],
      "metadata": {
        "id": "9gzF12ObQvwg"
      }
    }
  ]
}