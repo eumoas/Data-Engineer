{
  "nbformat": 4,
  "nbformat_minor": 0,
  "metadata": {
    "colab": {
      "name": "PROVA.ipynb",
      "provenance": [],
      "authorship_tag": "ABX9TyP3ORH9VZSCouzLgnfOmg0b",
      "include_colab_link": true
    },
    "kernelspec": {
      "name": "python3",
      "display_name": "Python 3"
    },
    "language_info": {
      "name": "python"
    }
  },
  "cells": [
    {
      "cell_type": "markdown",
      "metadata": {
        "id": "view-in-github",
        "colab_type": "text"
      },
      "source": [
        "<a href=\"https://colab.research.google.com/github/eumoas/Data-Engineer/blob/main/PROVA.ipynb\" target=\"_parent\"><img src=\"https://colab.research.google.com/assets/colab-badge.svg\" alt=\"Open In Colab\"/></a>"
      ]
    },
    {
      "cell_type": "markdown",
      "source": [
        "1) Um palíndromo é uma palavra ou frase que pode ser lida no seu sentido normal, da esquerda para a direita, bem como no sentido contrário, da direita para a esquerda, sem que haja mudança nas palavras que a formam e no seu significado.\n",
        "Exemplos: \n",
        "a ) amor a roma          b) o lobo ama o bolo    c) socorram-me subi no onibus em marrocos"
      ],
      "metadata": {
        "id": "Fhho3qCR9Pd8"
      }
    },
    {
      "cell_type": "code",
      "source": [
        "p = str(input('Escreva uma palavra/frase: ')).strip().upper()\n",
        "print(f\"O contrário de {p.replace(' ', '')} é {p[::-1].replace(' ', '')}\")\n",
        "print(\"O texto abaixo é palíndromo!\" if p[::].replace(' ', '') == p[::-1].replace(' ', '') else \"O texto não é palíndromo!\")"
      ],
      "metadata": {
        "id": "Lvj_fLfW9UHT"
      },
      "execution_count": null,
      "outputs": []
    },
    {
      "cell_type": "markdown",
      "source": [
        "2) Crie um algoritmo em python que leia um número inteiro N, positivo e mostre na tela a soma dos números de 1 até N.     ( 1 + 2 + 3 + 4 ……. + N)\n",
        "\n"
      ],
      "metadata": {
        "id": "DJfZMfB--Dvm"
      }
    },
    {
      "cell_type": "code",
      "source": [
        "def soma(n1, n2):\n",
        "  return n1 + n2\n",
        "\n",
        "while True:\n",
        "  try:\n",
        "    num1 = int(input('Digite o primeiro número'))\n",
        "    num2 = int(input('Digite o segundo número'))\n",
        "    break\n",
        "  except:\n",
        "    print('Digite números inteiros')\n",
        "\n",
        "retorno = soma(num1, num2)\n",
        "\n",
        "print(f'O resultado da soma de {num1} e {num2} é {retorno}.')\n",
        "\n"
      ],
      "metadata": {
        "id": "fwb7_iXr-Kl9"
      },
      "execution_count": null,
      "outputs": []
    },
    {
      "cell_type": "markdown",
      "source": [
        "3) Crie um algoritmo em python que leia um número inteiro positivo N e preencha uma lista com os N primeiros números da sequência abaixo. O primeiro número da sequência é o 2.\n",
        "\n",
        "\n"
      ],
      "metadata": {
        "id": "M5m_ozke-XbI"
      }
    },
    {
      "cell_type": "code",
      "source": [
        "i = int(input(\"Digite por onde deseja começar sua PA: \"))\n",
        "r = int(input(\"Digite a razão da soma da PA: \"))\n",
        "for pa in range(i, 10*r + i, r):\n",
        "  pa+=r\n",
        "  print(pa)\n",
        "\n",
        "\n",
        "\n"
      ],
      "metadata": {
        "id": "t_54dJ9_-b8h"
      },
      "execution_count": null,
      "outputs": []
    },
    {
      "cell_type": "markdown",
      "source": [
        "4) Faça um algoritmo que leia e armazene em um dicionário informações sobre nome, idade, altura, peso, cpf, rg,  endereço e telefone de uma pessoa. Todos esses dados deverão ser enviados via usuário. Ao final, percorra o dicionário já criado e exiba as informações que nele estão preenchidas. Não esqueça de fazer as validações quanto a valores inteiros e reais.\n",
        "\n"
      ],
      "metadata": {
        "id": "jJ4oiC7T-xZE"
      }
    },
    {
      "cell_type": "code",
      "source": [
        "n=int(input())\n",
        "pessoa={}\n",
        "for i in range(n):\n",
        "    a='pessoa'+str(i+1)\n",
        "    pessoa[a]={'nome': input('Nome')}\n",
        "    pessoa[a]['idade']=input('Idade')\n",
        "    pessoa[a]['altura']=input('Altura')\n",
        "    pessoa[a]['peso']=input('Peso')\n",
        "    pessoa[a]['cpf']=input('CPF')\n",
        "    pessoa[a]['rg']=input('RG')\n",
        "    pessoa[a]['endereço']=input('Endereço')\n",
        "    pessoa[a]['telefone']=input('Telefone')\n",
        "print(pessoa)\n",
        "for i,j in pessoa.items():\n",
        "    print(\"\\n\",i, \": \",\"\\nNome: \",j['nome'], \"\\nIdade:\",j['idade'],\"\\nAltura:\",j['altura'],\"\\nPeso:\",j['peso'],\"\\nCPF:\",j['cpf'],\"\\nRG:\",j['rg'], \"\\nEndereço:\", j['endereço']\"\\nTelefone:\", j['telefone'])\n",
        "\n",
        "\n",
        "\n"
      ],
      "metadata": {
        "id": "lCO206-z-zvm"
      },
      "execution_count": null,
      "outputs": []
    },
    {
      "cell_type": "markdown",
      "source": [
        "5) 5) Crie um programa que leia o valor de um salário em reais e calcule o valor do INSS (de acordo com a faixa salarial), , FGTS e Imposto de Renda(Se aplicável) e ao final informe o salário bruto, o valor de cada uma das retenções e o salário líquido do funcionário. Você deverá usar funções para encontrar os valores de FGTS e INSS. O restante fica ao seu critério\n",
        "\n",
        "INSS - \n",
        "12% (Até R$2400,00)\n",
        "15% (Acima de R$2400,00)\n",
        "\n",
        "FGTS - 8%\n"
      ],
      "metadata": {
        "id": "_6ibdTN2_D4k"
      }
    },
    {
      "cell_type": "code",
      "source": [
        "n1= float(input('Qual é o salário do Funcionário? '))\n",
        "n2 = n1 + (n1*12/100)\n",
        "n3 = n1 + (n1*8/100)\n",
        "print('Um funcionário que ganhava R${:.2f}, com 12% a mais, receberá\n",
        " R${:.2f}.'.format(n1,n2))"
      ],
      "metadata": {
        "colab": {
          "base_uri": "https://localhost:8080/"
        },
        "id": "hFimMxyg_Hb9",
        "outputId": "55bea318-e960-4688-e5c3-1b74582d13ad"
      },
      "execution_count": 6,
      "outputs": [
        {
          "output_type": "stream",
          "name": "stdout",
          "text": [
            "Qual é o salário do Funcionário? 1000\n",
            "Um funcionário que ganhava R$1000.00, com 12% a mais, receberá R$1120.00.\n"
          ]
        }
      ]
    },
    {
      "cell_type": "code",
      "execution_count": null,
      "metadata": {
        "id": "jRj1v81pyaa-"
      },
      "outputs": [],
      "source": [
        "\n",
        "\n",
        "\n",
        "x = str(input(\"Digite uma palavra/frase: \")).strip().upper()\n",
        "print(f\"O contrário de {x.replace(' ', '')} é {x[::-1].replace(' ', '')}\")\n",
        "print(\"É palíndromo!\" if x[::].replace(' ', '') == x[::-1].replace(' ', '') else \"Não é palíndromo!\")\n",
        "\n",
        "\n",
        "#2 print(\"Calculo da soma dos n primeiros inteiros positivos\")\n",
        "\n",
        "    # leia o valor de n\n",
        "    n = int(input(\"Digite o valor de n: \"))\n",
        "\n",
        "    # calcule a soma de uma PA de razão 1\n",
        "    soma = n * (n + 1) // 2 # divisão inteira\n",
        "\n",
        "    # imprima a soma\n",
        "    print(\"A soma dos\", n, \"primeiros inteiros positivos é\", soma)\n",
        "\n",
        "# . . . . . . . . . . . . . . . . . . . . . . . . . . . . . . . .\n",
        "main()\n",
        "\n",
        "\n",
        "\n",
        "\n",
        "\n",
        "#2 n1 = int(input(\"Digite o valor de n1: \"))\n",
        "n2 = int(input(\"Digite o valor de n2: \"))\n",
        "\n",
        "soma = 0\n",
        "\n",
        "i = n1\n",
        "\n",
        "while i < n2: //Para somar o n2 também, é só colocar <=\n",
        "    soma = soma + i\n",
        "    i = i + 1\n",
        "\n",
        "print(\"O valor da soma é = \", soma)\n",
        "\n",
        "\"\"\"7)Desenvolver um algoritmo que leia um número N DE VALORES e calcule e escreva a média aritmética dos valores lidos,\n",
        "a quantidade de valores positivos e a quantidade de valores negativos.\"\"\"\n",
        "n=int(input())\n",
        "count=0\n",
        "countN=0\n",
        "media=0\n",
        "for i in range(n):\n",
        "    num=int(input())\n",
        "    media=num+media\n",
        "    if(num>0):\n",
        "        count+=1\n",
        "    else:\n",
        "        countN+=1\n",
        "print(media/n)\n",
        "print(\"Positivos \", count, \"Negativos \", countN )"
      ]
    },
    {
      "cell_type": "markdown",
      "source": [
        "2 \n",
        "\n",
        "\n"
      ],
      "metadata": {
        "id": "3A8SxGee6txI"
      }
    },
    {
      "cell_type": "code",
      "source": [
        "numero1 = int (input(\"Digite o primeiro numero: \"))\n",
        "\n",
        "numero2 = int (input(\"Digite o segundo numero: \"))\n",
        "\n",
        "resultado = 0\n",
        "\n",
        "resultado = list(range(numero1,numero2))\n",
        "\n",
        "print (sum(resultado))"
      ],
      "metadata": {
        "colab": {
          "base_uri": "https://localhost:8080/"
        },
        "id": "ZUXiBW5l6vaC",
        "outputId": "77774e03-85fd-4856-975f-a0b8cdb8181e"
      },
      "execution_count": 4,
      "outputs": [
        {
          "output_type": "stream",
          "name": "stdout",
          "text": [
            "Digite o primeiro numero: 4\n",
            "Digite o segundo numero: 5\n",
            "4\n"
          ]
        }
      ]
    },
    {
      "cell_type": "code",
      "source": [
        "print(\"Calculo da soma dos n primeiros inteiros positivos\")\n",
        "\n",
        "    # leia o valor de n\n",
        "    n= int(input(\"Digite o valor de n: \"))\n",
        "\n",
        "    # calcule a soma de uma PA de razão 1\n",
        "    soma = n * (n + 1) // 2 # divisão inteira\n",
        "\n",
        "    # imprima a soma\n",
        "    print(\"A soma dos\", n, \"primeiros inteiros positivos é\", soma)\n",
        "\n",
        "# . . . . . . . . . . . . . . . . . . . . . . . . . . . . . . . .\n",
        "main()\n",
        "\n",
        "\n",
        "\n",
        "\n",
        "5)Escreva um algoritmo que leia um valor inicial A e uma razão R e imprima uma seqüência em\n",
        "P.A. contendo 10 valores. \"\"\"\n",
        "a=int(input())\n",
        "r=int(input())\n",
        "for i  in range(10):\n",
        "    print(a, end=' ')\n",
        "    a=a+r"
      ],
      "metadata": {
        "id": "NWnBydTJ0l0r"
      },
      "execution_count": null,
      "outputs": []
    },
    {
      "cell_type": "code",
      "source": [
        "\"\"\"19) Crie um programa que cadastre informações de várias pessoas (nome, idade e cpf) e depois coloque em um dicionário. Depois remova todas as\n",
        "pessoas menores de 18 anos do dicionário e coloque em outro dicionário.\"\"\"\n",
        "pessoa={}\n",
        "pessoamenor={}\n",
        "n=int(input())\n",
        "excluir=[]\n",
        "for i in range(n):\n",
        "    cpf=input('CPF')\n",
        "    pessoa[cpf]={'nome':input('Nome')}\n",
        "    pessoa[cpf]['idade']=int(input('Idade'))\n",
        "    \n",
        "for i in pessoa:\n",
        "    if pessoa[i]['idade']<18:\n",
        "        pessoamenor[i]=pessoa[i]\n",
        "        excluir.append(i)\n",
        "for i in excluir:\n",
        "    pessoa.pop(i)\n",
        "        \n",
        "print('Pessoa: ',pessoa)\n",
        "print('Menores:',pessoamenor)\n",
        "\n"
      ],
      "metadata": {
        "id": "QocviNeM1sT_"
      },
      "execution_count": null,
      "outputs": []
    },
    {
      "cell_type": "code",
      "source": [
        "\"\"\"18) Crie um dicionário clientes e coloque nele os\n",
        "dados fornecidos pelo usuário: nome, idade, telefone,endereço.\n",
        "Em seguida, imprima todos os itens do dicionário no formato chave : valor, ordenado pela chave\"\"\"\n",
        "n=int(input())\n",
        "clientes={}\n",
        "for i in range(n):\n",
        "    a='cliente'+str(i+1)\n",
        "    clientes[a]={'nome': input('Nome')}\n",
        "    clientes[a]['idade']=input('Idade')\n",
        "    clientes[a]['telefone']=input('Telefone')\n",
        "    clientes[a]['endereço']=input('Endereço')\n",
        "print(clientes)\n",
        "for i,j in clientes.items():\n",
        "    print(\"\\n\",i, \": \",\"\\nNome: \",j['nome'], \"\\nIdade:\",j['idade'],\"\\nTelefone:\", j['telefone'],\"\\nEndereço:\", j['endereço'])\n",
        "\n",
        "\n",
        "   "
      ],
      "metadata": {
        "id": "5BCrb49J1vTH"
      },
      "execution_count": null,
      "outputs": []
    },
    {
      "cell_type": "code",
      "source": [
        "pessoas={}\n",
        "pessoas['nome']=input()\n",
        "pessoas['idade']=int(input())\n",
        "pessoas['telefone']=input()\n",
        "pessoas['endereco']=input()\n",
        "print(pessoas['nome'])\n",
        "\n",
        "\n",
        "\n"
      ],
      "metadata": {
        "id": "40DXvEfS4TVs"
      },
      "execution_count": null,
      "outputs": []
    },
    {
      "cell_type": "code",
      "source": [
        "\n",
        "\n",
        "\n",
        "salário=float(input(\"Digite o salário para cálculo do imposto: \"))\n",
        "base = salário ❶\n",
        "imposto = 0\n",
        "if base > 3000: ❷\n",
        "imposto = imposto + ((base - 3000) * 0.35) ❸\n",
        "base = 3000 ❹\n",
        "if base > 1000: ❺\n",
        "imposto = imposto + ((base - 1000) * 0.20) ❻\n",
        "print(\"Salário: R$%6.2f Imposto a pagar: R$%6.2f\" % (salário, imposto))\n"
      ],
      "metadata": {
        "id": "BBx8DX_Y8s6I"
      },
      "execution_count": null,
      "outputs": []
    }
  ]
}