{
  "nbformat": 4,
  "nbformat_minor": 0,
  "metadata": {
    "colab": {
      "name": "Copy of Listas_BC12.ipynb",
      "provenance": [],
      "include_colab_link": true
    },
    "kernelspec": {
      "name": "python3",
      "display_name": "Python 3"
    },
    "language_info": {
      "name": "python"
    }
  },
  "cells": [
    {
      "cell_type": "markdown",
      "metadata": {
        "id": "view-in-github",
        "colab_type": "text"
      },
      "source": [
        "<a href=\"https://colab.research.google.com/github/eumoas/Data-Engineer/blob/main/Copy_of_Listas_BC12.ipynb\" target=\"_parent\"><img src=\"https://colab.research.google.com/assets/colab-badge.svg\" alt=\"Open In Colab\"/></a>"
      ]
    },
    {
      "cell_type": "code",
      "execution_count": null,
      "metadata": {
        "id": "dFPnb9m7enOO",
        "colab": {
          "base_uri": "https://localhost:8080/"
        },
        "outputId": "c6e1a017-9884-44e9-fe38-d848751c7635"
      },
      "outputs": [
        {
          "output_type": "stream",
          "name": "stdout",
          "text": [
            "Bismark\n",
            "Jéssica\n",
            "Igor\n",
            "['Marcelo', 'Everton', 'Juliana', 'Jéssica', 'Igor']\n"
          ]
        }
      ],
      "source": [
        "#DECLARANDO LISTAS NO PYTHON\n",
        "\n",
        "nome = 'Bismark'\n",
        "nomes = ['Bismark', 'Everton', 'Juliana', 'Jéssica', 'Igor']\n",
        "type(nomes)\n",
        "\n",
        "lista = [10, 20, 'Produtos', True, False, 10, 10.5, 19.8]\n",
        "\n",
        "print(nomes[0])\n",
        "print(nomes[3])\n",
        "print(nomes[-1])\n",
        "\n",
        "#LISTA É MUTÁVEL\n",
        "nomes[0] = 'Marcelo'\n",
        "\n",
        "print(nomes)\n"
      ]
    },
    {
      "cell_type": "code",
      "source": [
        "from google.colab import drive\n",
        "drive.mount('/content/drive')"
      ],
      "metadata": {
        "id": "JnTLjVi8XZQU"
      },
      "execution_count": null,
      "outputs": []
    },
    {
      "cell_type": "code",
      "source": [
        "nomes = ['Bismark','Bismark', 'Everton', 'Juliana', 'Jéssica', 'Igor']\n",
        "\n",
        "for i in range(len(nomes)):\n",
        "  print(nomes[i])\n",
        "\n",
        "#INSERINDO VALORES NA MINHA LISTA\n",
        "nomes.append('Artur')\n",
        "nomes.insert(2, 'Novo_nome')\n",
        "\n",
        "#REMOVENDO VALORES NA MINHA LISTA\n",
        "nomes.pop()\n",
        "#nomes.pop(0)\n",
        "nomes.remove('Bismark')\n",
        "#del nomes[0:3]\n",
        "print('----------------------')\n",
        "\n",
        "for i in range(len(nomes)):\n",
        "  print(nomes[i])\n",
        "\n",
        "#Pesquisar elementos dentro de uma lista\n",
        "'Pedro' in nomes\n",
        "\n",
        "\n",
        "\n"
      ],
      "metadata": {
        "colab": {
          "base_uri": "https://localhost:8080/"
        },
        "id": "t7lz09w2AEQm",
        "outputId": "39f8039c-113a-4043-f455-ec15ff450574"
      },
      "execution_count": null,
      "outputs": [
        {
          "output_type": "stream",
          "name": "stdout",
          "text": [
            "Bismark\n",
            "Bismark\n",
            "Everton\n",
            "Juliana\n",
            "Jéssica\n",
            "Igor\n",
            "----------------------\n",
            "Bismark\n",
            "Novo_nome\n",
            "Everton\n",
            "Juliana\n",
            "Jéssica\n",
            "Igor\n"
          ]
        },
        {
          "output_type": "execute_result",
          "data": {
            "text/plain": [
              "False"
            ]
          },
          "metadata": {},
          "execution_count": 19
        }
      ]
    },
    {
      "cell_type": "code",
      "source": [
        "#FATIAR UMA LISTA\n",
        "carros = ['Corolla', 'Golf', 'Hilux', 'Opala', 'HB20']\n",
        "# carros[indice_inicial:indice_final:incremento/decremento]\n",
        "carros[0:3]\n",
        "carros[-3:-1]\n",
        "carros[0:5:2]\n",
        "carros[:]\n",
        "carros[:-1]\n",
        "carros[::-1]\n",
        "carros[-1]\n",
        "carros[-1:-3:-1]\n",
        "carros[len(carros)-1]\n",
        "\n",
        "carros.count('Corolla')\n",
        "\n",
        "carros.reverse()\n",
        "\n",
        "carros\n",
        "\n",
        "carros.reverse()\n",
        "\n",
        "carros\n",
        "\n",
        "carros.sort()\n",
        "\n",
        "carros"
      ],
      "metadata": {
        "colab": {
          "base_uri": "https://localhost:8080/"
        },
        "id": "haq9smVXA6T7",
        "outputId": "6210c0e0-7f06-49b5-9ddb-b39e13d4ec18"
      },
      "execution_count": null,
      "outputs": [
        {
          "output_type": "execute_result",
          "data": {
            "text/plain": [
              "['Corolla', 'Golf', 'HB20', 'Hilux', 'Opala']"
            ]
          },
          "metadata": {},
          "execution_count": 44
        }
      ]
    },
    {
      "cell_type": "code",
      "source": [
        "numeros = [98, 35, 10, 44, 1, 1989, -50, -200, 0]\n",
        "numeros.sort()\n",
        "numeros.reverse()\n",
        "\n",
        "# ou numeros.sort(reverse=True)\n",
        "numeros"
      ],
      "metadata": {
        "colab": {
          "base_uri": "https://localhost:8080/",
          "height": 201
        },
        "id": "QA2JDgmGLSzH",
        "outputId": "49756f16-0a4f-4a97-d72c-90dab3cc7e85"
      },
      "execution_count": null,
      "outputs": [
        {
          "output_type": "error",
          "ename": "TypeError",
          "evalue": "ignored",
          "traceback": [
            "\u001b[0;31m---------------------------------------------------------------------------\u001b[0m",
            "\u001b[0;31mTypeError\u001b[0m                                 Traceback (most recent call last)",
            "\u001b[0;32m<ipython-input-47-239ef87a4ad1>\u001b[0m in \u001b[0;36m<module>\u001b[0;34m()\u001b[0m\n\u001b[1;32m      1\u001b[0m \u001b[0mnumeros\u001b[0m \u001b[0;34m=\u001b[0m \u001b[0;34m[\u001b[0m\u001b[0;36m98\u001b[0m\u001b[0;34m,\u001b[0m \u001b[0;36m35\u001b[0m\u001b[0;34m,\u001b[0m \u001b[0;36m10\u001b[0m\u001b[0;34m,\u001b[0m \u001b[0;36m44\u001b[0m\u001b[0;34m,\u001b[0m \u001b[0;36m1\u001b[0m\u001b[0;34m,\u001b[0m \u001b[0;36m1989\u001b[0m\u001b[0;34m,\u001b[0m \u001b[0;34m-\u001b[0m\u001b[0;36m50\u001b[0m\u001b[0;34m,\u001b[0m \u001b[0;34m-\u001b[0m\u001b[0;36m200\u001b[0m\u001b[0;34m,\u001b[0m \u001b[0;36m0\u001b[0m\u001b[0;34m]\u001b[0m\u001b[0;34m\u001b[0m\u001b[0;34m\u001b[0m\u001b[0m\n\u001b[0;32m----> 2\u001b[0;31m \u001b[0mnumeros\u001b[0m\u001b[0;34m.\u001b[0m\u001b[0msort\u001b[0m\u001b[0;34m(\u001b[0m\u001b[0;34m-\u001b[0m\u001b[0;36m1\u001b[0m\u001b[0;34m)\u001b[0m\u001b[0;34m\u001b[0m\u001b[0;34m\u001b[0m\u001b[0m\n\u001b[0m\u001b[1;32m      3\u001b[0m \u001b[0mnumeros\u001b[0m\u001b[0;34m\u001b[0m\u001b[0;34m\u001b[0m\u001b[0m\n",
            "\u001b[0;31mTypeError\u001b[0m: sort() takes no positional arguments"
          ]
        }
      ]
    },
    {
      "cell_type": "code",
      "source": [
        "cores = ['Azul', 'Vermelho', 'Branco']\n",
        "\n",
        "for variavel in cores:\n",
        "  print(variavel)\n",
        "\n",
        "\n",
        "\n",
        "print('------------------------------------------')\n",
        "\n",
        "\n",
        "\n",
        "for i in range(len(cores)):\n",
        "  print(cores[i])\n",
        "\n",
        "\n",
        "\n"
      ],
      "metadata": {
        "colab": {
          "base_uri": "https://localhost:8080/"
        },
        "id": "ZsETx5fWNIYt",
        "outputId": "249bd4c9-3acd-4943-df26-aa2eb07d9f8b"
      },
      "execution_count": null,
      "outputs": [
        {
          "output_type": "stream",
          "name": "stdout",
          "text": [
            "Azul\n",
            "Vermelho\n",
            "Branco\n",
            "------------------------------------------\n",
            "Azul\n",
            "Vermelho\n",
            "Branco\n"
          ]
        }
      ]
    },
    {
      "cell_type": "code",
      "source": [
        "#Inserir em uma lista de tamanho N (inserido pelo usuário), notas de 0 a 10. Em seguida, exibir a média\n",
        "\n",
        "lista_notas = [] # Iniciar uma lista vazia\n",
        "n = -1\n",
        "while n < 0:\n",
        "  n = int(input('Digite um número: '))\n",
        "\n",
        "for i in range(n):\n",
        "  nota = float(input(\"Digite a nota\"))\n",
        "  while nota < 0 or nota > 10:\n",
        "    nota = float(input(\"Nota inválida! Digite a nota novamente\"))\n",
        "  lista_notas.append(nota)\n",
        "\n",
        "somaNotas = 0\n",
        "\n",
        "for i in range(len(lista_notas)):\n",
        "  somaNotas += lista_notas[i]\n",
        "\n",
        "mediaNotas = somaNotas / len(lista_notas)\n",
        "\n",
        "print(f'A media das notas lidas é {mediaNotas}')"
      ],
      "metadata": {
        "colab": {
          "base_uri": "https://localhost:8080/"
        },
        "id": "hizdtvnXOKTC",
        "outputId": "3f9a0198-96f6-4af1-fb62-af38ee3329fb"
      },
      "execution_count": null,
      "outputs": [
        {
          "output_type": "stream",
          "name": "stdout",
          "text": [
            "Digite um número: 3\n",
            "Digite a nota10\n",
            "Digite a nota8\n",
            "Digite a nota6\n",
            "A media das notas lidas é 8.0\n"
          ]
        }
      ]
    }
  ]
}